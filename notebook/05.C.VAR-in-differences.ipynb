{
 "cells": [
  {
   "cell_type": "code",
   "execution_count": 402,
   "metadata": {},
   "outputs": [],
   "source": [
    "import os\n",
    "import pandas as pd\n",
    "import seaborn as sns\n",
    "import random\n",
    "from datetime import date\n",
    "from dateutil.relativedelta import relativedelta\n",
    "from math import floor\n",
    "\n",
    "from sklearn.metrics import mean_squared_error\n",
    "from statsmodels.tsa.api import VAR\n",
    "from statsmodels.tsa.stattools import adfuller"
   ]
  },
  {
   "cell_type": "code",
   "execution_count": 20,
   "metadata": {},
   "outputs": [],
   "source": [
    "# Based on:\n",
    "# Lecture notes from Prof. Burc Ulengin\n",
    "# This blog post: https://www.machinelearningplus.com/time-series/vector-autoregression-examples-python/"
   ]
  },
  {
   "cell_type": "code",
   "execution_count": 21,
   "metadata": {},
   "outputs": [],
   "source": [
    "data_folder = '../03.clean-data/'\n",
    "positive_monthly_return_cutoff = 0.002"
   ]
  },
  {
   "cell_type": "markdown",
   "metadata": {},
   "source": [
    "## Load Data"
   ]
  },
  {
   "cell_type": "code",
   "execution_count": 22,
   "metadata": {},
   "outputs": [],
   "source": [
    "hpi = pd.read_csv(os.path.join(data_folder, 'hpi.csv'), parse_dates=['Date']) # Load\n",
    "hpi.sort_values(['Area', 'Type', 'Date'], inplace=True) # Sort\n",
    "hpi.reset_index(inplace=True)"
   ]
  },
  {
   "cell_type": "markdown",
   "metadata": {},
   "source": [
    "## Check for Stationarity"
   ]
  },
  {
   "cell_type": "code",
   "execution_count": 23,
   "metadata": {},
   "outputs": [],
   "source": [
    "# https://www.statsmodels.org/dev/generated/statsmodels.tsa.stattools.adfuller.html\n",
    "# The p-values are obtained through regression surface approximation from MacKinnon 1994, but using the updated 2010 tables. If the p-value is close to significant, then the critical values should be used to judge whether to reject the null."
   ]
  },
  {
   "cell_type": "code",
   "execution_count": 24,
   "metadata": {},
   "outputs": [
    {
     "data": {
      "text/plain": [
       "Area                    Type                  \n",
       "Adjala-Tosorontio       Composite                 False\n",
       "                        Single-Family Detached    False\n",
       "Ajax                    Apartment                 False\n",
       "                        Composite                 False\n",
       "                        Single-Family Attached    False\n",
       "                                                  ...  \n",
       "Whitchurch-Stouffville  Apartment                  True\n",
       "                        Composite                 False\n",
       "                        Single-Family Attached    False\n",
       "                        Single-Family Detached    False\n",
       "                        Townhouse                 False\n",
       "Name: HPI, Length: 286, dtype: bool"
      ]
     },
     "execution_count": 24,
     "metadata": {},
     "output_type": "execute_result"
    }
   ],
   "source": [
    "# Null Hypothesis of Augmented Dickey-Fuller test: series is non-stationary.\n",
    "# So, if the p value is less than 0.05, we will reject that the series are non-stationary, and conclude that they are stationary.\n",
    "# If we fail to reject (p > 0.05) then we fail to reject that the series is non-stationary.\n",
    "# So we think that the the series is non-stationary if p > 0.05\n",
    "def is_stationary(x, p=0.05, **kwargs):\n",
    "    return (adfuller(x, **kwargs)[1] < p)\n",
    "is_panel_stationary = hpi[hpi['HPI'].notnull()].groupby(['Area', 'Type'])['HPI'].apply(is_stationary)\n",
    "is_panel_stationary"
   ]
  },
  {
   "cell_type": "code",
   "execution_count": 25,
   "metadata": {},
   "outputs": [
    {
     "data": {
      "text/plain": [
       "0.006993006993006993"
      ]
     },
     "execution_count": 25,
     "metadata": {},
     "output_type": "execute_result"
    }
   ],
   "source": [
    "is_panel_stationary.sum() / len(is_panel_stationary)"
   ]
  },
  {
   "cell_type": "code",
   "execution_count": 26,
   "metadata": {},
   "outputs": [],
   "source": [
    "# We have evidence that over 99% of the series are non-stationary.\n",
    "# This is the statistical reason for the need use either returns or differences."
   ]
  },
  {
   "cell_type": "markdown",
   "metadata": {},
   "source": [
    "## Get Returns"
   ]
  },
  {
   "cell_type": "code",
   "execution_count": 27,
   "metadata": {},
   "outputs": [],
   "source": [
    "hpi_returns = hpi.copy()"
   ]
  },
  {
   "cell_type": "code",
   "execution_count": 28,
   "metadata": {},
   "outputs": [],
   "source": [
    "hpi_returns['HPI.L1'] = hpi_returns.groupby(['Area', 'Type'])['HPI'].shift(1)\n",
    "hpi_returns['MonthlyChangeInHPI'] = (hpi_returns['HPI'] - hpi_returns['HPI.L1']) / hpi_returns['HPI.L1']"
   ]
  },
  {
   "cell_type": "markdown",
   "metadata": {},
   "source": [
    "## Check for Stationarity in Returns"
   ]
  },
  {
   "cell_type": "code",
   "execution_count": 30,
   "metadata": {},
   "outputs": [
    {
     "data": {
      "text/plain": [
       "Area                    Type                  \n",
       "Adjala-Tosorontio       Composite                 True\n",
       "                        Single-Family Detached    True\n",
       "Ajax                    Apartment                 True\n",
       "                        Composite                 True\n",
       "                        Single-Family Attached    True\n",
       "                                                  ... \n",
       "Whitchurch-Stouffville  Apartment                 True\n",
       "                        Composite                 True\n",
       "                        Single-Family Attached    True\n",
       "                        Single-Family Detached    True\n",
       "                        Townhouse                 True\n",
       "Name: MonthlyChangeInHPI, Length: 286, dtype: bool"
      ]
     },
     "execution_count": 30,
     "metadata": {},
     "output_type": "execute_result"
    }
   ],
   "source": [
    "is_panel_stationary = hpi_returns[hpi_returns['MonthlyChangeInHPI'].notnull()].groupby(['Area', 'Type'])['MonthlyChangeInHPI'].apply(is_stationary)\n",
    "is_panel_stationary"
   ]
  },
  {
   "cell_type": "code",
   "execution_count": 31,
   "metadata": {},
   "outputs": [
    {
     "data": {
      "text/plain": [
       "0.951048951048951"
      ]
     },
     "execution_count": 31,
     "metadata": {},
     "output_type": "execute_result"
    }
   ],
   "source": [
    "is_panel_stationary.sum() / len(is_panel_stationary)"
   ]
  },
  {
   "cell_type": "markdown",
   "metadata": {},
   "source": [
    "## Train VAR Model for One Window"
   ]
  },
  {
   "cell_type": "code",
   "execution_count": 498,
   "metadata": {},
   "outputs": [],
   "source": [
    "window_length = 36  # months before the date we run the forecast on.|"
   ]
  },
  {
   "cell_type": "code",
   "execution_count": 517,
   "metadata": {},
   "outputs": [
    {
     "data": {
      "text/html": [
       "<div>\n",
       "<style scoped>\n",
       "    .dataframe tbody tr th:only-of-type {\n",
       "        vertical-align: middle;\n",
       "    }\n",
       "\n",
       "    .dataframe tbody tr th {\n",
       "        vertical-align: top;\n",
       "    }\n",
       "\n",
       "    .dataframe thead th {\n",
       "        text-align: right;\n",
       "    }\n",
       "</style>\n",
       "<table border=\"1\" class=\"dataframe\">\n",
       "  <thead>\n",
       "    <tr style=\"text-align: right;\">\n",
       "      <th></th>\n",
       "      <th>Area</th>\n",
       "      <th>Type</th>\n",
       "    </tr>\n",
       "  </thead>\n",
       "  <tbody>\n",
       "    <tr>\n",
       "      <th>23233</th>\n",
       "      <td>Toronto W06</td>\n",
       "      <td>Composite</td>\n",
       "    </tr>\n",
       "    <tr>\n",
       "      <th>14993</th>\n",
       "      <td>Toronto E01</td>\n",
       "      <td>Composite</td>\n",
       "    </tr>\n",
       "    <tr>\n",
       "      <th>8916</th>\n",
       "      <td>Toronto C03</td>\n",
       "      <td>Single-Family Attached</td>\n",
       "    </tr>\n",
       "    <tr>\n",
       "      <th>15920</th>\n",
       "      <td>Toronto E03</td>\n",
       "      <td>Apartment</td>\n",
       "    </tr>\n",
       "    <tr>\n",
       "      <th>21276</th>\n",
       "      <td>Toronto W02</td>\n",
       "      <td>Single-Family Attached</td>\n",
       "    </tr>\n",
       "    <tr>\n",
       "      <th>17671</th>\n",
       "      <td>Toronto E06</td>\n",
       "      <td>Single-Family Attached</td>\n",
       "    </tr>\n",
       "    <tr>\n",
       "      <th>21070</th>\n",
       "      <td>Toronto W02</td>\n",
       "      <td>Apartment</td>\n",
       "    </tr>\n",
       "    <tr>\n",
       "      <th>12830</th>\n",
       "      <td>Toronto C12</td>\n",
       "      <td>Apartment</td>\n",
       "    </tr>\n",
       "    <tr>\n",
       "      <th>21585</th>\n",
       "      <td>Toronto W03</td>\n",
       "      <td>Apartment</td>\n",
       "    </tr>\n",
       "    <tr>\n",
       "      <th>21791</th>\n",
       "      <td>Toronto W03</td>\n",
       "      <td>Single-Family Attached</td>\n",
       "    </tr>\n",
       "  </tbody>\n",
       "</table>\n",
       "</div>"
      ],
      "text/plain": [
       "              Area                    Type\n",
       "23233  Toronto W06               Composite\n",
       "14993  Toronto E01               Composite\n",
       "8916   Toronto C03  Single-Family Attached\n",
       "15920  Toronto E03               Apartment\n",
       "21276  Toronto W02  Single-Family Attached\n",
       "17671  Toronto E06  Single-Family Attached\n",
       "21070  Toronto W02               Apartment\n",
       "12830  Toronto C12               Apartment\n",
       "21585  Toronto W03               Apartment\n",
       "21791  Toronto W03  Single-Family Attached"
      ]
     },
     "execution_count": 517,
     "metadata": {},
     "output_type": "execute_result"
    }
   ],
   "source": [
    "# Get a smaller set of panels to avoid non-definite matrices.\n",
    "\n",
    "city_of_toronto_areas = hpi_returns[hpi_returns['Area'].str.startswith('Toronto')].copy()\n",
    "no_townhouses = city_of_toronto_areas['Type'] != 'Townhouse'  # Townhouse indices have some data missingness & seem to be prone to noise.\n",
    "k = 10  # Has to be less than half of the window_length\n",
    "panels = city_of_toronto_areas[no_townhouses].drop_duplicates(['Area', 'Type'])[['Area', 'Type']].sample(n=k)\n",
    "panels\n",
    "\n"
   ]
  },
  {
   "cell_type": "code",
   "execution_count": 518,
   "metadata": {},
   "outputs": [
    {
     "data": {
      "text/plain": [
       "(Timestamp('2012-01-01 00:00:00'),\n",
       " Timestamp('2015-01-01 00:00:00'),\n",
       " Period('2015-01', 'M'),\n",
       " Timestamp('2015-02-01 00:00:00'))"
      ]
     },
     "execution_count": 518,
     "metadata": {},
     "output_type": "execute_result"
    }
   ],
   "source": [
    "start_date = pd.to_datetime(date(2012, 1, 1))\n",
    "end_date = start_date + relativedelta(months=window_length)\n",
    "train = (\n",
    "    hpi_returns\n",
    "        [hpi_returns['Date'].between(start_date, end_date)]\n",
    "        .merge(panels, on=['Area', 'Type'], how='inner')\n",
    "        .pivot_table(values=['MonthlyChangeInHPI'], index=['Date'], columns=['Area', 'Type'])\n",
    ")\n",
    "train.index = pd.DatetimeIndex(train.index).to_period('M')\n",
    "date_of_forecast_being_made = train.index.max()\n",
    "date_of_forecasted_value = end_date + relativedelta(months=1)\n",
    "start_date, end_date, date_of_forecast_being_made, date_of_forecasted_value\n"
   ]
  },
  {
   "cell_type": "code",
   "execution_count": 519,
   "metadata": {},
   "outputs": [],
   "source": [
    "model = VAR(train)\n",
    "criterion = {}\n",
    "models = {}\n",
    "\n",
    "for lag_order in range(1, window_length):\n",
    "    try:\n",
    "        fitted = model.fit(lag_order)\n",
    "        models[lag_order] = fitted\n",
    "        criterion[lag_order] = fitted.aic\n",
    "    except:\n",
    "        pass\n",
    "selected_lag_order = list(dict(sorted(criterion.items(), key=lambda x:x[1])).keys())[0]\n",
    "fitted = models[selected_lag_order]"
   ]
  },
  {
   "cell_type": "code",
   "execution_count": 520,
   "metadata": {},
   "outputs": [
    {
     "data": {
      "text/plain": [
       "<AxesSubplot:>"
      ]
     },
     "execution_count": 520,
     "metadata": {},
     "output_type": "execute_result"
    },
    {
     "data": {
      "image/png": "[encoded data removed]",
      "text/plain": [
       "<Figure size 432x288 with 1 Axes>"
      ]
     },
     "metadata": {
      "needs_background": "light"
     },
     "output_type": "display_data"
    }
   ],
   "source": [
    "sns.lineplot(x=list(criterion.keys()), y=list(criterion.values()))"
   ]
  },
  {
   "cell_type": "code",
   "execution_count": 521,
   "metadata": {},
   "outputs": [
    {
     "data": {
      "text/plain": [
       "4"
      ]
     },
     "execution_count": 521,
     "metadata": {},
     "output_type": "execute_result"
    }
   ],
   "source": [
    "lag_order = fitted.k_ar\n",
    "lag_order"
   ]
  },
  {
   "cell_type": "code",
   "execution_count": 525,
   "metadata": {},
   "outputs": [
    {
     "data": {
      "text/plain": [
       "array([[ 0.02129135,  0.04531384,  0.01818572, -0.00039472,  0.01353676,\n",
       "         0.01628476,  0.01732345, -0.01588253,  0.0135679 ,  0.03164722]])"
      ]
     },
     "execution_count": 525,
     "metadata": {},
     "output_type": "execute_result"
    }
   ],
   "source": [
    "fitted.forecast(y=train.values[-lag_order:], steps=1)"
   ]
  },
  {
   "cell_type": "code",
   "execution_count": 527,
   "metadata": {},
   "outputs": [
    {
     "data": {
      "text/html": [
       "<div>\n",
       "<style scoped>\n",
       "    .dataframe tbody tr th:only-of-type {\n",
       "        vertical-align: middle;\n",
       "    }\n",
       "\n",
       "    .dataframe tbody tr th {\n",
       "        vertical-align: top;\n",
       "    }\n",
       "\n",
       "    .dataframe thead tr th {\n",
       "        text-align: left;\n",
       "    }\n",
       "</style>\n",
       "<table border=\"1\" class=\"dataframe\">\n",
       "  <thead>\n",
       "    <tr>\n",
       "      <th></th>\n",
       "      <th colspan=\"10\" halign=\"left\">MonthlyChangeInHPI</th>\n",
       "    </tr>\n",
       "    <tr>\n",
       "      <th>Area</th>\n",
       "      <th>Toronto C03</th>\n",
       "      <th>Toronto C12</th>\n",
       "      <th>Toronto E01</th>\n",
       "      <th>Toronto E03</th>\n",
       "      <th>Toronto E06</th>\n",
       "      <th colspan=\"2\" halign=\"left\">Toronto W02</th>\n",
       "      <th colspan=\"2\" halign=\"left\">Toronto W03</th>\n",
       "      <th>Toronto W06</th>\n",
       "    </tr>\n",
       "    <tr>\n",
       "      <th>Type</th>\n",
       "      <th>Single-Family Attached</th>\n",
       "      <th>Apartment</th>\n",
       "      <th>Composite</th>\n",
       "      <th>Apartment</th>\n",
       "      <th>Single-Family Attached</th>\n",
       "      <th>Apartment</th>\n",
       "      <th>Single-Family Attached</th>\n",
       "      <th>Apartment</th>\n",
       "      <th>Single-Family Attached</th>\n",
       "      <th>Composite</th>\n",
       "    </tr>\n",
       "  </thead>\n",
       "  <tbody>\n",
       "    <tr>\n",
       "      <th>2015-02-01</th>\n",
       "      <td>0.021291</td>\n",
       "      <td>0.045314</td>\n",
       "      <td>0.018186</td>\n",
       "      <td>-0.000395</td>\n",
       "      <td>0.013537</td>\n",
       "      <td>0.016285</td>\n",
       "      <td>0.017323</td>\n",
       "      <td>-0.015883</td>\n",
       "      <td>0.013568</td>\n",
       "      <td>0.031647</td>\n",
       "    </tr>\n",
       "  </tbody>\n",
       "</table>\n",
       "</div>"
      ],
      "text/plain": [
       "               MonthlyChangeInHPI                                      \\\n",
       "Area                  Toronto C03 Toronto C12 Toronto E01 Toronto E03   \n",
       "Type       Single-Family Attached   Apartment   Composite   Apartment   \n",
       "2015-02-01               0.021291    0.045314    0.018186   -0.000395   \n",
       "\n",
       "                                                                      \\\n",
       "Area                  Toronto E06 Toronto W02                          \n",
       "Type       Single-Family Attached   Apartment Single-Family Attached   \n",
       "2015-02-01               0.013537    0.016285               0.017323   \n",
       "\n",
       "                                                           \n",
       "Area       Toronto W03                        Toronto W06  \n",
       "Type         Apartment Single-Family Attached   Composite  \n",
       "2015-02-01   -0.015883               0.013568    0.031647  "
      ]
     },
     "execution_count": 527,
     "metadata": {},
     "output_type": "execute_result"
    }
   ],
   "source": [
    "forecast = pd.DataFrame(columns=train.columns, index=pd.DatetimeIndex([date_of_forecasted_value]), data=fitted.forecast(y=train.values[-lag_order:], steps=1))\n",
    "forecast\n",
    "\n"
   ]
  },
  {
   "cell_type": "markdown",
   "metadata": {},
   "source": [
    "## VAR model for all Toronto Meighbourhoods & for all dates."
   ]
  },
  {
   "cell_type": "code",
   "execution_count": null,
   "metadata": {},
   "outputs": [],
   "source": [
    "# Loop through all dates, just like in 05.A.\n",
    "# Inside the loop, loop again through all sets of 10 neighbourhoods.\n",
    "# Or just do the \"Composite\" for 12 or so neighbourhoods."
   ]
  }
 ],
 "metadata": {
  "kernelspec": {
   "display_name": "Python 3",
   "language": "python",
   "name": "python3"
  },
  "language_info": {
   "codemirror_mode": {
    "name": "ipython",
    "version": 3
   },
   "file_extension": ".py",
   "mimetype": "text/x-python",
   "name": "python",
   "nbconvert_exporter": "python",
   "pygments_lexer": "ipython3",
   "version": "3.8.5"
  }
 },
 "nbformat": 4,
 "nbformat_minor": 4
}
