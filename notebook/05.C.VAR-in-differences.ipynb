{
 "cells": [
  {
   "cell_type": "code",
   "execution_count": 1,
   "metadata": {},
   "outputs": [],
   "source": [
    "import os\n",
    "import pandas as pd\n",
    "import seaborn as sns\n",
    "import random\n",
    "from datetime import date\n",
    "from dateutil.relativedelta import relativedelta\n",
    "from math import floor\n",
    "\n",
    "from statsmodels.tsa.api import VAR\n",
    "from statsmodels.tsa.stattools import adfuller\n",
    "\n",
    "from sklearn.metrics import mean_squared_error, confusion_matrix, plot_confusion_matrix, accuracy_score\n"
   ]
  },
  {
   "cell_type": "code",
   "execution_count": 2,
   "metadata": {},
   "outputs": [],
   "source": [
    "# Based on:\n",
    "# Lecture notes from Prof. Burc Ulengin\n",
    "# This blog post: https://www.machinelearningplus.com/time-series/vector-autoregression-examples-python/"
   ]
  },
  {
   "cell_type": "code",
   "execution_count": 3,
   "metadata": {},
   "outputs": [],
   "source": [
    "data_folder = '../03.clean-data/'\n",
    "results_folder = '../04.results/'\n",
    "positive_monthly_return_cutoff = 0.002"
   ]
  },
  {
   "cell_type": "code",
   "execution_count": 4,
   "metadata": {},
   "outputs": [],
   "source": [
    "if not os.path.isdir(results_folder):\n",
    "    if not os.path.exists(results_folder):\n",
    "        os.mkdir(results_folder)\n",
    "    else:\n",
    "        raise NotADirectoryError"
   ]
  },
  {
   "cell_type": "markdown",
   "metadata": {},
   "source": [
    "## Load Data"
   ]
  },
  {
   "cell_type": "code",
   "execution_count": 5,
   "metadata": {},
   "outputs": [],
   "source": [
    "hpi = pd.read_csv(os.path.join(data_folder, 'hpi.csv'), parse_dates=['Date']) # Load\n",
    "hpi.sort_values(['Area', 'Type', 'Date'], inplace=True) # Sort\n",
    "hpi.reset_index(inplace=True)"
   ]
  },
  {
   "cell_type": "markdown",
   "metadata": {},
   "source": [
    "## Check for Stationarity"
   ]
  },
  {
   "cell_type": "code",
   "execution_count": 6,
   "metadata": {},
   "outputs": [],
   "source": [
    "# https://www.statsmodels.org/dev/generated/statsmodels.tsa.stattools.adfuller.html\n",
    "# The p-values are obtained through regression surface approximation from MacKinnon 1994, but using the updated 2010 tables. If the p-value is close to significant, then the critical values should be used to judge whether to reject the null."
   ]
  },
  {
   "cell_type": "code",
   "execution_count": 7,
   "metadata": {},
   "outputs": [
    {
     "data": {
      "text/plain": [
       "Area                    Type                  \n",
       "Adjala-Tosorontio       Composite                 False\n",
       "                        Single-Family Detached    False\n",
       "Ajax                    Apartment                 False\n",
       "                        Composite                 False\n",
       "                        Single-Family Attached    False\n",
       "                                                  ...  \n",
       "Whitchurch-Stouffville  Apartment                  True\n",
       "                        Composite                 False\n",
       "                        Single-Family Attached    False\n",
       "                        Single-Family Detached    False\n",
       "                        Townhouse                 False\n",
       "Name: HPI, Length: 286, dtype: bool"
      ]
     },
     "execution_count": 7,
     "metadata": {},
     "output_type": "execute_result"
    }
   ],
   "source": [
    "# Null Hypothesis of Augmented Dickey-Fuller test: series is non-stationary.\n",
    "# So, if the p value is less than 0.05, we will reject that the series are non-stationary, and conclude that they are stationary.\n",
    "# If we fail to reject (p > 0.05) then we fail to reject that the series is non-stationary.\n",
    "# So we think that the the series is non-stationary if p > 0.05\n",
    "def is_stationary(x, p=0.05, **kwargs):\n",
    "    return (adfuller(x, **kwargs)[1] < p)\n",
    "is_panel_stationary = hpi[hpi['HPI'].notnull()].groupby(['Area', 'Type'])['HPI'].apply(is_stationary)\n",
    "is_panel_stationary"
   ]
  },
  {
   "cell_type": "code",
   "execution_count": 8,
   "metadata": {},
   "outputs": [
    {
     "data": {
      "text/plain": [
       "0.006993006993006993"
      ]
     },
     "execution_count": 8,
     "metadata": {},
     "output_type": "execute_result"
    }
   ],
   "source": [
    "is_panel_stationary.sum() / len(is_panel_stationary)"
   ]
  },
  {
   "cell_type": "code",
   "execution_count": 9,
   "metadata": {},
   "outputs": [],
   "source": [
    "# We have evidence that over 99% of the series are non-stationary.\n",
    "# This is the statistical reason for the need use either returns or differences."
   ]
  },
  {
   "cell_type": "markdown",
   "metadata": {},
   "source": [
    "## Calculate Monthly Changes (\"Returns\")"
   ]
  },
  {
   "cell_type": "code",
   "execution_count": 10,
   "metadata": {},
   "outputs": [],
   "source": [
    "hpi_returns = hpi.copy()"
   ]
  },
  {
   "cell_type": "code",
   "execution_count": 11,
   "metadata": {},
   "outputs": [],
   "source": [
    "hpi_returns['HPI.L1'] = hpi_returns.groupby(['Area', 'Type'])['HPI'].shift(1)\n",
    "hpi_returns['HPI.F2'] = hpi_returns.groupby(['Area', 'Type'])['HPI'].shift(-2)\n",
    "hpi_returns['HPI.F5'] = hpi_returns.groupby(['Area', 'Type'])['HPI'].shift(-5)\n",
    "hpi_returns['MonthlyChangeInHPI'] = (hpi_returns['HPI'] - hpi_returns['HPI.L1']) / hpi_returns['HPI.L1']\n",
    "hpi_returns['FutureQuarterlyChangeInHPI'] = (hpi_returns['HPI.F2'] - hpi_returns['HPI.L1']) / hpi_returns['HPI.L1']\n",
    "hpi_returns['FutureSemiAnnualChangeInHPI'] = (hpi_returns['HPI.F5'] - hpi_returns['HPI.L1']) / hpi_returns['HPI.L1']\n",
    "hpi_returns['PositiveMonthlyReturn'] = (hpi_returns['MonthlyChangeInHPI'] > positive_monthly_return_cutoff)"
   ]
  },
  {
   "cell_type": "markdown",
   "metadata": {},
   "source": [
    "## Check for Stationarity in Returns"
   ]
  },
  {
   "cell_type": "code",
   "execution_count": 12,
   "metadata": {},
   "outputs": [
    {
     "data": {
      "text/plain": [
       "Area                    Type                  \n",
       "Adjala-Tosorontio       Composite                 True\n",
       "                        Single-Family Detached    True\n",
       "Ajax                    Apartment                 True\n",
       "                        Composite                 True\n",
       "                        Single-Family Attached    True\n",
       "                                                  ... \n",
       "Whitchurch-Stouffville  Apartment                 True\n",
       "                        Composite                 True\n",
       "                        Single-Family Attached    True\n",
       "                        Single-Family Detached    True\n",
       "                        Townhouse                 True\n",
       "Name: MonthlyChangeInHPI, Length: 286, dtype: bool"
      ]
     },
     "execution_count": 12,
     "metadata": {},
     "output_type": "execute_result"
    }
   ],
   "source": [
    "is_panel_stationary = hpi_returns[hpi_returns['MonthlyChangeInHPI'].notnull()].groupby(['Area', 'Type'])['MonthlyChangeInHPI'].apply(is_stationary)\n",
    "is_panel_stationary"
   ]
  },
  {
   "cell_type": "code",
   "execution_count": 13,
   "metadata": {},
   "outputs": [
    {
     "data": {
      "text/plain": [
       "0.951048951048951"
      ]
     },
     "execution_count": 13,
     "metadata": {},
     "output_type": "execute_result"
    }
   ],
   "source": [
    "is_panel_stationary.sum() / len(is_panel_stationary)"
   ]
  },
  {
   "cell_type": "markdown",
   "metadata": {},
   "source": [
    "## Train VAR Model for One Window"
   ]
  },
  {
   "cell_type": "code",
   "execution_count": 14,
   "metadata": {},
   "outputs": [],
   "source": [
    "window_length = 48  # months before the date we run the forecast on."
   ]
  },
  {
   "cell_type": "code",
   "execution_count": 15,
   "metadata": {},
   "outputs": [],
   "source": [
    "# Get a smaller set of panels to avoid non-definite matrices.\n",
    "\n",
    "city_of_toronto_areas = hpi_returns[hpi_returns['Area'].str.startswith('Toronto')].copy()\n",
    "no_townhouses = city_of_toronto_areas['Type'] != 'Townhouse'  # Townhouse indices have some data missingness & seem to be prone to noise.\n",
    "only_composite_indices = city_of_toronto_areas['Type'] == 'Composite'\n",
    "only_apartment_indices = city_of_toronto_areas['Type'] == 'Apartment'\n",
    "k = 35  # Setting this too large results in singular matrices and the Cholesky decomposition fails.\n",
    "panels = city_of_toronto_areas[only_composite_indices].drop_duplicates(['Area', 'Type'])[['Area', 'Type']].sample(n=k)\n",
    "# panels\n",
    "\n"
   ]
  },
  {
   "cell_type": "code",
   "execution_count": 16,
   "metadata": {},
   "outputs": [
    {
     "data": {
      "text/plain": [
       "Timestamp('2016-07-01 00:00:00', freq='MS')"
      ]
     },
     "execution_count": 16,
     "metadata": {},
     "output_type": "execute_result"
    }
   ],
   "source": [
    "feasible_start_dates = pd.date_range(start=city_of_toronto_areas['Date'].min(), \n",
    "                       end=city_of_toronto_areas['Date'].max() - relativedelta(months=window_length + 6), \n",
    "                       freq='MS')\n",
    "# Choose a random start date for the window.\n",
    "start_date = random.choice(feasible_start_dates)\n",
    "# start_date = pd.to_datetime(date(2015, 1, 1))  # Overwrite the random start date, if needed\n",
    "start_date"
   ]
  },
  {
   "cell_type": "code",
   "execution_count": 17,
   "metadata": {},
   "outputs": [
    {
     "name": "stdout",
     "output_type": "stream",
     "text": [
      "Window Start: 2016-07-01 00:00:00\n",
      "Window End: 2020-07-01 00:00:00\n",
      "Date of the first forecast: 2020-08-01 00:00:00\n"
     ]
    }
   ],
   "source": [
    "end_date = start_date + relativedelta(months=window_length)\n",
    "train = (\n",
    "    hpi_returns\n",
    "        [hpi_returns['Date'].between(start_date, end_date)]\n",
    "        .merge(panels, on=['Area', 'Type'], how='inner')\n",
    "        .pivot_table(values=['MonthlyChangeInHPI'], index=['Date'], columns=['Area', 'Type'])\n",
    ")\n",
    "train.index = pd.DatetimeIndex(train.index).to_period('M')\n",
    "date_of_forecasted_value = end_date + relativedelta(months=1)\n",
    "print(f\"Window Start: {start_date}\\nWindow End: {end_date}\\nDate of the first forecast: {date_of_forecasted_value}\")\n"
   ]
  },
  {
   "cell_type": "markdown",
   "metadata": {},
   "source": [
    "### Model Training"
   ]
  },
  {
   "cell_type": "code",
   "execution_count": 18,
   "metadata": {},
   "outputs": [],
   "source": [
    "model = VAR(train)\n",
    "criterion = {}\n",
    "models = {}\n",
    "\n",
    "for lag_order in range(1, window_length):\n",
    "    try:\n",
    "        fitted = model.fit(lag_order)\n",
    "        models[lag_order] = fitted\n",
    "        criterion[lag_order] = fitted.aic\n",
    "    except:\n",
    "        pass\n",
    "# Next line chooses the model with the lowest AIC value.\n",
    "selected_lag_order = list(dict(sorted(criterion.items(), key=lambda x:x[1])).keys())[0]\n",
    "fitted = models[selected_lag_order]"
   ]
  },
  {
   "cell_type": "markdown",
   "metadata": {},
   "source": [
    "### Model Selection"
   ]
  },
  {
   "cell_type": "code",
   "execution_count": 19,
   "metadata": {},
   "outputs": [
    {
     "data": {
      "text/plain": [
       "<AxesSubplot:>"
      ]
     },
     "execution_count": 19,
     "metadata": {},
     "output_type": "execute_result"
    },
    {
     "data": {
      "image/png": "[encoded data removed]",
      "text/plain": [
       "<Figure size 432x288 with 1 Axes>"
      ]
     },
     "metadata": {
      "needs_background": "light"
     },
     "output_type": "display_data"
    }
   ],
   "source": [
    "sns.lineplot(x=list(criterion.keys()), y=list(criterion.values()))"
   ]
  },
  {
   "cell_type": "code",
   "execution_count": 20,
   "metadata": {},
   "outputs": [
    {
     "data": {
      "text/plain": [
       "array([-1.06267901e-30, -3.41142645e-32, -2.07194149e-32, -1.17775877e-32,\n",
       "       -6.96697337e-33, -6.35834081e-33, -4.00655969e-33, -3.57493594e-33,\n",
       "       -3.07980919e-33, -2.36866681e-33, -1.95726217e-33, -1.71856835e-33,\n",
       "       -1.21935938e-33, -1.17648602e-33, -1.07777155e-33, -8.81639788e-34,\n",
       "       -7.17704307e-34, -5.96374358e-34, -5.44582017e-34, -4.66854568e-34,\n",
       "       -4.11414863e-34, -3.50773581e-34, -3.19832104e-34, -2.63534436e-34,\n",
       "       -2.49150413e-34, -1.74601828e-34, -1.36599567e-34, -1.13803898e-34,\n",
       "       -1.04541829e-34, -7.67484907e-35, -6.39947982e-36, -1.40660860e-35,\n",
       "       -3.07730048e-35, -5.12848366e-35, -4.36681116e-35])"
      ]
     },
     "execution_count": 20,
     "metadata": {},
     "output_type": "execute_result"
    }
   ],
   "source": [
    "import numpy as np\n",
    "np.linalg.eigvals(fitted.sigma_u)"
   ]
  },
  {
   "cell_type": "markdown",
   "metadata": {},
   "source": [
    "### Forecasting"
   ]
  },
  {
   "cell_type": "code",
   "execution_count": 21,
   "metadata": {},
   "outputs": [
    {
     "data": {
      "text/html": [
       "<div>\n",
       "<style scoped>\n",
       "    .dataframe tbody tr th:only-of-type {\n",
       "        vertical-align: middle;\n",
       "    }\n",
       "\n",
       "    .dataframe tbody tr th {\n",
       "        vertical-align: top;\n",
       "    }\n",
       "\n",
       "    .dataframe thead tr th {\n",
       "        text-align: left;\n",
       "    }\n",
       "</style>\n",
       "<table border=\"1\" class=\"dataframe\">\n",
       "  <thead>\n",
       "    <tr>\n",
       "      <th></th>\n",
       "      <th colspan=\"21\" halign=\"left\">MonthlyChangeInHPI</th>\n",
       "    </tr>\n",
       "    <tr>\n",
       "      <th>Area</th>\n",
       "      <th>Toronto C01</th>\n",
       "      <th>Toronto C02</th>\n",
       "      <th>Toronto C03</th>\n",
       "      <th>Toronto C04</th>\n",
       "      <th>Toronto C06</th>\n",
       "      <th>Toronto C07</th>\n",
       "      <th>Toronto C08</th>\n",
       "      <th>Toronto C09</th>\n",
       "      <th>Toronto C10</th>\n",
       "      <th>Toronto C11</th>\n",
       "      <th>...</th>\n",
       "      <th>Toronto W01</th>\n",
       "      <th>Toronto W02</th>\n",
       "      <th>Toronto W03</th>\n",
       "      <th>Toronto W04</th>\n",
       "      <th>Toronto W05</th>\n",
       "      <th>Toronto W06</th>\n",
       "      <th>Toronto W07</th>\n",
       "      <th>Toronto W08</th>\n",
       "      <th>Toronto W09</th>\n",
       "      <th>Toronto W10</th>\n",
       "    </tr>\n",
       "    <tr>\n",
       "      <th>Type</th>\n",
       "      <th>Composite</th>\n",
       "      <th>Composite</th>\n",
       "      <th>Composite</th>\n",
       "      <th>Composite</th>\n",
       "      <th>Composite</th>\n",
       "      <th>Composite</th>\n",
       "      <th>Composite</th>\n",
       "      <th>Composite</th>\n",
       "      <th>Composite</th>\n",
       "      <th>Composite</th>\n",
       "      <th>...</th>\n",
       "      <th>Composite</th>\n",
       "      <th>Composite</th>\n",
       "      <th>Composite</th>\n",
       "      <th>Composite</th>\n",
       "      <th>Composite</th>\n",
       "      <th>Composite</th>\n",
       "      <th>Composite</th>\n",
       "      <th>Composite</th>\n",
       "      <th>Composite</th>\n",
       "      <th>Composite</th>\n",
       "    </tr>\n",
       "  </thead>\n",
       "  <tbody>\n",
       "    <tr>\n",
       "      <th>2020-08-01</th>\n",
       "      <td>0.018077</td>\n",
       "      <td>0.037907</td>\n",
       "      <td>0.006496</td>\n",
       "      <td>-0.023455</td>\n",
       "      <td>-0.003857</td>\n",
       "      <td>-0.004479</td>\n",
       "      <td>0.029505</td>\n",
       "      <td>0.002579</td>\n",
       "      <td>0.071037</td>\n",
       "      <td>-0.046650</td>\n",
       "      <td>...</td>\n",
       "      <td>0.034419</td>\n",
       "      <td>-0.040035</td>\n",
       "      <td>0.026382</td>\n",
       "      <td>-0.012150</td>\n",
       "      <td>-0.010292</td>\n",
       "      <td>0.002870</td>\n",
       "      <td>-0.005790</td>\n",
       "      <td>0.011064</td>\n",
       "      <td>0.025773</td>\n",
       "      <td>0.020301</td>\n",
       "    </tr>\n",
       "    <tr>\n",
       "      <th>2020-09-01</th>\n",
       "      <td>-0.012920</td>\n",
       "      <td>0.021731</td>\n",
       "      <td>-0.059533</td>\n",
       "      <td>-0.014261</td>\n",
       "      <td>0.030822</td>\n",
       "      <td>0.008547</td>\n",
       "      <td>-0.008424</td>\n",
       "      <td>-0.038526</td>\n",
       "      <td>-0.014409</td>\n",
       "      <td>-0.020473</td>\n",
       "      <td>...</td>\n",
       "      <td>0.017471</td>\n",
       "      <td>0.021866</td>\n",
       "      <td>-0.026768</td>\n",
       "      <td>-0.024492</td>\n",
       "      <td>0.010408</td>\n",
       "      <td>0.019621</td>\n",
       "      <td>0.009585</td>\n",
       "      <td>-0.003657</td>\n",
       "      <td>-0.028161</td>\n",
       "      <td>0.010958</td>\n",
       "    </tr>\n",
       "    <tr>\n",
       "      <th>2020-10-01</th>\n",
       "      <td>0.021814</td>\n",
       "      <td>-0.097253</td>\n",
       "      <td>-0.023528</td>\n",
       "      <td>0.032372</td>\n",
       "      <td>0.024306</td>\n",
       "      <td>0.026516</td>\n",
       "      <td>-0.027184</td>\n",
       "      <td>-0.028714</td>\n",
       "      <td>-0.011586</td>\n",
       "      <td>0.020978</td>\n",
       "      <td>...</td>\n",
       "      <td>-0.025351</td>\n",
       "      <td>0.023461</td>\n",
       "      <td>-0.045123</td>\n",
       "      <td>-0.002110</td>\n",
       "      <td>0.016716</td>\n",
       "      <td>0.040082</td>\n",
       "      <td>0.009758</td>\n",
       "      <td>0.015275</td>\n",
       "      <td>0.000893</td>\n",
       "      <td>-0.011066</td>\n",
       "    </tr>\n",
       "    <tr>\n",
       "      <th>2020-11-01</th>\n",
       "      <td>-0.043502</td>\n",
       "      <td>-0.059912</td>\n",
       "      <td>0.016334</td>\n",
       "      <td>0.006038</td>\n",
       "      <td>0.004952</td>\n",
       "      <td>0.012358</td>\n",
       "      <td>-0.001762</td>\n",
       "      <td>-0.019859</td>\n",
       "      <td>-0.071907</td>\n",
       "      <td>0.026619</td>\n",
       "      <td>...</td>\n",
       "      <td>-0.083591</td>\n",
       "      <td>0.026739</td>\n",
       "      <td>0.005284</td>\n",
       "      <td>0.051072</td>\n",
       "      <td>-0.019562</td>\n",
       "      <td>-0.011342</td>\n",
       "      <td>0.007011</td>\n",
       "      <td>-0.003729</td>\n",
       "      <td>0.014668</td>\n",
       "      <td>0.008408</td>\n",
       "    </tr>\n",
       "    <tr>\n",
       "      <th>2020-12-01</th>\n",
       "      <td>0.018032</td>\n",
       "      <td>0.055501</td>\n",
       "      <td>0.028345</td>\n",
       "      <td>-0.043076</td>\n",
       "      <td>-0.049045</td>\n",
       "      <td>-0.027557</td>\n",
       "      <td>-0.016673</td>\n",
       "      <td>-0.000457</td>\n",
       "      <td>0.046075</td>\n",
       "      <td>0.007518</td>\n",
       "      <td>...</td>\n",
       "      <td>-0.009161</td>\n",
       "      <td>-0.022643</td>\n",
       "      <td>0.027221</td>\n",
       "      <td>0.027445</td>\n",
       "      <td>0.023656</td>\n",
       "      <td>0.003481</td>\n",
       "      <td>-0.016878</td>\n",
       "      <td>-0.001229</td>\n",
       "      <td>0.012946</td>\n",
       "      <td>0.028679</td>\n",
       "    </tr>\n",
       "    <tr>\n",
       "      <th>2021-01-01</th>\n",
       "      <td>-0.021808</td>\n",
       "      <td>0.075184</td>\n",
       "      <td>0.010216</td>\n",
       "      <td>-0.028980</td>\n",
       "      <td>-0.011033</td>\n",
       "      <td>-0.013319</td>\n",
       "      <td>0.029306</td>\n",
       "      <td>0.050822</td>\n",
       "      <td>0.053034</td>\n",
       "      <td>-0.028429</td>\n",
       "      <td>...</td>\n",
       "      <td>0.107433</td>\n",
       "      <td>0.012756</td>\n",
       "      <td>0.034941</td>\n",
       "      <td>-0.001281</td>\n",
       "      <td>-0.021616</td>\n",
       "      <td>0.000905</td>\n",
       "      <td>0.014593</td>\n",
       "      <td>-0.013335</td>\n",
       "      <td>0.030836</td>\n",
       "      <td>-0.002560</td>\n",
       "    </tr>\n",
       "  </tbody>\n",
       "</table>\n",
       "<p>6 rows × 35 columns</p>\n",
       "</div>"
      ],
      "text/plain": [
       "           MonthlyChangeInHPI                                                  \\\n",
       "Area              Toronto C01 Toronto C02 Toronto C03 Toronto C04 Toronto C06   \n",
       "Type                Composite   Composite   Composite   Composite   Composite   \n",
       "2020-08-01           0.018077    0.037907    0.006496   -0.023455   -0.003857   \n",
       "2020-09-01          -0.012920    0.021731   -0.059533   -0.014261    0.030822   \n",
       "2020-10-01           0.021814   -0.097253   -0.023528    0.032372    0.024306   \n",
       "2020-11-01          -0.043502   -0.059912    0.016334    0.006038    0.004952   \n",
       "2020-12-01           0.018032    0.055501    0.028345   -0.043076   -0.049045   \n",
       "2021-01-01          -0.021808    0.075184    0.010216   -0.028980   -0.011033   \n",
       "\n",
       "                                                                        ...  \\\n",
       "Area       Toronto C07 Toronto C08 Toronto C09 Toronto C10 Toronto C11  ...   \n",
       "Type         Composite   Composite   Composite   Composite   Composite  ...   \n",
       "2020-08-01   -0.004479    0.029505    0.002579    0.071037   -0.046650  ...   \n",
       "2020-09-01    0.008547   -0.008424   -0.038526   -0.014409   -0.020473  ...   \n",
       "2020-10-01    0.026516   -0.027184   -0.028714   -0.011586    0.020978  ...   \n",
       "2020-11-01    0.012358   -0.001762   -0.019859   -0.071907    0.026619  ...   \n",
       "2020-12-01   -0.027557   -0.016673   -0.000457    0.046075    0.007518  ...   \n",
       "2021-01-01   -0.013319    0.029306    0.050822    0.053034   -0.028429  ...   \n",
       "\n",
       "                                                                        \\\n",
       "Area       Toronto W01 Toronto W02 Toronto W03 Toronto W04 Toronto W05   \n",
       "Type         Composite   Composite   Composite   Composite   Composite   \n",
       "2020-08-01    0.034419   -0.040035    0.026382   -0.012150   -0.010292   \n",
       "2020-09-01    0.017471    0.021866   -0.026768   -0.024492    0.010408   \n",
       "2020-10-01   -0.025351    0.023461   -0.045123   -0.002110    0.016716   \n",
       "2020-11-01   -0.083591    0.026739    0.005284    0.051072   -0.019562   \n",
       "2020-12-01   -0.009161   -0.022643    0.027221    0.027445    0.023656   \n",
       "2021-01-01    0.107433    0.012756    0.034941   -0.001281   -0.021616   \n",
       "\n",
       "                                                                        \n",
       "Area       Toronto W06 Toronto W07 Toronto W08 Toronto W09 Toronto W10  \n",
       "Type         Composite   Composite   Composite   Composite   Composite  \n",
       "2020-08-01    0.002870   -0.005790    0.011064    0.025773    0.020301  \n",
       "2020-09-01    0.019621    0.009585   -0.003657   -0.028161    0.010958  \n",
       "2020-10-01    0.040082    0.009758    0.015275    0.000893   -0.011066  \n",
       "2020-11-01   -0.011342    0.007011   -0.003729    0.014668    0.008408  \n",
       "2020-12-01    0.003481   -0.016878   -0.001229    0.012946    0.028679  \n",
       "2021-01-01    0.000905    0.014593   -0.013335    0.030836   -0.002560  \n",
       "\n",
       "[6 rows x 35 columns]"
      ]
     },
     "execution_count": 21,
     "metadata": {},
     "output_type": "execute_result"
    }
   ],
   "source": [
    "steps = 6\n",
    "forecast = pd.DataFrame(\n",
    "    columns=train.columns, \n",
    "    index=pd.DatetimeIndex(pd.date_range(start=date_of_forecasted_value, periods=steps, freq='MS')), \n",
    "    data=fitted.forecast(y=train.values[-selected_lag_order:], steps=steps))\n",
    "forecast"
   ]
  },
  {
   "cell_type": "code",
   "execution_count": 22,
   "metadata": {},
   "outputs": [
    {
     "data": {
      "text/html": [
       "<div>\n",
       "<style scoped>\n",
       "    .dataframe tbody tr th:only-of-type {\n",
       "        vertical-align: middle;\n",
       "    }\n",
       "\n",
       "    .dataframe tbody tr th {\n",
       "        vertical-align: top;\n",
       "    }\n",
       "\n",
       "    .dataframe thead th {\n",
       "        text-align: right;\n",
       "    }\n",
       "</style>\n",
       "<table border=\"1\" class=\"dataframe\">\n",
       "  <thead>\n",
       "    <tr style=\"text-align: right;\">\n",
       "      <th></th>\n",
       "      <th>Area</th>\n",
       "      <th>Date</th>\n",
       "      <th>Type</th>\n",
       "      <th>HPI</th>\n",
       "      <th>HPI.L1</th>\n",
       "      <th>HPI.F2</th>\n",
       "      <th>HPI.F5</th>\n",
       "      <th>MonthlyChangeInHPI</th>\n",
       "      <th>FutureQuarterlyChangeInHPI</th>\n",
       "      <th>FutureSemiAnnualChangeInHPI</th>\n",
       "      <th>PositiveMonthlyReturn</th>\n",
       "      <th>LastKnownHPI</th>\n",
       "      <th>ForecastedMonthlyChangeInHPI</th>\n",
       "      <th>OnePlusForecastedMonthlyChangeInHPI</th>\n",
       "      <th>OnePlusForecastedCumulativeChangeInHPI</th>\n",
       "      <th>ForecastedHPI</th>\n",
       "    </tr>\n",
       "  </thead>\n",
       "  <tbody>\n",
       "    <tr>\n",
       "      <th>960</th>\n",
       "      <td>Toronto E04</td>\n",
       "      <td>2020-02-01</td>\n",
       "      <td>Composite</td>\n",
       "      <td>293.3</td>\n",
       "      <td>288.1</td>\n",
       "      <td>301.4</td>\n",
       "      <td>311.2</td>\n",
       "      <td>0.018049</td>\n",
       "      <td>0.046165</td>\n",
       "      <td>0.080180</td>\n",
       "      <td>True</td>\n",
       "      <td>311.2</td>\n",
       "      <td>NaN</td>\n",
       "      <td>NaN</td>\n",
       "      <td>NaN</td>\n",
       "      <td>NaN</td>\n",
       "    </tr>\n",
       "    <tr>\n",
       "      <th>961</th>\n",
       "      <td>Toronto E04</td>\n",
       "      <td>2020-03-01</td>\n",
       "      <td>Composite</td>\n",
       "      <td>300.3</td>\n",
       "      <td>293.3</td>\n",
       "      <td>303.5</td>\n",
       "      <td>315.9</td>\n",
       "      <td>0.023866</td>\n",
       "      <td>0.034777</td>\n",
       "      <td>0.077054</td>\n",
       "      <td>True</td>\n",
       "      <td>311.2</td>\n",
       "      <td>NaN</td>\n",
       "      <td>NaN</td>\n",
       "      <td>NaN</td>\n",
       "      <td>NaN</td>\n",
       "    </tr>\n",
       "    <tr>\n",
       "      <th>962</th>\n",
       "      <td>Toronto E04</td>\n",
       "      <td>2020-04-01</td>\n",
       "      <td>Composite</td>\n",
       "      <td>301.4</td>\n",
       "      <td>300.3</td>\n",
       "      <td>302.0</td>\n",
       "      <td>319.1</td>\n",
       "      <td>0.003663</td>\n",
       "      <td>0.005661</td>\n",
       "      <td>0.062604</td>\n",
       "      <td>True</td>\n",
       "      <td>311.2</td>\n",
       "      <td>NaN</td>\n",
       "      <td>NaN</td>\n",
       "      <td>NaN</td>\n",
       "      <td>NaN</td>\n",
       "    </tr>\n",
       "    <tr>\n",
       "      <th>963</th>\n",
       "      <td>Toronto E04</td>\n",
       "      <td>2020-05-01</td>\n",
       "      <td>Composite</td>\n",
       "      <td>303.5</td>\n",
       "      <td>301.4</td>\n",
       "      <td>311.2</td>\n",
       "      <td>320.9</td>\n",
       "      <td>0.006967</td>\n",
       "      <td>0.032515</td>\n",
       "      <td>0.064698</td>\n",
       "      <td>True</td>\n",
       "      <td>311.2</td>\n",
       "      <td>NaN</td>\n",
       "      <td>NaN</td>\n",
       "      <td>NaN</td>\n",
       "      <td>NaN</td>\n",
       "    </tr>\n",
       "    <tr>\n",
       "      <th>964</th>\n",
       "      <td>Toronto E04</td>\n",
       "      <td>2020-06-01</td>\n",
       "      <td>Composite</td>\n",
       "      <td>302.0</td>\n",
       "      <td>303.5</td>\n",
       "      <td>315.9</td>\n",
       "      <td>320.4</td>\n",
       "      <td>-0.004942</td>\n",
       "      <td>0.040857</td>\n",
       "      <td>0.055684</td>\n",
       "      <td>False</td>\n",
       "      <td>311.2</td>\n",
       "      <td>NaN</td>\n",
       "      <td>NaN</td>\n",
       "      <td>NaN</td>\n",
       "      <td>NaN</td>\n",
       "    </tr>\n",
       "    <tr>\n",
       "      <th>965</th>\n",
       "      <td>Toronto E04</td>\n",
       "      <td>2020-07-01</td>\n",
       "      <td>Composite</td>\n",
       "      <td>311.2</td>\n",
       "      <td>302.0</td>\n",
       "      <td>319.1</td>\n",
       "      <td>317.0</td>\n",
       "      <td>0.030464</td>\n",
       "      <td>0.056623</td>\n",
       "      <td>0.049669</td>\n",
       "      <td>True</td>\n",
       "      <td>311.2</td>\n",
       "      <td>NaN</td>\n",
       "      <td>NaN</td>\n",
       "      <td>NaN</td>\n",
       "      <td>NaN</td>\n",
       "    </tr>\n",
       "    <tr>\n",
       "      <th>966</th>\n",
       "      <td>Toronto E04</td>\n",
       "      <td>2020-08-01</td>\n",
       "      <td>Composite</td>\n",
       "      <td>315.9</td>\n",
       "      <td>311.2</td>\n",
       "      <td>320.9</td>\n",
       "      <td>323.8</td>\n",
       "      <td>0.015103</td>\n",
       "      <td>0.031170</td>\n",
       "      <td>0.040488</td>\n",
       "      <td>True</td>\n",
       "      <td>311.2</td>\n",
       "      <td>0.001015</td>\n",
       "      <td>1.001015</td>\n",
       "      <td>1.001015</td>\n",
       "      <td>311.515849</td>\n",
       "    </tr>\n",
       "    <tr>\n",
       "      <th>967</th>\n",
       "      <td>Toronto E04</td>\n",
       "      <td>2020-09-01</td>\n",
       "      <td>Composite</td>\n",
       "      <td>319.1</td>\n",
       "      <td>315.9</td>\n",
       "      <td>320.4</td>\n",
       "      <td>335.6</td>\n",
       "      <td>0.010130</td>\n",
       "      <td>0.014245</td>\n",
       "      <td>0.062362</td>\n",
       "      <td>True</td>\n",
       "      <td>311.2</td>\n",
       "      <td>-0.009306</td>\n",
       "      <td>0.990694</td>\n",
       "      <td>0.991700</td>\n",
       "      <td>308.616983</td>\n",
       "    </tr>\n",
       "    <tr>\n",
       "      <th>968</th>\n",
       "      <td>Toronto E04</td>\n",
       "      <td>2020-10-01</td>\n",
       "      <td>Composite</td>\n",
       "      <td>320.9</td>\n",
       "      <td>319.1</td>\n",
       "      <td>317.0</td>\n",
       "      <td>350.7</td>\n",
       "      <td>0.005641</td>\n",
       "      <td>-0.006581</td>\n",
       "      <td>0.099029</td>\n",
       "      <td>True</td>\n",
       "      <td>311.2</td>\n",
       "      <td>0.012516</td>\n",
       "      <td>1.012516</td>\n",
       "      <td>1.004112</td>\n",
       "      <td>312.479672</td>\n",
       "    </tr>\n",
       "    <tr>\n",
       "      <th>969</th>\n",
       "      <td>Toronto E04</td>\n",
       "      <td>2020-11-01</td>\n",
       "      <td>Composite</td>\n",
       "      <td>320.4</td>\n",
       "      <td>320.9</td>\n",
       "      <td>323.8</td>\n",
       "      <td>352.7</td>\n",
       "      <td>-0.001558</td>\n",
       "      <td>0.009037</td>\n",
       "      <td>0.099096</td>\n",
       "      <td>False</td>\n",
       "      <td>311.2</td>\n",
       "      <td>-0.017485</td>\n",
       "      <td>0.982515</td>\n",
       "      <td>0.986555</td>\n",
       "      <td>307.015813</td>\n",
       "    </tr>\n",
       "    <tr>\n",
       "      <th>970</th>\n",
       "      <td>Toronto E04</td>\n",
       "      <td>2020-12-01</td>\n",
       "      <td>Composite</td>\n",
       "      <td>317.0</td>\n",
       "      <td>320.4</td>\n",
       "      <td>335.6</td>\n",
       "      <td>NaN</td>\n",
       "      <td>-0.010612</td>\n",
       "      <td>0.047441</td>\n",
       "      <td>NaN</td>\n",
       "      <td>False</td>\n",
       "      <td>311.2</td>\n",
       "      <td>0.015130</td>\n",
       "      <td>1.015130</td>\n",
       "      <td>1.001481</td>\n",
       "      <td>311.661020</td>\n",
       "    </tr>\n",
       "    <tr>\n",
       "      <th>971</th>\n",
       "      <td>Toronto E04</td>\n",
       "      <td>2021-01-01</td>\n",
       "      <td>Composite</td>\n",
       "      <td>323.8</td>\n",
       "      <td>317.0</td>\n",
       "      <td>350.7</td>\n",
       "      <td>NaN</td>\n",
       "      <td>0.021451</td>\n",
       "      <td>0.106309</td>\n",
       "      <td>NaN</td>\n",
       "      <td>True</td>\n",
       "      <td>311.2</td>\n",
       "      <td>0.012254</td>\n",
       "      <td>1.012254</td>\n",
       "      <td>1.013753</td>\n",
       "      <td>315.480018</td>\n",
       "    </tr>\n",
       "    <tr>\n",
       "      <th>972</th>\n",
       "      <td>Toronto E05</td>\n",
       "      <td>2016-07-01</td>\n",
       "      <td>Composite</td>\n",
       "      <td>217.7</td>\n",
       "      <td>217.5</td>\n",
       "      <td>224.4</td>\n",
       "      <td>229.6</td>\n",
       "      <td>0.000920</td>\n",
       "      <td>0.031724</td>\n",
       "      <td>0.055632</td>\n",
       "      <td>False</td>\n",
       "      <td>280.8</td>\n",
       "      <td>NaN</td>\n",
       "      <td>NaN</td>\n",
       "      <td>NaN</td>\n",
       "      <td>NaN</td>\n",
       "    </tr>\n",
       "    <tr>\n",
       "      <th>973</th>\n",
       "      <td>Toronto E05</td>\n",
       "      <td>2016-08-01</td>\n",
       "      <td>Composite</td>\n",
       "      <td>220.6</td>\n",
       "      <td>217.7</td>\n",
       "      <td>226.0</td>\n",
       "      <td>230.7</td>\n",
       "      <td>0.013321</td>\n",
       "      <td>0.038126</td>\n",
       "      <td>0.059715</td>\n",
       "      <td>True</td>\n",
       "      <td>280.8</td>\n",
       "      <td>NaN</td>\n",
       "      <td>NaN</td>\n",
       "      <td>NaN</td>\n",
       "      <td>NaN</td>\n",
       "    </tr>\n",
       "    <tr>\n",
       "      <th>974</th>\n",
       "      <td>Toronto E05</td>\n",
       "      <td>2016-09-01</td>\n",
       "      <td>Composite</td>\n",
       "      <td>224.4</td>\n",
       "      <td>220.6</td>\n",
       "      <td>226.1</td>\n",
       "      <td>237.5</td>\n",
       "      <td>0.017226</td>\n",
       "      <td>0.024932</td>\n",
       "      <td>0.076609</td>\n",
       "      <td>True</td>\n",
       "      <td>280.8</td>\n",
       "      <td>NaN</td>\n",
       "      <td>NaN</td>\n",
       "      <td>NaN</td>\n",
       "      <td>NaN</td>\n",
       "    </tr>\n",
       "  </tbody>\n",
       "</table>\n",
       "</div>"
      ],
      "text/plain": [
       "            Area       Date       Type    HPI  HPI.L1  HPI.F2  HPI.F5  \\\n",
       "960  Toronto E04 2020-02-01  Composite  293.3   288.1   301.4   311.2   \n",
       "961  Toronto E04 2020-03-01  Composite  300.3   293.3   303.5   315.9   \n",
       "962  Toronto E04 2020-04-01  Composite  301.4   300.3   302.0   319.1   \n",
       "963  Toronto E04 2020-05-01  Composite  303.5   301.4   311.2   320.9   \n",
       "964  Toronto E04 2020-06-01  Composite  302.0   303.5   315.9   320.4   \n",
       "965  Toronto E04 2020-07-01  Composite  311.2   302.0   319.1   317.0   \n",
       "966  Toronto E04 2020-08-01  Composite  315.9   311.2   320.9   323.8   \n",
       "967  Toronto E04 2020-09-01  Composite  319.1   315.9   320.4   335.6   \n",
       "968  Toronto E04 2020-10-01  Composite  320.9   319.1   317.0   350.7   \n",
       "969  Toronto E04 2020-11-01  Composite  320.4   320.9   323.8   352.7   \n",
       "970  Toronto E04 2020-12-01  Composite  317.0   320.4   335.6     NaN   \n",
       "971  Toronto E04 2021-01-01  Composite  323.8   317.0   350.7     NaN   \n",
       "972  Toronto E05 2016-07-01  Composite  217.7   217.5   224.4   229.6   \n",
       "973  Toronto E05 2016-08-01  Composite  220.6   217.7   226.0   230.7   \n",
       "974  Toronto E05 2016-09-01  Composite  224.4   220.6   226.1   237.5   \n",
       "\n",
       "     MonthlyChangeInHPI  FutureQuarterlyChangeInHPI  \\\n",
       "960            0.018049                    0.046165   \n",
       "961            0.023866                    0.034777   \n",
       "962            0.003663                    0.005661   \n",
       "963            0.006967                    0.032515   \n",
       "964           -0.004942                    0.040857   \n",
       "965            0.030464                    0.056623   \n",
       "966            0.015103                    0.031170   \n",
       "967            0.010130                    0.014245   \n",
       "968            0.005641                   -0.006581   \n",
       "969           -0.001558                    0.009037   \n",
       "970           -0.010612                    0.047441   \n",
       "971            0.021451                    0.106309   \n",
       "972            0.000920                    0.031724   \n",
       "973            0.013321                    0.038126   \n",
       "974            0.017226                    0.024932   \n",
       "\n",
       "     FutureSemiAnnualChangeInHPI  PositiveMonthlyReturn  LastKnownHPI  \\\n",
       "960                     0.080180                   True         311.2   \n",
       "961                     0.077054                   True         311.2   \n",
       "962                     0.062604                   True         311.2   \n",
       "963                     0.064698                   True         311.2   \n",
       "964                     0.055684                  False         311.2   \n",
       "965                     0.049669                   True         311.2   \n",
       "966                     0.040488                   True         311.2   \n",
       "967                     0.062362                   True         311.2   \n",
       "968                     0.099029                   True         311.2   \n",
       "969                     0.099096                  False         311.2   \n",
       "970                          NaN                  False         311.2   \n",
       "971                          NaN                   True         311.2   \n",
       "972                     0.055632                  False         280.8   \n",
       "973                     0.059715                   True         280.8   \n",
       "974                     0.076609                   True         280.8   \n",
       "\n",
       "     ForecastedMonthlyChangeInHPI  OnePlusForecastedMonthlyChangeInHPI  \\\n",
       "960                           NaN                                  NaN   \n",
       "961                           NaN                                  NaN   \n",
       "962                           NaN                                  NaN   \n",
       "963                           NaN                                  NaN   \n",
       "964                           NaN                                  NaN   \n",
       "965                           NaN                                  NaN   \n",
       "966                      0.001015                             1.001015   \n",
       "967                     -0.009306                             0.990694   \n",
       "968                      0.012516                             1.012516   \n",
       "969                     -0.017485                             0.982515   \n",
       "970                      0.015130                             1.015130   \n",
       "971                      0.012254                             1.012254   \n",
       "972                           NaN                                  NaN   \n",
       "973                           NaN                                  NaN   \n",
       "974                           NaN                                  NaN   \n",
       "\n",
       "     OnePlusForecastedCumulativeChangeInHPI  ForecastedHPI  \n",
       "960                                     NaN            NaN  \n",
       "961                                     NaN            NaN  \n",
       "962                                     NaN            NaN  \n",
       "963                                     NaN            NaN  \n",
       "964                                     NaN            NaN  \n",
       "965                                     NaN            NaN  \n",
       "966                                1.001015     311.515849  \n",
       "967                                0.991700     308.616983  \n",
       "968                                1.004112     312.479672  \n",
       "969                                0.986555     307.015813  \n",
       "970                                1.001481     311.661020  \n",
       "971                                1.013753     315.480018  \n",
       "972                                     NaN            NaN  \n",
       "973                                     NaN            NaN  \n",
       "974                                     NaN            NaN  "
      ]
     },
     "execution_count": 22,
     "metadata": {},
     "output_type": "execute_result"
    }
   ],
   "source": [
    "forecast_in_tall_fmt = forecast.melt(value_name='ForecastedMonthlyChangeInHPI', ignore_index=False).reset_index().rename(columns={'index': 'Date'})\n",
    "forecast_in_tall_fmt = forecast_in_tall_fmt[[col for col in forecast_in_tall_fmt.columns if col is not None]]\n",
    "last_know_hpi_at_the_time_of_forecasting = hpi_returns[hpi_returns['Date'] == end_date].groupby(['Area', 'Type'])[['HPI']].last().reset_index().rename(columns={'HPI': 'LastKnownHPI'})\n",
    "comparison = (\n",
    "    city_of_toronto_areas\n",
    "        [city_of_toronto_areas['Date'].between(start_date, end_date + relativedelta(months=steps))]\n",
    "        .merge(panels, how='inner', on=['Area', 'Type'])\n",
    "        .merge(last_know_hpi_at_the_time_of_forecasting, how='left', on=['Area', 'Type'])\n",
    "        .merge(forecast_in_tall_fmt, how='left', on=['Date', 'Area', 'Type'])\n",
    ")\n",
    "comparison.sort_values(['Area', 'Type', 'Date'], inplace=True)\n",
    "comparison['OnePlusForecastedMonthlyChangeInHPI'] = 1 + comparison['ForecastedMonthlyChangeInHPI']\n",
    "comparison['OnePlusForecastedCumulativeChangeInHPI'] = comparison.groupby(['Area', 'Type'])['OnePlusForecastedMonthlyChangeInHPI'].cumprod()\n",
    "comparison['ForecastedHPI'] = comparison['OnePlusForecastedCumulativeChangeInHPI'] * comparison['LastKnownHPI']\n",
    "comparison.drop(columns=['level_0', 'index'], inplace=True)\n",
    "random_idx = random.randint(0, len(comparison))\n",
    "comparison[random_idx:random_idx + 15]"
   ]
  },
  {
   "cell_type": "code",
   "execution_count": 23,
   "metadata": {},
   "outputs": [
    {
     "data": {
      "text/html": [
       "<div>\n",
       "<style scoped>\n",
       "    .dataframe tbody tr th:only-of-type {\n",
       "        vertical-align: middle;\n",
       "    }\n",
       "\n",
       "    .dataframe tbody tr th {\n",
       "        vertical-align: top;\n",
       "    }\n",
       "\n",
       "    .dataframe thead th {\n",
       "        text-align: right;\n",
       "    }\n",
       "</style>\n",
       "<table border=\"1\" class=\"dataframe\">\n",
       "  <thead>\n",
       "    <tr style=\"text-align: right;\">\n",
       "      <th></th>\n",
       "      <th>Area</th>\n",
       "      <th>Type</th>\n",
       "      <th>Date</th>\n",
       "      <th>ActualVsForecasted</th>\n",
       "      <th>HPI</th>\n",
       "    </tr>\n",
       "  </thead>\n",
       "  <tbody>\n",
       "    <tr>\n",
       "      <th>0</th>\n",
       "      <td>Toronto C01</td>\n",
       "      <td>Composite</td>\n",
       "      <td>2016-07-01</td>\n",
       "      <td>ActualHPI</td>\n",
       "      <td>208.3</td>\n",
       "    </tr>\n",
       "    <tr>\n",
       "      <th>1</th>\n",
       "      <td>Toronto C01</td>\n",
       "      <td>Composite</td>\n",
       "      <td>2016-08-01</td>\n",
       "      <td>ActualHPI</td>\n",
       "      <td>208.2</td>\n",
       "    </tr>\n",
       "    <tr>\n",
       "      <th>2</th>\n",
       "      <td>Toronto C01</td>\n",
       "      <td>Composite</td>\n",
       "      <td>2016-09-01</td>\n",
       "      <td>ActualHPI</td>\n",
       "      <td>212.2</td>\n",
       "    </tr>\n",
       "    <tr>\n",
       "      <th>3</th>\n",
       "      <td>Toronto C01</td>\n",
       "      <td>Composite</td>\n",
       "      <td>2016-10-01</td>\n",
       "      <td>ActualHPI</td>\n",
       "      <td>220.6</td>\n",
       "    </tr>\n",
       "    <tr>\n",
       "      <th>4</th>\n",
       "      <td>Toronto C01</td>\n",
       "      <td>Composite</td>\n",
       "      <td>2016-11-01</td>\n",
       "      <td>ActualHPI</td>\n",
       "      <td>220.3</td>\n",
       "    </tr>\n",
       "    <tr>\n",
       "      <th>...</th>\n",
       "      <td>...</td>\n",
       "      <td>...</td>\n",
       "      <td>...</td>\n",
       "      <td>...</td>\n",
       "      <td>...</td>\n",
       "    </tr>\n",
       "    <tr>\n",
       "      <th>1667</th>\n",
       "      <td>Toronto W06</td>\n",
       "      <td>Composite</td>\n",
       "      <td>2020-07-01</td>\n",
       "      <td>ForecastedHPI</td>\n",
       "      <td>254.0</td>\n",
       "    </tr>\n",
       "    <tr>\n",
       "      <th>1721</th>\n",
       "      <td>Toronto W07</td>\n",
       "      <td>Composite</td>\n",
       "      <td>2020-07-01</td>\n",
       "      <td>ForecastedHPI</td>\n",
       "      <td>263.7</td>\n",
       "    </tr>\n",
       "    <tr>\n",
       "      <th>1775</th>\n",
       "      <td>Toronto W08</td>\n",
       "      <td>Composite</td>\n",
       "      <td>2020-07-01</td>\n",
       "      <td>ForecastedHPI</td>\n",
       "      <td>252.7</td>\n",
       "    </tr>\n",
       "    <tr>\n",
       "      <th>1829</th>\n",
       "      <td>Toronto W09</td>\n",
       "      <td>Composite</td>\n",
       "      <td>2020-07-01</td>\n",
       "      <td>ForecastedHPI</td>\n",
       "      <td>286.2</td>\n",
       "    </tr>\n",
       "    <tr>\n",
       "      <th>1883</th>\n",
       "      <td>Toronto W10</td>\n",
       "      <td>Composite</td>\n",
       "      <td>2020-07-01</td>\n",
       "      <td>ForecastedHPI</td>\n",
       "      <td>304.1</td>\n",
       "    </tr>\n",
       "  </tbody>\n",
       "</table>\n",
       "<p>3815 rows × 5 columns</p>\n",
       "</div>"
      ],
      "text/plain": [
       "             Area       Type       Date ActualVsForecasted    HPI\n",
       "0     Toronto C01  Composite 2016-07-01          ActualHPI  208.3\n",
       "1     Toronto C01  Composite 2016-08-01          ActualHPI  208.2\n",
       "2     Toronto C01  Composite 2016-09-01          ActualHPI  212.2\n",
       "3     Toronto C01  Composite 2016-10-01          ActualHPI  220.6\n",
       "4     Toronto C01  Composite 2016-11-01          ActualHPI  220.3\n",
       "...           ...        ...        ...                ...    ...\n",
       "1667  Toronto W06  Composite 2020-07-01      ForecastedHPI  254.0\n",
       "1721  Toronto W07  Composite 2020-07-01      ForecastedHPI  263.7\n",
       "1775  Toronto W08  Composite 2020-07-01      ForecastedHPI  252.7\n",
       "1829  Toronto W09  Composite 2020-07-01      ForecastedHPI  286.2\n",
       "1883  Toronto W10  Composite 2020-07-01      ForecastedHPI  304.1\n",
       "\n",
       "[3815 rows x 5 columns]"
      ]
     },
     "execution_count": 23,
     "metadata": {},
     "output_type": "execute_result"
    }
   ],
   "source": [
    "# visualization = comparison.melt(id_vars=['Area', 'Type', 'Date'], value_vars=['HPI', 'ForecastedHPI', 'MonthlyChangeInHPI', 'ForecastedMonthlyChangeInHPI'])\n",
    "visualization = (\n",
    "    comparison\n",
    "        .rename(columns={'HPI': 'ActualHPI'})\n",
    "        .melt(id_vars=['Area', 'Type', 'Date'], value_vars=['ActualHPI', 'ForecastedHPI'], value_name='HPI', var_name='ActualVsForecasted')\n",
    ")\n",
    "last_known_hpi_at_the_time_of_forecasting = visualization[(visualization['Date'] == end_date) & (visualization['ActualVsForecasted'] == 'ActualHPI')].copy()\n",
    "last_known_hpi_at_the_time_of_forecasting['ActualVsForecasted'] = 'ForecastedHPI'\n",
    "visualization = pd.concat([visualization, last_known_hpi_at_the_time_of_forecasting])\n",
    "no_actual_values_for_forecasted_period = ~((visualization['Date'] > end_date) & (visualization['ActualVsForecasted'] == 'ActualHPI'))\n",
    "visualization"
   ]
  },
  {
   "cell_type": "code",
   "execution_count": 24,
   "metadata": {},
   "outputs": [],
   "source": [
    "area, housing_type = visualization.sample(1)[['Area', 'Type']].reset_index().loc[0].tolist()[1:]\n",
    "area = 'Toronto C08'\n",
    "housing_type = 'Composite'"
   ]
  },
  {
   "cell_type": "code",
   "execution_count": 25,
   "metadata": {},
   "outputs": [
    {
     "data": {
      "image/png": "[encoded data removed]",
      "text/plain": [
       "<Figure size 1008x504 with 1 Axes>"
      ]
     },
     "metadata": {},
     "output_type": "display_data"
    }
   ],
   "source": [
    "\n",
    "with sns.plotting_context(\"paper\", font_scale=1.8):\n",
    "    with sns.axes_style(\"whitegrid\"):\n",
    "        ax = sns.lineplot(\n",
    "            data=visualization[(visualization['Area'] == area) & (visualization['Type'] == housing_type) & no_actual_values_for_forecasted_period],\n",
    "            x='Date',\n",
    "            y='HPI',\n",
    "            style='ActualVsForecasted',\n",
    "            estimator='mean'\n",
    "        )\n",
    "        ax.figure.set_figwidth(14)\n",
    "        ax.figure.set_figheight(7)\n",
    "        ax.axvline(end_date, color='black')\n",
    "        ax.set_title(f\"{area} - {housing_type}\")\n",
    "        fig = ax.get_figure()"
   ]
  },
  {
   "cell_type": "code",
   "execution_count": 26,
   "metadata": {},
   "outputs": [
    {
     "data": {
      "image/png": "[encoded data removed]",
      "text/plain": [
       "<Figure size 1008x504 with 1 Axes>"
      ]
     },
     "metadata": {},
     "output_type": "display_data"
    }
   ],
   "source": [
    "\n",
    "with sns.plotting_context(\"paper\", font_scale=1.8):\n",
    "    with sns.axes_style(\"whitegrid\"):\n",
    "        ax = sns.lineplot(\n",
    "            data=visualization[(visualization['Area'] == area) & (visualization['Type'] == housing_type)],\n",
    "            x='Date',\n",
    "            y='HPI',\n",
    "            style='ActualVsForecasted',\n",
    "            estimator='mean'\n",
    "        )\n",
    "        ax.figure.set_figwidth(14)\n",
    "        ax.figure.set_figheight(7)\n",
    "        ax.axvline(end_date, color='black')\n",
    "        ax.set_title(f\"{area} - {housing_type}\")\n",
    "        fig = ax.get_figure()"
   ]
  },
  {
   "cell_type": "code",
   "execution_count": 27,
   "metadata": {},
   "outputs": [
    {
     "data": {
      "image/png": "[encoded data removed]",
      "text/plain": [
       "<Figure size 1008x504 with 1 Axes>"
      ]
     },
     "metadata": {},
     "output_type": "display_data"
    }
   ],
   "source": [
    "with sns.plotting_context(\"paper\", font_scale=1.8):\n",
    "    ,\n",
    "    with sns.axes_style(\"whitegrid\"):\n",
    "        ax = sns.lineplot(\n",
    "            data=visualization,\n",
    "            x='Date',\n",
    "            y='HPI',\n",
    "            style='ActualVsForecasted',\n",
    "            estimator='mean'\n",
    "        )\n",
    "        ax.figure.set_figwidth(14)\n",
    "        ax.figure.set_figheight(7)\n",
    "        ax.axvline(end_date, color='black')\n",
    "        fig = ax.get_figure()"
   ]
  },
  {
   "cell_type": "markdown",
   "metadata": {},
   "source": [
    "## VAR model for all Toronto Meighbourhoods & for all dates."
   ]
  },
  {
   "cell_type": "code",
   "execution_count": 28,
   "metadata": {},
   "outputs": [],
   "source": [
    "feasible_start_dates = pd.date_range(start=city_of_toronto_areas['Date'].min(), \n",
    "                       end=city_of_toronto_areas['Date'].max() - relativedelta(months=window_length + 6), \n",
    "                       freq='MS')"
   ]
  },
  {
   "cell_type": "code",
   "execution_count": 29,
   "metadata": {},
   "outputs": [],
   "source": [
    "window_length = 48  # months before the date we run the forecast on."
   ]
  },
  {
   "cell_type": "code",
   "execution_count": 30,
   "metadata": {},
   "outputs": [
    {
     "name": "stdout",
     "output_type": "stream",
     "text": [
      "Wall time: 57.5 s\n"
     ]
    },
    {
     "data": {
      "text/html": [
       "<div>\n",
       "<style scoped>\n",
       "    .dataframe tbody tr th:only-of-type {\n",
       "        vertical-align: middle;\n",
       "    }\n",
       "\n",
       "    .dataframe tbody tr th {\n",
       "        vertical-align: top;\n",
       "    }\n",
       "\n",
       "    .dataframe thead th {\n",
       "        text-align: right;\n",
       "    }\n",
       "</style>\n",
       "<table border=\"1\" class=\"dataframe\">\n",
       "  <thead>\n",
       "    <tr style=\"text-align: right;\">\n",
       "      <th></th>\n",
       "      <th>Date</th>\n",
       "      <th>Area</th>\n",
       "      <th>Type</th>\n",
       "      <th>ForecastedMonthlyChangeInHPI</th>\n",
       "      <th>ForecastedQuarterlyChangeInHPI</th>\n",
       "      <th>ForecastedSemiAnnualChangeInHPI</th>\n",
       "      <th>ForecastedPositiveReturn</th>\n",
       "    </tr>\n",
       "  </thead>\n",
       "  <tbody>\n",
       "    <tr>\n",
       "      <th>0</th>\n",
       "      <td>2016-03-01</td>\n",
       "      <td>Toronto C01</td>\n",
       "      <td>Apartment</td>\n",
       "      <td>-0.024822</td>\n",
       "      <td>-0.043143</td>\n",
       "      <td>0.010500</td>\n",
       "      <td>False</td>\n",
       "    </tr>\n",
       "    <tr>\n",
       "      <th>1</th>\n",
       "      <td>2016-03-01</td>\n",
       "      <td>Toronto C02</td>\n",
       "      <td>Apartment</td>\n",
       "      <td>0.001804</td>\n",
       "      <td>-0.029771</td>\n",
       "      <td>-0.012265</td>\n",
       "      <td>False</td>\n",
       "    </tr>\n",
       "    <tr>\n",
       "      <th>2</th>\n",
       "      <td>2016-03-01</td>\n",
       "      <td>Toronto C03</td>\n",
       "      <td>Apartment</td>\n",
       "      <td>-0.076243</td>\n",
       "      <td>0.011991</td>\n",
       "      <td>-0.163622</td>\n",
       "      <td>False</td>\n",
       "    </tr>\n",
       "    <tr>\n",
       "      <th>3</th>\n",
       "      <td>2016-03-01</td>\n",
       "      <td>Toronto C04</td>\n",
       "      <td>Apartment</td>\n",
       "      <td>-0.121383</td>\n",
       "      <td>-0.025233</td>\n",
       "      <td>0.027611</td>\n",
       "      <td>False</td>\n",
       "    </tr>\n",
       "    <tr>\n",
       "      <th>4</th>\n",
       "      <td>2016-03-01</td>\n",
       "      <td>Toronto C06</td>\n",
       "      <td>Apartment</td>\n",
       "      <td>-0.005403</td>\n",
       "      <td>0.005353</td>\n",
       "      <td>-0.169762</td>\n",
       "      <td>False</td>\n",
       "    </tr>\n",
       "    <tr>\n",
       "      <th>...</th>\n",
       "      <td>...</td>\n",
       "      <td>...</td>\n",
       "      <td>...</td>\n",
       "      <td>...</td>\n",
       "      <td>...</td>\n",
       "      <td>...</td>\n",
       "      <td>...</td>\n",
       "    </tr>\n",
       "    <tr>\n",
       "      <th>30</th>\n",
       "      <td>2020-11-01</td>\n",
       "      <td>Toronto W06</td>\n",
       "      <td>Single-Family Detached</td>\n",
       "      <td>0.025954</td>\n",
       "      <td>0.035871</td>\n",
       "      <td>-0.037467</td>\n",
       "      <td>True</td>\n",
       "    </tr>\n",
       "    <tr>\n",
       "      <th>31</th>\n",
       "      <td>2020-11-01</td>\n",
       "      <td>Toronto W07</td>\n",
       "      <td>Single-Family Detached</td>\n",
       "      <td>0.020134</td>\n",
       "      <td>0.033819</td>\n",
       "      <td>-0.051243</td>\n",
       "      <td>True</td>\n",
       "    </tr>\n",
       "    <tr>\n",
       "      <th>32</th>\n",
       "      <td>2020-11-01</td>\n",
       "      <td>Toronto W08</td>\n",
       "      <td>Single-Family Detached</td>\n",
       "      <td>0.029876</td>\n",
       "      <td>0.063618</td>\n",
       "      <td>0.008514</td>\n",
       "      <td>True</td>\n",
       "    </tr>\n",
       "    <tr>\n",
       "      <th>33</th>\n",
       "      <td>2020-11-01</td>\n",
       "      <td>Toronto W09</td>\n",
       "      <td>Single-Family Detached</td>\n",
       "      <td>0.021685</td>\n",
       "      <td>0.073601</td>\n",
       "      <td>0.018011</td>\n",
       "      <td>True</td>\n",
       "    </tr>\n",
       "    <tr>\n",
       "      <th>34</th>\n",
       "      <td>2020-11-01</td>\n",
       "      <td>Toronto W10</td>\n",
       "      <td>Single-Family Detached</td>\n",
       "      <td>0.012766</td>\n",
       "      <td>0.054515</td>\n",
       "      <td>0.035814</td>\n",
       "      <td>True</td>\n",
       "    </tr>\n",
       "  </tbody>\n",
       "</table>\n",
       "<p>7980 rows × 7 columns</p>\n",
       "</div>"
      ],
      "text/plain": [
       "         Date         Area                    Type  \\\n",
       "0  2016-03-01  Toronto C01               Apartment   \n",
       "1  2016-03-01  Toronto C02               Apartment   \n",
       "2  2016-03-01  Toronto C03               Apartment   \n",
       "3  2016-03-01  Toronto C04               Apartment   \n",
       "4  2016-03-01  Toronto C06               Apartment   \n",
       "..        ...          ...                     ...   \n",
       "30 2020-11-01  Toronto W06  Single-Family Detached   \n",
       "31 2020-11-01  Toronto W07  Single-Family Detached   \n",
       "32 2020-11-01  Toronto W08  Single-Family Detached   \n",
       "33 2020-11-01  Toronto W09  Single-Family Detached   \n",
       "34 2020-11-01  Toronto W10  Single-Family Detached   \n",
       "\n",
       "    ForecastedMonthlyChangeInHPI  ForecastedQuarterlyChangeInHPI  \\\n",
       "0                      -0.024822                       -0.043143   \n",
       "1                       0.001804                       -0.029771   \n",
       "2                      -0.076243                        0.011991   \n",
       "3                      -0.121383                       -0.025233   \n",
       "4                      -0.005403                        0.005353   \n",
       "..                           ...                             ...   \n",
       "30                      0.025954                        0.035871   \n",
       "31                      0.020134                        0.033819   \n",
       "32                      0.029876                        0.063618   \n",
       "33                      0.021685                        0.073601   \n",
       "34                      0.012766                        0.054515   \n",
       "\n",
       "    ForecastedSemiAnnualChangeInHPI  ForecastedPositiveReturn  \n",
       "0                          0.010500                     False  \n",
       "1                         -0.012265                     False  \n",
       "2                         -0.163622                     False  \n",
       "3                          0.027611                     False  \n",
       "4                         -0.169762                     False  \n",
       "..                              ...                       ...  \n",
       "30                        -0.037467                      True  \n",
       "31                        -0.051243                      True  \n",
       "32                         0.008514                      True  \n",
       "33                         0.018011                      True  \n",
       "34                         0.035814                      True  \n",
       "\n",
       "[7980 rows x 7 columns]"
      ]
     },
     "execution_count": 30,
     "metadata": {},
     "output_type": "execute_result"
    }
   ],
   "source": [
    "%%time\n",
    "city_of_toronto_areas = hpi_returns[hpi_returns['Area'].str.startswith('Toronto')].copy()\n",
    "housing_types = hpi['Type'].unique().tolist()\n",
    "forecasts = []\n",
    "for housing_type in housing_types:\n",
    "    panels = city_of_toronto_areas[city_of_toronto_areas['Type'] == housing_type].drop_duplicates(['Area', 'Type'])[['Area', 'Type']]\n",
    "    for start_date in feasible_start_dates:\n",
    "        end_date = start_date + relativedelta(months=window_length)\n",
    "        train = (\n",
    "            hpi_returns\n",
    "                [hpi_returns['Date'].between(start_date, end_date)]\n",
    "                .merge(panels, on=['Area', 'Type'], how='inner')\n",
    "                .pivot_table(values=['MonthlyChangeInHPI'], index=['Date'], columns=['Area', 'Type'])\n",
    "        )\n",
    "        train.index = pd.DatetimeIndex(train.index).to_period('M')\n",
    "        \n",
    "        model = VAR(train)\n",
    "        criterion = {}\n",
    "        models = {}\n",
    "\n",
    "        for lag_order in range(1, window_length):\n",
    "            try:\n",
    "                fitted = model.fit(lag_order)\n",
    "                models[lag_order] = fitted\n",
    "                criterion[lag_order] = fitted.aic\n",
    "            except:\n",
    "                pass\n",
    "        try:\n",
    "            # Select the \"best\" model: model with the lowest AIC value.\n",
    "            selected_lag_order = list(dict(sorted(criterion.items(), key=lambda x:x[1])).keys())[0]            \n",
    "            fitted = models[selected_lag_order]\n",
    "            is_model_selected = True\n",
    "        except IndexError:\n",
    "            # No models were trained.\n",
    "            # This can happen when there is missing data, for instance, with Townhouses.\n",
    "            is_model_selected = False\n",
    "\n",
    "        if is_model_selected:\n",
    "            # TODO: Add quarterly and semiannual forecasts\n",
    "\n",
    "            monthly_forecast = pd.DataFrame(\n",
    "                columns=train.columns, \n",
    "                index=pd.DatetimeIndex(pd.date_range(start=end_date + relativedelta(months=1), periods=1, freq='MS')), \n",
    "                data=fitted.forecast(y=train.values[-selected_lag_order:], steps=1)\n",
    "            )\n",
    "            monthly_forecast = monthly_forecast.melt(ignore_index=False).reset_index()\n",
    "            monthly_forecast = monthly_forecast[[col for col in monthly_forecast.columns if col is not None]]\n",
    "            monthly_forecast.rename(columns={'value': 'ForecastedMonthlyChangeInHPI', 'index': 'Date'}, inplace=True)\n",
    "#             monthly_forecast.to_frame(inplace=True)\n",
    "            \n",
    "            quarterly_forecast = pd.DataFrame(\n",
    "                columns=train.columns, \n",
    "                index=pd.DatetimeIndex(pd.date_range(start=end_date + relativedelta(months=1), periods=1, freq='MS')), \n",
    "                data=(np.matrix(fitted.forecast(y=train.values[-selected_lag_order:], steps=3)) + 1).prod(axis=0) - 1\n",
    "            )\n",
    "            quarterly_forecast = quarterly_forecast.melt(ignore_index=False).reset_index()\n",
    "            quarterly_forecast = quarterly_forecast[[col for col in quarterly_forecast.columns if col is not None]]\n",
    "            quarterly_forecast.rename(columns={'value': 'ForecastedQuarterlyChangeInHPI', 'index': 'Date'}, inplace=True)\n",
    "#             quarterly_forecast.to_frame(inplace=True)\n",
    "            \n",
    "            semiannual_forecast = pd.DataFrame(\n",
    "                columns=train.columns, \n",
    "                index=pd.DatetimeIndex(pd.date_range(start=end_date + relativedelta(months=1), periods=1, freq='MS')), \n",
    "                data=(np.matrix(fitted.forecast(y=train.values[-selected_lag_order:], steps=6)) + 1).prod(axis=0) - 1\n",
    "            )\n",
    "            semiannual_forecast = semiannual_forecast.melt(ignore_index=False).reset_index()\n",
    "            semiannual_forecast = semiannual_forecast[[col for col in semiannual_forecast.columns if col is not None]]\n",
    "            semiannual_forecast.rename(columns={'value': 'ForecastedSemiAnnualChangeInHPI', 'index': 'Date'}, inplace=True)\n",
    "#             semiannual_forecast.to_frame(inplace=True)\n",
    "            \n",
    "            \n",
    "            forecast = monthly_forecast.merge(quarterly_forecast, on=['Date', 'Area', 'Type']).merge(semiannual_forecast, on=['Date', 'Area', 'Type'])\n",
    "            \n",
    "            \n",
    "            forecasts.append(forecast)\n",
    "forecasts = pd.concat(forecasts)\n",
    "forecasts['ForecastedPositiveReturn'] = forecasts['ForecastedMonthlyChangeInHPI'] > positive_monthly_return_cutoff\n",
    "forecasts"
   ]
  },
  {
   "cell_type": "code",
   "execution_count": 31,
   "metadata": {},
   "outputs": [
    {
     "data": {
      "text/plain": [
       "(7980, 7980)"
      ]
     },
     "execution_count": 31,
     "metadata": {},
     "output_type": "execute_result"
    }
   ],
   "source": [
    "len(forecasts), len(forecasts.drop_duplicates(['Area', 'Type', 'Date']))"
   ]
  },
  {
   "cell_type": "markdown",
   "metadata": {},
   "source": [
    "## Validate"
   ]
  },
  {
   "cell_type": "code",
   "execution_count": 32,
   "metadata": {},
   "outputs": [
    {
     "name": "stdout",
     "output_type": "stream",
     "text": [
      "27225 27225\n"
     ]
    }
   ],
   "source": [
    "validation = hpi_returns.merge(\n",
    "    forecasts,\n",
    "    how='outer',\n",
    "    on=['Area', 'Type', 'Date'],\n",
    ")\n",
    "print(len(validation), len(validation.drop_duplicates(['Area', 'Type', 'Date'])))  # Check if the merge (join) impacted the granularity of the data set, i.e. if we introduced duplicates\n",
    "validation = validation[validation['ForecastedMonthlyChangeInHPI'].notnull() & validation['MonthlyChangeInHPI'].notnull()]"
   ]
  },
  {
   "cell_type": "code",
   "execution_count": 33,
   "metadata": {},
   "outputs": [],
   "source": [
    "validation.drop(columns=['level_0', 'index']).to_csv(os.path.join(results_folder, '05.c.var_forecasts.csv'), index=False)"
   ]
  },
  {
   "cell_type": "markdown",
   "metadata": {},
   "source": [
    "### MSE"
   ]
  },
  {
   "cell_type": "code",
   "execution_count": 34,
   "metadata": {},
   "outputs": [
    {
     "data": {
      "text/plain": [
       "0.0015877140296963997"
      ]
     },
     "execution_count": 34,
     "metadata": {},
     "output_type": "execute_result"
    }
   ],
   "source": [
    "mse = mean_squared_error(validation['MonthlyChangeInHPI'], validation['ForecastedMonthlyChangeInHPI'])\n",
    "mse"
   ]
  },
  {
   "cell_type": "code",
   "execution_count": 35,
   "metadata": {},
   "outputs": [
    {
     "data": {
      "text/plain": [
       "0.007939166535112235"
      ]
     },
     "execution_count": 35,
     "metadata": {},
     "output_type": "execute_result"
    }
   ],
   "source": [
    "quarterly_change_validation = validation[validation['FutureQuarterlyChangeInHPI'].notnull() & validation['ForecastedQuarterlyChangeInHPI'].notnull()]\n",
    "quarterly_mse = mean_squared_error(quarterly_change_validation['FutureQuarterlyChangeInHPI'], quarterly_change_validation['ForecastedQuarterlyChangeInHPI'])\n",
    "quarterly_mse"
   ]
  },
  {
   "cell_type": "code",
   "execution_count": 36,
   "metadata": {},
   "outputs": [
    {
     "data": {
      "text/plain": [
       "0.04461376661958542"
      ]
     },
     "execution_count": 36,
     "metadata": {},
     "output_type": "execute_result"
    }
   ],
   "source": [
    "semi_annual_change_validation = validation[validation['FutureSemiAnnualChangeInHPI'].notnull() & validation['ForecastedSemiAnnualChangeInHPI'].notnull()]\n",
    "semi_annual_mse = mean_squared_error(semi_annual_change_validation['FutureSemiAnnualChangeInHPI'], semi_annual_change_validation['ForecastedSemiAnnualChangeInHPI'])\n",
    "semi_annual_mse"
   ]
  },
  {
   "cell_type": "markdown",
   "metadata": {},
   "source": [
    "### Normalized MSE"
   ]
  },
  {
   "cell_type": "code",
   "execution_count": 37,
   "metadata": {},
   "outputs": [
    {
     "data": {
      "text/plain": [
       "0.1888803247746917"
      ]
     },
     "execution_count": 37,
     "metadata": {},
     "output_type": "execute_result"
    }
   ],
   "source": [
    "mse / hpi_returns['MonthlyChangeInHPI'].mean()"
   ]
  },
  {
   "cell_type": "code",
   "execution_count": 38,
   "metadata": {},
   "outputs": [
    {
     "data": {
      "text/plain": [
       "0.2174545814539364"
      ]
     },
     "execution_count": 38,
     "metadata": {},
     "output_type": "execute_result"
    }
   ],
   "source": [
    "mse / hpi_returns.query('Area == \"TREB Total\" & Type == \"Composite\"')['MonthlyChangeInHPI'].mean()"
   ]
  },
  {
   "cell_type": "markdown",
   "metadata": {},
   "source": [
    "### MSE by Area & Housing Type"
   ]
  },
  {
   "cell_type": "code",
   "execution_count": 39,
   "metadata": {},
   "outputs": [
    {
     "data": {
      "text/plain": [
       "Area         Type                  \n",
       "Toronto C01  Apartment                 0.001367\n",
       "             Composite                 0.000662\n",
       "             Single-Family Attached    0.002035\n",
       "             Single-Family Detached    0.003612\n",
       "Toronto C02  Apartment                 0.002011\n",
       "                                         ...   \n",
       "Toronto W09  Single-Family Detached    0.001317\n",
       "Toronto W10  Apartment                 0.003210\n",
       "             Composite                 0.000542\n",
       "             Single-Family Attached    0.000953\n",
       "             Single-Family Detached    0.000820\n",
       "Length: 140, dtype: float64"
      ]
     },
     "execution_count": 39,
     "metadata": {},
     "output_type": "execute_result"
    }
   ],
   "source": [
    "benchmark_mse_by_area_and_type = (\n",
    "    validation\n",
    "        .groupby(['Area', 'Type'])\n",
    "        .apply(lambda x: mean_squared_error(x['MonthlyChangeInHPI'], x['ForecastedMonthlyChangeInHPI']))\n",
    ")\n",
    "benchmark_mse_by_area_and_type"
   ]
  },
  {
   "cell_type": "markdown",
   "metadata": {},
   "source": [
    "### City of Toronto MSE by Year"
   ]
  },
  {
   "cell_type": "code",
   "execution_count": 40,
   "metadata": {},
   "outputs": [
    {
     "data": {
      "text/plain": [
       "Date\n",
       "2016    0.001652\n",
       "2017    0.002495\n",
       "2018    0.001380\n",
       "2019    0.000995\n",
       "2020    0.001360\n",
       "dtype: float64"
      ]
     },
     "execution_count": 40,
     "metadata": {},
     "output_type": "execute_result"
    }
   ],
   "source": [
    "validation_for_city_of_toronto = validation[validation['Area'].str.startswith('Toronto')]\n",
    "\n",
    "benchmark_city_of_toronto_mse_by_year = (\n",
    "    validation\n",
    "        .groupby(validation_for_city_of_toronto['Date'].dt.year)\n",
    "        .apply(lambda x: mean_squared_error(x['MonthlyChangeInHPI'], x['ForecastedMonthlyChangeInHPI']))\n",
    ")\n",
    "benchmark_city_of_toronto_mse_by_year"
   ]
  },
  {
   "cell_type": "markdown",
   "metadata": {},
   "source": [
    "## Accuracy Score for the Positive Return Probability"
   ]
  },
  {
   "cell_type": "code",
   "execution_count": 41,
   "metadata": {},
   "outputs": [
    {
     "data": {
      "text/plain": [
       "0.5585459183673469"
      ]
     },
     "execution_count": 41,
     "metadata": {},
     "output_type": "execute_result"
    }
   ],
   "source": [
    "accuracy_score(validation['PositiveMonthlyReturn'].astype(int), validation['ForecastedPositiveReturn'].astype(int))"
   ]
  },
  {
   "cell_type": "markdown",
   "metadata": {},
   "source": [
    "## Confusion Matrix for the Positive Return Probability"
   ]
  },
  {
   "cell_type": "code",
   "execution_count": 42,
   "metadata": {},
   "outputs": [
    {
     "data": {
      "text/plain": [
       "array([[0.44336973, 0.3618123 ],\n",
       "       [0.55663027, 0.6381877 ]])"
      ]
     },
     "execution_count": 42,
     "metadata": {},
     "output_type": "execute_result"
    }
   ],
   "source": [
    "confusion_matrix(validation['PositiveMonthlyReturn'].astype(int), validation['ForecastedPositiveReturn'].astype(int), normalize='pred')"
   ]
  },
  {
   "cell_type": "code",
   "execution_count": null,
   "metadata": {},
   "outputs": [],
   "source": []
  }
 ],
 "metadata": {
  "kernelspec": {
   "display_name": "Python 3",
   "language": "python",
   "name": "python3"
  },
  "language_info": {
   "codemirror_mode": {
    "name": "ipython",
    "version": 3
   },
   "file_extension": ".py",
   "mimetype": "text/x-python",
   "name": "python",
   "nbconvert_exporter": "python",
   "pygments_lexer": "ipython3",
   "version": "3.8.5"
  }
 },
 "nbformat": 4,
 "nbformat_minor": 4
}
