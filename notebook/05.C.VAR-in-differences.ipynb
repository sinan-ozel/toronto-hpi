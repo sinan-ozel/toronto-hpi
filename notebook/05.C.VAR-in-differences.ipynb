{
 "cells": [
  {
   "cell_type": "code",
   "execution_count": 1,
   "metadata": {},
   "outputs": [],
   "source": [
    "import os\n",
    "import pandas as pd\n",
    "import seaborn as sns\n",
    "import random\n",
    "from datetime import date\n",
    "from dateutil.relativedelta import relativedelta\n",
    "from math import floor\n",
    "\n",
    "from statsmodels.tsa.api import VAR\n",
    "from statsmodels.tsa.stattools import adfuller\n",
    "\n",
    "from sklearn.metrics import mean_squared_error, confusion_matrix, plot_confusion_matrix, accuracy_score\n"
   ]
  },
  {
   "cell_type": "code",
   "execution_count": 2,
   "metadata": {},
   "outputs": [],
   "source": [
    "# Based on:\n",
    "# Lecture notes from Prof. Burc Ulengin\n",
    "# This blog post: https://www.machinelearningplus.com/time-series/vector-autoregression-examples-python/"
   ]
  },
  {
   "cell_type": "code",
   "execution_count": 3,
   "metadata": {},
   "outputs": [],
   "source": [
    "data_folder = '../03.clean-data/'\n",
    "results_folder = '../04.results/'\n",
    "positive_monthly_return_cutoff = 0.002"
   ]
  },
  {
   "cell_type": "code",
   "execution_count": 4,
   "metadata": {},
   "outputs": [],
   "source": [
    "if not os.path.isdir(results_folder):\n",
    "    if not os.path.exists(results_folder):\n",
    "        os.mkdir(results_folder)\n",
    "    else:\n",
    "        raise NotADirectoryError"
   ]
  },
  {
   "cell_type": "markdown",
   "metadata": {},
   "source": [
    "## Load Data"
   ]
  },
  {
   "cell_type": "code",
   "execution_count": 5,
   "metadata": {},
   "outputs": [],
   "source": [
    "hpi = pd.read_csv(os.path.join(data_folder, 'hpi.csv'), parse_dates=['Date']) # Load\n",
    "hpi.sort_values(['Area', 'Type', 'Date'], inplace=True) # Sort\n",
    "hpi.reset_index(inplace=True)"
   ]
  },
  {
   "cell_type": "markdown",
   "metadata": {},
   "source": [
    "## Check for Stationarity"
   ]
  },
  {
   "cell_type": "code",
   "execution_count": 6,
   "metadata": {},
   "outputs": [],
   "source": [
    "# https://www.statsmodels.org/dev/generated/statsmodels.tsa.stattools.adfuller.html\n",
    "# The p-values are obtained through regression surface approximation from MacKinnon 1994, but using the updated 2010 tables. If the p-value is close to significant, then the critical values should be used to judge whether to reject the null."
   ]
  },
  {
   "cell_type": "code",
   "execution_count": 7,
   "metadata": {},
   "outputs": [
    {
     "data": {
      "text/plain": [
       "Area                    Type                  \n",
       "Adjala-Tosorontio       Composite                 False\n",
       "                        Single-Family Detached    False\n",
       "Ajax                    Apartment                 False\n",
       "                        Composite                 False\n",
       "                        Single-Family Attached    False\n",
       "                                                  ...  \n",
       "Whitchurch-Stouffville  Apartment                  True\n",
       "                        Composite                 False\n",
       "                        Single-Family Attached    False\n",
       "                        Single-Family Detached    False\n",
       "                        Townhouse                 False\n",
       "Name: HPI, Length: 286, dtype: bool"
      ]
     },
     "execution_count": 7,
     "metadata": {},
     "output_type": "execute_result"
    }
   ],
   "source": [
    "# Null Hypothesis of Augmented Dickey-Fuller test: series is non-stationary.\n",
    "# So, if the p value is less than 0.05, we will reject that the series are non-stationary, and conclude that they are stationary.\n",
    "# If we fail to reject (p > 0.05) then we fail to reject that the series is non-stationary.\n",
    "# So we think that the the series is non-stationary if p > 0.05\n",
    "def is_stationary(x, p=0.05, **kwargs):\n",
    "    return (adfuller(x, **kwargs)[1] < p)\n",
    "is_panel_stationary = hpi[hpi['HPI'].notnull()].groupby(['Area', 'Type'])['HPI'].apply(is_stationary)\n",
    "is_panel_stationary"
   ]
  },
  {
   "cell_type": "code",
   "execution_count": 8,
   "metadata": {},
   "outputs": [
    {
     "data": {
      "text/plain": [
       "0.006993006993006993"
      ]
     },
     "execution_count": 8,
     "metadata": {},
     "output_type": "execute_result"
    }
   ],
   "source": [
    "is_panel_stationary.sum() / len(is_panel_stationary)"
   ]
  },
  {
   "cell_type": "code",
   "execution_count": 9,
   "metadata": {},
   "outputs": [],
   "source": [
    "# We have evidence that over 99% of the series are non-stationary.\n",
    "# This is the statistical reason for the need use either returns or differences."
   ]
  },
  {
   "cell_type": "markdown",
   "metadata": {},
   "source": [
    "## Calculate Monthly Changes (\"Returns\")"
   ]
  },
  {
   "cell_type": "code",
   "execution_count": 10,
   "metadata": {},
   "outputs": [],
   "source": [
    "hpi_returns = hpi.copy()"
   ]
  },
  {
   "cell_type": "code",
   "execution_count": 11,
   "metadata": {},
   "outputs": [],
   "source": [
    "hpi_returns['HPI.L1'] = hpi_returns.groupby(['Area', 'Type'])['HPI'].shift(1)\n",
    "hpi_returns['HPI.F2'] = hpi_returns.groupby(['Area', 'Type'])['HPI'].shift(-2)\n",
    "hpi_returns['HPI.F5'] = hpi_returns.groupby(['Area', 'Type'])['HPI'].shift(-5)\n",
    "hpi_returns['MonthlyChangeInHPI'] = (hpi_returns['HPI'] - hpi_returns['HPI.L1']) / hpi_returns['HPI.L1']\n",
    "hpi_returns['FutureQuarterlyChangeInHPI'] = (hpi_returns['HPI.F2'] - hpi_returns['HPI.L1']) / hpi_returns['HPI.L1']\n",
    "hpi_returns['FutureSemiAnnualChangeInHPI'] = (hpi_returns['HPI.F5'] - hpi_returns['HPI.L1']) / hpi_returns['HPI.L1']\n",
    "hpi_returns['PositiveMonthlyReturn'] = (hpi_returns['MonthlyChangeInHPI'] > positive_monthly_return_cutoff)"
   ]
  },
  {
   "cell_type": "markdown",
   "metadata": {},
   "source": [
    "## Check for Stationarity in Returns"
   ]
  },
  {
   "cell_type": "code",
   "execution_count": 12,
   "metadata": {},
   "outputs": [
    {
     "data": {
      "text/plain": [
       "Area                    Type                  \n",
       "Adjala-Tosorontio       Composite                 True\n",
       "                        Single-Family Detached    True\n",
       "Ajax                    Apartment                 True\n",
       "                        Composite                 True\n",
       "                        Single-Family Attached    True\n",
       "                                                  ... \n",
       "Whitchurch-Stouffville  Apartment                 True\n",
       "                        Composite                 True\n",
       "                        Single-Family Attached    True\n",
       "                        Single-Family Detached    True\n",
       "                        Townhouse                 True\n",
       "Name: MonthlyChangeInHPI, Length: 286, dtype: bool"
      ]
     },
     "execution_count": 12,
     "metadata": {},
     "output_type": "execute_result"
    }
   ],
   "source": [
    "is_panel_stationary = hpi_returns[hpi_returns['MonthlyChangeInHPI'].notnull()].groupby(['Area', 'Type'])['MonthlyChangeInHPI'].apply(is_stationary)\n",
    "is_panel_stationary"
   ]
  },
  {
   "cell_type": "code",
   "execution_count": 13,
   "metadata": {},
   "outputs": [
    {
     "data": {
      "text/plain": [
       "0.951048951048951"
      ]
     },
     "execution_count": 13,
     "metadata": {},
     "output_type": "execute_result"
    }
   ],
   "source": [
    "is_panel_stationary.sum() / len(is_panel_stationary)"
   ]
  },
  {
   "cell_type": "markdown",
   "metadata": {},
   "source": [
    "## Train VAR Model for One Window"
   ]
  },
  {
   "cell_type": "code",
   "execution_count": 14,
   "metadata": {},
   "outputs": [],
   "source": [
    "window_length = 48  # months before the date we run the forecast on."
   ]
  },
  {
   "cell_type": "code",
   "execution_count": 15,
   "metadata": {},
   "outputs": [],
   "source": [
    "# Get a smaller set of panels to avoid non-definite matrices.\n",
    "\n",
    "city_of_toronto_areas = hpi_returns[hpi_returns['Area'].str.startswith('Toronto')].copy()\n",
    "no_townhouses = city_of_toronto_areas['Type'] != 'Townhouse'  # Townhouse indices have some data missingness & seem to be prone to noise.\n",
    "only_composite_indices = city_of_toronto_areas['Type'] == 'Composite'\n",
    "only_apartment_indices = city_of_toronto_areas['Type'] == 'Apartment'\n",
    "k = 35  # Setting this too large results in singular matrices and the Cholesky decomposition fails.\n",
    "panels = city_of_toronto_areas[only_composite_indices].drop_duplicates(['Area', 'Type'])[['Area', 'Type']].sample(n=k)\n",
    "# panels\n",
    "\n"
   ]
  },
  {
   "cell_type": "code",
   "execution_count": 16,
   "metadata": {},
   "outputs": [
    {
     "data": {
      "text/plain": [
       "Timestamp('2013-11-01 00:00:00', freq='MS')"
      ]
     },
     "execution_count": 16,
     "metadata": {},
     "output_type": "execute_result"
    }
   ],
   "source": [
    "feasible_start_dates = pd.date_range(start=city_of_toronto_areas['Date'].min(), \n",
    "                       end=city_of_toronto_areas['Date'].max() - relativedelta(months=window_length + 6), \n",
    "                       freq='MS')\n",
    "# Choose a random start date for the window.\n",
    "start_date = random.choice(feasible_start_dates)\n",
    "# start_date = pd.to_datetime(date(2014, 12, 1))  # Overwrite the random start date, if needed\n",
    "start_date"
   ]
  },
  {
   "cell_type": "code",
   "execution_count": 17,
   "metadata": {},
   "outputs": [
    {
     "name": "stdout",
     "output_type": "stream",
     "text": [
      "Window Start: 2013-11-01 00:00:00\n",
      "Window End: 2017-11-01 00:00:00\n",
      "Date of the first forecast: 2017-12-01 00:00:00\n"
     ]
    }
   ],
   "source": [
    "end_date = start_date + relativedelta(months=window_length)\n",
    "train = (\n",
    "    hpi_returns\n",
    "        [hpi_returns['Date'].between(start_date, end_date)]\n",
    "        .merge(panels, on=['Area', 'Type'], how='inner')\n",
    "        .pivot_table(values=['MonthlyChangeInHPI'], index=['Date'], columns=['Area', 'Type'])\n",
    ")\n",
    "train.index = pd.DatetimeIndex(train.index).to_period('M')\n",
    "date_of_forecasted_value = end_date + relativedelta(months=1)\n",
    "print(f\"Window Start: {start_date}\\nWindow End: {end_date}\\nDate of the first forecast: {date_of_forecasted_value}\")\n"
   ]
  },
  {
   "cell_type": "markdown",
   "metadata": {},
   "source": [
    "### Model Training"
   ]
  },
  {
   "cell_type": "code",
   "execution_count": 18,
   "metadata": {},
   "outputs": [],
   "source": [
    "model = VAR(train)\n",
    "criterion = {}\n",
    "models = {}\n",
    "\n",
    "for lag_order in range(1, window_length):\n",
    "    try:\n",
    "        fitted = model.fit(lag_order)\n",
    "        models[lag_order] = fitted\n",
    "        criterion[lag_order] = fitted.aic\n",
    "    except:\n",
    "        pass\n",
    "# Next line chooses the model with the lowest AIC value.\n",
    "selected_lag_order = list(dict(sorted(criterion.items(), key=lambda x:x[1])).keys())[0]\n",
    "fitted = models[selected_lag_order]"
   ]
  },
  {
   "cell_type": "markdown",
   "metadata": {},
   "source": [
    "### Model Selection"
   ]
  },
  {
   "cell_type": "code",
   "execution_count": 19,
   "metadata": {},
   "outputs": [
    {
     "data": {
      "text/plain": [
       "<AxesSubplot:>"
      ]
     },
     "execution_count": 19,
     "metadata": {},
     "output_type": "execute_result"
    },
    {
     "data": {
      "image/png": "[encoded data removed]",
      "text/plain": [
       "<Figure size 432x288 with 1 Axes>"
      ]
     },
     "metadata": {
      "needs_background": "light"
     },
     "output_type": "display_data"
    }
   ],
   "source": [
    "sns.lineplot(x=list(criterion.keys()), y=list(criterion.values()))"
   ]
  },
  {
   "cell_type": "code",
   "execution_count": 20,
   "metadata": {},
   "outputs": [
    {
     "data": {
      "text/plain": [
       "array([-1.07082381e-31, -1.01768458e-30, -1.83847340e-32, -1.14372724e-32,\n",
       "       -8.24593905e-33, -6.87236797e-33, -4.80295866e-33, -3.75917838e-33,\n",
       "       -3.17942040e-33, -2.96531170e-33, -2.65993713e-33, -1.88960573e-33,\n",
       "       -1.72259310e-33, -1.32597459e-33, -1.19752083e-33, -1.08115306e-33,\n",
       "       -9.32745749e-34, -7.98370849e-34, -7.26627868e-34, -6.08423859e-34,\n",
       "       -6.00503024e-34, -4.45988366e-34, -3.93224812e-34, -3.47190079e-34,\n",
       "       -3.32079015e-34, -2.39821437e-34, -2.02932210e-34, -1.91923675e-34,\n",
       "       -1.56430703e-34, -2.33002596e-35, -3.14325609e-35, -4.27967530e-35,\n",
       "       -9.12374330e-35, -6.79590571e-35, -7.48405224e-35])"
      ]
     },
     "execution_count": 20,
     "metadata": {},
     "output_type": "execute_result"
    }
   ],
   "source": [
    "import numpy as np\n",
    "np.linalg.eigvals(fitted.sigma_u)"
   ]
  },
  {
   "cell_type": "markdown",
   "metadata": {},
   "source": [
    "### Forecasting"
   ]
  },
  {
   "cell_type": "code",
   "execution_count": 21,
   "metadata": {},
   "outputs": [
    {
     "data": {
      "text/html": [
       "<div>\n",
       "<style scoped>\n",
       "    .dataframe tbody tr th:only-of-type {\n",
       "        vertical-align: middle;\n",
       "    }\n",
       "\n",
       "    .dataframe tbody tr th {\n",
       "        vertical-align: top;\n",
       "    }\n",
       "\n",
       "    .dataframe thead tr th {\n",
       "        text-align: left;\n",
       "    }\n",
       "</style>\n",
       "<table border=\"1\" class=\"dataframe\">\n",
       "  <thead>\n",
       "    <tr>\n",
       "      <th></th>\n",
       "      <th colspan=\"21\" halign=\"left\">MonthlyChangeInHPI</th>\n",
       "    </tr>\n",
       "    <tr>\n",
       "      <th>Area</th>\n",
       "      <th>Toronto C01</th>\n",
       "      <th>Toronto C02</th>\n",
       "      <th>Toronto C03</th>\n",
       "      <th>Toronto C04</th>\n",
       "      <th>Toronto C06</th>\n",
       "      <th>Toronto C07</th>\n",
       "      <th>Toronto C08</th>\n",
       "      <th>Toronto C09</th>\n",
       "      <th>Toronto C10</th>\n",
       "      <th>Toronto C11</th>\n",
       "      <th>...</th>\n",
       "      <th>Toronto W01</th>\n",
       "      <th>Toronto W02</th>\n",
       "      <th>Toronto W03</th>\n",
       "      <th>Toronto W04</th>\n",
       "      <th>Toronto W05</th>\n",
       "      <th>Toronto W06</th>\n",
       "      <th>Toronto W07</th>\n",
       "      <th>Toronto W08</th>\n",
       "      <th>Toronto W09</th>\n",
       "      <th>Toronto W10</th>\n",
       "    </tr>\n",
       "    <tr>\n",
       "      <th>Type</th>\n",
       "      <th>Composite</th>\n",
       "      <th>Composite</th>\n",
       "      <th>Composite</th>\n",
       "      <th>Composite</th>\n",
       "      <th>Composite</th>\n",
       "      <th>Composite</th>\n",
       "      <th>Composite</th>\n",
       "      <th>Composite</th>\n",
       "      <th>Composite</th>\n",
       "      <th>Composite</th>\n",
       "      <th>...</th>\n",
       "      <th>Composite</th>\n",
       "      <th>Composite</th>\n",
       "      <th>Composite</th>\n",
       "      <th>Composite</th>\n",
       "      <th>Composite</th>\n",
       "      <th>Composite</th>\n",
       "      <th>Composite</th>\n",
       "      <th>Composite</th>\n",
       "      <th>Composite</th>\n",
       "      <th>Composite</th>\n",
       "    </tr>\n",
       "  </thead>\n",
       "  <tbody>\n",
       "    <tr>\n",
       "      <th>2017-12-01</th>\n",
       "      <td>-0.035902</td>\n",
       "      <td>0.036546</td>\n",
       "      <td>0.000607</td>\n",
       "      <td>-0.012236</td>\n",
       "      <td>0.010594</td>\n",
       "      <td>0.010188</td>\n",
       "      <td>-0.033519</td>\n",
       "      <td>-0.039791</td>\n",
       "      <td>-0.002635</td>\n",
       "      <td>-0.001133</td>\n",
       "      <td>...</td>\n",
       "      <td>-0.099872</td>\n",
       "      <td>-0.044701</td>\n",
       "      <td>-0.004615</td>\n",
       "      <td>0.007337</td>\n",
       "      <td>0.008451</td>\n",
       "      <td>0.014264</td>\n",
       "      <td>0.023142</td>\n",
       "      <td>-0.001053</td>\n",
       "      <td>-0.019527</td>\n",
       "      <td>0.002684</td>\n",
       "    </tr>\n",
       "    <tr>\n",
       "      <th>2018-01-01</th>\n",
       "      <td>0.010000</td>\n",
       "      <td>-0.033699</td>\n",
       "      <td>0.005012</td>\n",
       "      <td>0.031547</td>\n",
       "      <td>0.014214</td>\n",
       "      <td>0.028315</td>\n",
       "      <td>-0.009308</td>\n",
       "      <td>-0.039711</td>\n",
       "      <td>0.008911</td>\n",
       "      <td>0.025149</td>\n",
       "      <td>...</td>\n",
       "      <td>0.000867</td>\n",
       "      <td>0.006672</td>\n",
       "      <td>-0.000936</td>\n",
       "      <td>-0.020168</td>\n",
       "      <td>0.017987</td>\n",
       "      <td>-0.008841</td>\n",
       "      <td>-0.005373</td>\n",
       "      <td>-0.006773</td>\n",
       "      <td>-0.007339</td>\n",
       "      <td>0.003310</td>\n",
       "    </tr>\n",
       "    <tr>\n",
       "      <th>2018-02-01</th>\n",
       "      <td>0.018765</td>\n",
       "      <td>0.002254</td>\n",
       "      <td>0.022816</td>\n",
       "      <td>0.031840</td>\n",
       "      <td>-0.016278</td>\n",
       "      <td>-0.002770</td>\n",
       "      <td>0.023398</td>\n",
       "      <td>0.050787</td>\n",
       "      <td>0.024840</td>\n",
       "      <td>0.020995</td>\n",
       "      <td>...</td>\n",
       "      <td>0.054150</td>\n",
       "      <td>-0.004602</td>\n",
       "      <td>0.051559</td>\n",
       "      <td>0.034524</td>\n",
       "      <td>0.015952</td>\n",
       "      <td>0.023104</td>\n",
       "      <td>0.025329</td>\n",
       "      <td>0.034722</td>\n",
       "      <td>0.088650</td>\n",
       "      <td>0.021003</td>\n",
       "    </tr>\n",
       "    <tr>\n",
       "      <th>2018-03-01</th>\n",
       "      <td>0.011583</td>\n",
       "      <td>-0.064556</td>\n",
       "      <td>-0.017323</td>\n",
       "      <td>-0.012959</td>\n",
       "      <td>-0.001066</td>\n",
       "      <td>0.010252</td>\n",
       "      <td>0.005077</td>\n",
       "      <td>0.042026</td>\n",
       "      <td>-0.026173</td>\n",
       "      <td>0.032279</td>\n",
       "      <td>...</td>\n",
       "      <td>0.035493</td>\n",
       "      <td>0.014774</td>\n",
       "      <td>0.003948</td>\n",
       "      <td>0.013471</td>\n",
       "      <td>-0.008454</td>\n",
       "      <td>0.008521</td>\n",
       "      <td>-0.024672</td>\n",
       "      <td>-0.006347</td>\n",
       "      <td>-0.006209</td>\n",
       "      <td>0.027843</td>\n",
       "    </tr>\n",
       "    <tr>\n",
       "      <th>2018-04-01</th>\n",
       "      <td>-0.030637</td>\n",
       "      <td>0.002290</td>\n",
       "      <td>-0.038224</td>\n",
       "      <td>-0.020339</td>\n",
       "      <td>0.006643</td>\n",
       "      <td>0.001969</td>\n",
       "      <td>-0.044028</td>\n",
       "      <td>-0.022683</td>\n",
       "      <td>0.005210</td>\n",
       "      <td>-0.056132</td>\n",
       "      <td>...</td>\n",
       "      <td>-0.048996</td>\n",
       "      <td>-0.043545</td>\n",
       "      <td>-0.035022</td>\n",
       "      <td>-0.013601</td>\n",
       "      <td>0.017817</td>\n",
       "      <td>-0.004814</td>\n",
       "      <td>-0.046660</td>\n",
       "      <td>-0.029584</td>\n",
       "      <td>-0.036083</td>\n",
       "      <td>-0.006053</td>\n",
       "    </tr>\n",
       "    <tr>\n",
       "      <th>2018-05-01</th>\n",
       "      <td>-0.068104</td>\n",
       "      <td>0.004451</td>\n",
       "      <td>-0.017802</td>\n",
       "      <td>-0.030889</td>\n",
       "      <td>-0.007929</td>\n",
       "      <td>-0.024631</td>\n",
       "      <td>-0.049610</td>\n",
       "      <td>-0.007394</td>\n",
       "      <td>-0.042566</td>\n",
       "      <td>-0.029189</td>\n",
       "      <td>...</td>\n",
       "      <td>-0.043097</td>\n",
       "      <td>-0.013388</td>\n",
       "      <td>-0.025988</td>\n",
       "      <td>-0.023829</td>\n",
       "      <td>-0.005191</td>\n",
       "      <td>-0.122029</td>\n",
       "      <td>-0.076050</td>\n",
       "      <td>-0.044689</td>\n",
       "      <td>-0.053416</td>\n",
       "      <td>-0.058910</td>\n",
       "    </tr>\n",
       "  </tbody>\n",
       "</table>\n",
       "<p>6 rows × 35 columns</p>\n",
       "</div>"
      ],
      "text/plain": [
       "           MonthlyChangeInHPI                                                  \\\n",
       "Area              Toronto C01 Toronto C02 Toronto C03 Toronto C04 Toronto C06   \n",
       "Type                Composite   Composite   Composite   Composite   Composite   \n",
       "2017-12-01          -0.035902    0.036546    0.000607   -0.012236    0.010594   \n",
       "2018-01-01           0.010000   -0.033699    0.005012    0.031547    0.014214   \n",
       "2018-02-01           0.018765    0.002254    0.022816    0.031840   -0.016278   \n",
       "2018-03-01           0.011583   -0.064556   -0.017323   -0.012959   -0.001066   \n",
       "2018-04-01          -0.030637    0.002290   -0.038224   -0.020339    0.006643   \n",
       "2018-05-01          -0.068104    0.004451   -0.017802   -0.030889   -0.007929   \n",
       "\n",
       "                                                                        ...  \\\n",
       "Area       Toronto C07 Toronto C08 Toronto C09 Toronto C10 Toronto C11  ...   \n",
       "Type         Composite   Composite   Composite   Composite   Composite  ...   \n",
       "2017-12-01    0.010188   -0.033519   -0.039791   -0.002635   -0.001133  ...   \n",
       "2018-01-01    0.028315   -0.009308   -0.039711    0.008911    0.025149  ...   \n",
       "2018-02-01   -0.002770    0.023398    0.050787    0.024840    0.020995  ...   \n",
       "2018-03-01    0.010252    0.005077    0.042026   -0.026173    0.032279  ...   \n",
       "2018-04-01    0.001969   -0.044028   -0.022683    0.005210   -0.056132  ...   \n",
       "2018-05-01   -0.024631   -0.049610   -0.007394   -0.042566   -0.029189  ...   \n",
       "\n",
       "                                                                        \\\n",
       "Area       Toronto W01 Toronto W02 Toronto W03 Toronto W04 Toronto W05   \n",
       "Type         Composite   Composite   Composite   Composite   Composite   \n",
       "2017-12-01   -0.099872   -0.044701   -0.004615    0.007337    0.008451   \n",
       "2018-01-01    0.000867    0.006672   -0.000936   -0.020168    0.017987   \n",
       "2018-02-01    0.054150   -0.004602    0.051559    0.034524    0.015952   \n",
       "2018-03-01    0.035493    0.014774    0.003948    0.013471   -0.008454   \n",
       "2018-04-01   -0.048996   -0.043545   -0.035022   -0.013601    0.017817   \n",
       "2018-05-01   -0.043097   -0.013388   -0.025988   -0.023829   -0.005191   \n",
       "\n",
       "                                                                        \n",
       "Area       Toronto W06 Toronto W07 Toronto W08 Toronto W09 Toronto W10  \n",
       "Type         Composite   Composite   Composite   Composite   Composite  \n",
       "2017-12-01    0.014264    0.023142   -0.001053   -0.019527    0.002684  \n",
       "2018-01-01   -0.008841   -0.005373   -0.006773   -0.007339    0.003310  \n",
       "2018-02-01    0.023104    0.025329    0.034722    0.088650    0.021003  \n",
       "2018-03-01    0.008521   -0.024672   -0.006347   -0.006209    0.027843  \n",
       "2018-04-01   -0.004814   -0.046660   -0.029584   -0.036083   -0.006053  \n",
       "2018-05-01   -0.122029   -0.076050   -0.044689   -0.053416   -0.058910  \n",
       "\n",
       "[6 rows x 35 columns]"
      ]
     },
     "execution_count": 21,
     "metadata": {},
     "output_type": "execute_result"
    }
   ],
   "source": [
    "steps = 6\n",
    "forecast = pd.DataFrame(\n",
    "    columns=train.columns, \n",
    "    index=pd.DatetimeIndex(pd.date_range(start=date_of_forecasted_value, periods=steps, freq='MS')), \n",
    "    data=fitted.forecast(y=train.values[-selected_lag_order:], steps=steps))\n",
    "forecast"
   ]
  },
  {
   "cell_type": "code",
   "execution_count": 22,
   "metadata": {},
   "outputs": [
    {
     "data": {
      "text/html": [
       "<div>\n",
       "<style scoped>\n",
       "    .dataframe tbody tr th:only-of-type {\n",
       "        vertical-align: middle;\n",
       "    }\n",
       "\n",
       "    .dataframe tbody tr th {\n",
       "        vertical-align: top;\n",
       "    }\n",
       "\n",
       "    .dataframe thead th {\n",
       "        text-align: right;\n",
       "    }\n",
       "</style>\n",
       "<table border=\"1\" class=\"dataframe\">\n",
       "  <thead>\n",
       "    <tr style=\"text-align: right;\">\n",
       "      <th></th>\n",
       "      <th>Area</th>\n",
       "      <th>Date</th>\n",
       "      <th>Type</th>\n",
       "      <th>HPI</th>\n",
       "      <th>HPI.L1</th>\n",
       "      <th>HPI.F2</th>\n",
       "      <th>HPI.F5</th>\n",
       "      <th>MonthlyChangeInHPI</th>\n",
       "      <th>FutureQuarterlyChangeInHPI</th>\n",
       "      <th>FutureSemiAnnualChangeInHPI</th>\n",
       "      <th>PositiveMonthlyReturn</th>\n",
       "      <th>LastKnownHPI</th>\n",
       "      <th>ForecastedMonthlyChangeInHPI</th>\n",
       "      <th>OnePlusForecastedMonthlyChangeInHPI</th>\n",
       "      <th>OnePlusForecastedCumulativeChangeInHPI</th>\n",
       "      <th>ForecastedHPI</th>\n",
       "    </tr>\n",
       "  </thead>\n",
       "  <tbody>\n",
       "    <tr>\n",
       "      <th>470</th>\n",
       "      <td>Toronto C10</td>\n",
       "      <td>2017-02-01</td>\n",
       "      <td>Composite</td>\n",
       "      <td>234.0</td>\n",
       "      <td>228.6</td>\n",
       "      <td>252.1</td>\n",
       "      <td>254.1</td>\n",
       "      <td>0.023622</td>\n",
       "      <td>0.102800</td>\n",
       "      <td>0.111549</td>\n",
       "      <td>True</td>\n",
       "      <td>254.5</td>\n",
       "      <td>NaN</td>\n",
       "      <td>NaN</td>\n",
       "      <td>NaN</td>\n",
       "      <td>NaN</td>\n",
       "    </tr>\n",
       "    <tr>\n",
       "      <th>471</th>\n",
       "      <td>Toronto C10</td>\n",
       "      <td>2017-03-01</td>\n",
       "      <td>Composite</td>\n",
       "      <td>242.1</td>\n",
       "      <td>234.0</td>\n",
       "      <td>258.8</td>\n",
       "      <td>248.7</td>\n",
       "      <td>0.034615</td>\n",
       "      <td>0.105983</td>\n",
       "      <td>0.062821</td>\n",
       "      <td>True</td>\n",
       "      <td>254.5</td>\n",
       "      <td>NaN</td>\n",
       "      <td>NaN</td>\n",
       "      <td>NaN</td>\n",
       "      <td>NaN</td>\n",
       "    </tr>\n",
       "    <tr>\n",
       "      <th>472</th>\n",
       "      <td>Toronto C10</td>\n",
       "      <td>2017-04-01</td>\n",
       "      <td>Composite</td>\n",
       "      <td>252.1</td>\n",
       "      <td>242.1</td>\n",
       "      <td>260.8</td>\n",
       "      <td>252.6</td>\n",
       "      <td>0.041305</td>\n",
       "      <td>0.077241</td>\n",
       "      <td>0.043371</td>\n",
       "      <td>True</td>\n",
       "      <td>254.5</td>\n",
       "      <td>NaN</td>\n",
       "      <td>NaN</td>\n",
       "      <td>NaN</td>\n",
       "      <td>NaN</td>\n",
       "    </tr>\n",
       "    <tr>\n",
       "      <th>473</th>\n",
       "      <td>Toronto C10</td>\n",
       "      <td>2017-05-01</td>\n",
       "      <td>Composite</td>\n",
       "      <td>258.8</td>\n",
       "      <td>252.1</td>\n",
       "      <td>254.1</td>\n",
       "      <td>255.3</td>\n",
       "      <td>0.026577</td>\n",
       "      <td>0.007933</td>\n",
       "      <td>0.012693</td>\n",
       "      <td>True</td>\n",
       "      <td>254.5</td>\n",
       "      <td>NaN</td>\n",
       "      <td>NaN</td>\n",
       "      <td>NaN</td>\n",
       "      <td>NaN</td>\n",
       "    </tr>\n",
       "    <tr>\n",
       "      <th>474</th>\n",
       "      <td>Toronto C10</td>\n",
       "      <td>2017-06-01</td>\n",
       "      <td>Composite</td>\n",
       "      <td>260.8</td>\n",
       "      <td>258.8</td>\n",
       "      <td>248.7</td>\n",
       "      <td>254.5</td>\n",
       "      <td>0.007728</td>\n",
       "      <td>-0.039026</td>\n",
       "      <td>-0.016615</td>\n",
       "      <td>True</td>\n",
       "      <td>254.5</td>\n",
       "      <td>NaN</td>\n",
       "      <td>NaN</td>\n",
       "      <td>NaN</td>\n",
       "      <td>NaN</td>\n",
       "    </tr>\n",
       "    <tr>\n",
       "      <th>475</th>\n",
       "      <td>Toronto C10</td>\n",
       "      <td>2017-07-01</td>\n",
       "      <td>Composite</td>\n",
       "      <td>254.1</td>\n",
       "      <td>260.8</td>\n",
       "      <td>252.6</td>\n",
       "      <td>253.9</td>\n",
       "      <td>-0.025690</td>\n",
       "      <td>-0.031442</td>\n",
       "      <td>-0.026457</td>\n",
       "      <td>False</td>\n",
       "      <td>254.5</td>\n",
       "      <td>NaN</td>\n",
       "      <td>NaN</td>\n",
       "      <td>NaN</td>\n",
       "      <td>NaN</td>\n",
       "    </tr>\n",
       "    <tr>\n",
       "      <th>476</th>\n",
       "      <td>Toronto C10</td>\n",
       "      <td>2017-08-01</td>\n",
       "      <td>Composite</td>\n",
       "      <td>248.7</td>\n",
       "      <td>254.1</td>\n",
       "      <td>255.3</td>\n",
       "      <td>250.2</td>\n",
       "      <td>-0.021251</td>\n",
       "      <td>0.004723</td>\n",
       "      <td>-0.015348</td>\n",
       "      <td>False</td>\n",
       "      <td>254.5</td>\n",
       "      <td>NaN</td>\n",
       "      <td>NaN</td>\n",
       "      <td>NaN</td>\n",
       "      <td>NaN</td>\n",
       "    </tr>\n",
       "    <tr>\n",
       "      <th>477</th>\n",
       "      <td>Toronto C10</td>\n",
       "      <td>2017-09-01</td>\n",
       "      <td>Composite</td>\n",
       "      <td>252.6</td>\n",
       "      <td>248.7</td>\n",
       "      <td>254.5</td>\n",
       "      <td>255.4</td>\n",
       "      <td>0.015682</td>\n",
       "      <td>0.023321</td>\n",
       "      <td>0.026940</td>\n",
       "      <td>True</td>\n",
       "      <td>254.5</td>\n",
       "      <td>NaN</td>\n",
       "      <td>NaN</td>\n",
       "      <td>NaN</td>\n",
       "      <td>NaN</td>\n",
       "    </tr>\n",
       "    <tr>\n",
       "      <th>478</th>\n",
       "      <td>Toronto C10</td>\n",
       "      <td>2017-10-01</td>\n",
       "      <td>Composite</td>\n",
       "      <td>255.3</td>\n",
       "      <td>252.6</td>\n",
       "      <td>253.9</td>\n",
       "      <td>260.2</td>\n",
       "      <td>0.010689</td>\n",
       "      <td>0.005146</td>\n",
       "      <td>0.030087</td>\n",
       "      <td>True</td>\n",
       "      <td>254.5</td>\n",
       "      <td>NaN</td>\n",
       "      <td>NaN</td>\n",
       "      <td>NaN</td>\n",
       "      <td>NaN</td>\n",
       "    </tr>\n",
       "    <tr>\n",
       "      <th>479</th>\n",
       "      <td>Toronto C10</td>\n",
       "      <td>2017-11-01</td>\n",
       "      <td>Composite</td>\n",
       "      <td>254.5</td>\n",
       "      <td>255.3</td>\n",
       "      <td>250.2</td>\n",
       "      <td>266.6</td>\n",
       "      <td>-0.003134</td>\n",
       "      <td>-0.019976</td>\n",
       "      <td>0.044262</td>\n",
       "      <td>False</td>\n",
       "      <td>254.5</td>\n",
       "      <td>NaN</td>\n",
       "      <td>NaN</td>\n",
       "      <td>NaN</td>\n",
       "      <td>NaN</td>\n",
       "    </tr>\n",
       "    <tr>\n",
       "      <th>480</th>\n",
       "      <td>Toronto C10</td>\n",
       "      <td>2017-12-01</td>\n",
       "      <td>Composite</td>\n",
       "      <td>253.9</td>\n",
       "      <td>254.5</td>\n",
       "      <td>255.4</td>\n",
       "      <td>268.9</td>\n",
       "      <td>-0.002358</td>\n",
       "      <td>0.003536</td>\n",
       "      <td>0.056582</td>\n",
       "      <td>False</td>\n",
       "      <td>254.5</td>\n",
       "      <td>-0.002635</td>\n",
       "      <td>0.997365</td>\n",
       "      <td>0.997365</td>\n",
       "      <td>253.829371</td>\n",
       "    </tr>\n",
       "    <tr>\n",
       "      <th>481</th>\n",
       "      <td>Toronto C10</td>\n",
       "      <td>2018-01-01</td>\n",
       "      <td>Composite</td>\n",
       "      <td>250.2</td>\n",
       "      <td>253.9</td>\n",
       "      <td>260.2</td>\n",
       "      <td>267.3</td>\n",
       "      <td>-0.014573</td>\n",
       "      <td>0.024813</td>\n",
       "      <td>0.052777</td>\n",
       "      <td>False</td>\n",
       "      <td>254.5</td>\n",
       "      <td>0.008911</td>\n",
       "      <td>1.008911</td>\n",
       "      <td>1.006252</td>\n",
       "      <td>256.091142</td>\n",
       "    </tr>\n",
       "    <tr>\n",
       "      <th>482</th>\n",
       "      <td>Toronto C10</td>\n",
       "      <td>2018-02-01</td>\n",
       "      <td>Composite</td>\n",
       "      <td>255.4</td>\n",
       "      <td>250.2</td>\n",
       "      <td>266.6</td>\n",
       "      <td>264.4</td>\n",
       "      <td>0.020783</td>\n",
       "      <td>0.065548</td>\n",
       "      <td>0.056755</td>\n",
       "      <td>True</td>\n",
       "      <td>254.5</td>\n",
       "      <td>0.024840</td>\n",
       "      <td>1.024840</td>\n",
       "      <td>1.031247</td>\n",
       "      <td>262.452380</td>\n",
       "    </tr>\n",
       "    <tr>\n",
       "      <th>483</th>\n",
       "      <td>Toronto C10</td>\n",
       "      <td>2018-03-01</td>\n",
       "      <td>Composite</td>\n",
       "      <td>260.2</td>\n",
       "      <td>255.4</td>\n",
       "      <td>268.9</td>\n",
       "      <td>267.1</td>\n",
       "      <td>0.018794</td>\n",
       "      <td>0.052858</td>\n",
       "      <td>0.045810</td>\n",
       "      <td>True</td>\n",
       "      <td>254.5</td>\n",
       "      <td>-0.026173</td>\n",
       "      <td>0.973827</td>\n",
       "      <td>1.004257</td>\n",
       "      <td>255.583287</td>\n",
       "    </tr>\n",
       "    <tr>\n",
       "      <th>484</th>\n",
       "      <td>Toronto C10</td>\n",
       "      <td>2018-04-01</td>\n",
       "      <td>Composite</td>\n",
       "      <td>266.6</td>\n",
       "      <td>260.2</td>\n",
       "      <td>267.3</td>\n",
       "      <td>270.0</td>\n",
       "      <td>0.024596</td>\n",
       "      <td>0.027287</td>\n",
       "      <td>0.037663</td>\n",
       "      <td>True</td>\n",
       "      <td>254.5</td>\n",
       "      <td>0.005210</td>\n",
       "      <td>1.005210</td>\n",
       "      <td>1.009489</td>\n",
       "      <td>256.914924</td>\n",
       "    </tr>\n",
       "  </tbody>\n",
       "</table>\n",
       "</div>"
      ],
      "text/plain": [
       "            Area       Date       Type    HPI  HPI.L1  HPI.F2  HPI.F5  \\\n",
       "470  Toronto C10 2017-02-01  Composite  234.0   228.6   252.1   254.1   \n",
       "471  Toronto C10 2017-03-01  Composite  242.1   234.0   258.8   248.7   \n",
       "472  Toronto C10 2017-04-01  Composite  252.1   242.1   260.8   252.6   \n",
       "473  Toronto C10 2017-05-01  Composite  258.8   252.1   254.1   255.3   \n",
       "474  Toronto C10 2017-06-01  Composite  260.8   258.8   248.7   254.5   \n",
       "475  Toronto C10 2017-07-01  Composite  254.1   260.8   252.6   253.9   \n",
       "476  Toronto C10 2017-08-01  Composite  248.7   254.1   255.3   250.2   \n",
       "477  Toronto C10 2017-09-01  Composite  252.6   248.7   254.5   255.4   \n",
       "478  Toronto C10 2017-10-01  Composite  255.3   252.6   253.9   260.2   \n",
       "479  Toronto C10 2017-11-01  Composite  254.5   255.3   250.2   266.6   \n",
       "480  Toronto C10 2017-12-01  Composite  253.9   254.5   255.4   268.9   \n",
       "481  Toronto C10 2018-01-01  Composite  250.2   253.9   260.2   267.3   \n",
       "482  Toronto C10 2018-02-01  Composite  255.4   250.2   266.6   264.4   \n",
       "483  Toronto C10 2018-03-01  Composite  260.2   255.4   268.9   267.1   \n",
       "484  Toronto C10 2018-04-01  Composite  266.6   260.2   267.3   270.0   \n",
       "\n",
       "     MonthlyChangeInHPI  FutureQuarterlyChangeInHPI  \\\n",
       "470            0.023622                    0.102800   \n",
       "471            0.034615                    0.105983   \n",
       "472            0.041305                    0.077241   \n",
       "473            0.026577                    0.007933   \n",
       "474            0.007728                   -0.039026   \n",
       "475           -0.025690                   -0.031442   \n",
       "476           -0.021251                    0.004723   \n",
       "477            0.015682                    0.023321   \n",
       "478            0.010689                    0.005146   \n",
       "479           -0.003134                   -0.019976   \n",
       "480           -0.002358                    0.003536   \n",
       "481           -0.014573                    0.024813   \n",
       "482            0.020783                    0.065548   \n",
       "483            0.018794                    0.052858   \n",
       "484            0.024596                    0.027287   \n",
       "\n",
       "     FutureSemiAnnualChangeInHPI  PositiveMonthlyReturn  LastKnownHPI  \\\n",
       "470                     0.111549                   True         254.5   \n",
       "471                     0.062821                   True         254.5   \n",
       "472                     0.043371                   True         254.5   \n",
       "473                     0.012693                   True         254.5   \n",
       "474                    -0.016615                   True         254.5   \n",
       "475                    -0.026457                  False         254.5   \n",
       "476                    -0.015348                  False         254.5   \n",
       "477                     0.026940                   True         254.5   \n",
       "478                     0.030087                   True         254.5   \n",
       "479                     0.044262                  False         254.5   \n",
       "480                     0.056582                  False         254.5   \n",
       "481                     0.052777                  False         254.5   \n",
       "482                     0.056755                   True         254.5   \n",
       "483                     0.045810                   True         254.5   \n",
       "484                     0.037663                   True         254.5   \n",
       "\n",
       "     ForecastedMonthlyChangeInHPI  OnePlusForecastedMonthlyChangeInHPI  \\\n",
       "470                           NaN                                  NaN   \n",
       "471                           NaN                                  NaN   \n",
       "472                           NaN                                  NaN   \n",
       "473                           NaN                                  NaN   \n",
       "474                           NaN                                  NaN   \n",
       "475                           NaN                                  NaN   \n",
       "476                           NaN                                  NaN   \n",
       "477                           NaN                                  NaN   \n",
       "478                           NaN                                  NaN   \n",
       "479                           NaN                                  NaN   \n",
       "480                     -0.002635                             0.997365   \n",
       "481                      0.008911                             1.008911   \n",
       "482                      0.024840                             1.024840   \n",
       "483                     -0.026173                             0.973827   \n",
       "484                      0.005210                             1.005210   \n",
       "\n",
       "     OnePlusForecastedCumulativeChangeInHPI  ForecastedHPI  \n",
       "470                                     NaN            NaN  \n",
       "471                                     NaN            NaN  \n",
       "472                                     NaN            NaN  \n",
       "473                                     NaN            NaN  \n",
       "474                                     NaN            NaN  \n",
       "475                                     NaN            NaN  \n",
       "476                                     NaN            NaN  \n",
       "477                                     NaN            NaN  \n",
       "478                                     NaN            NaN  \n",
       "479                                     NaN            NaN  \n",
       "480                                0.997365     253.829371  \n",
       "481                                1.006252     256.091142  \n",
       "482                                1.031247     262.452380  \n",
       "483                                1.004257     255.583287  \n",
       "484                                1.009489     256.914924  "
      ]
     },
     "execution_count": 22,
     "metadata": {},
     "output_type": "execute_result"
    }
   ],
   "source": [
    "forecast_in_tall_fmt = forecast.melt(value_name='ForecastedMonthlyChangeInHPI', ignore_index=False).reset_index().rename(columns={'index': 'Date'})\n",
    "forecast_in_tall_fmt = forecast_in_tall_fmt[[col for col in forecast_in_tall_fmt.columns if col is not None]]\n",
    "last_know_hpi_at_the_time_of_forecasting = hpi_returns[hpi_returns['Date'] == end_date].groupby(['Area', 'Type'])[['HPI']].last().reset_index().rename(columns={'HPI': 'LastKnownHPI'})\n",
    "comparison = (\n",
    "    city_of_toronto_areas\n",
    "        [city_of_toronto_areas['Date'].between(start_date, end_date + relativedelta(months=steps))]\n",
    "        .merge(panels, how='inner', on=['Area', 'Type'])\n",
    "        .merge(last_know_hpi_at_the_time_of_forecasting, how='left', on=['Area', 'Type'])\n",
    "        .merge(forecast_in_tall_fmt, how='left', on=['Date', 'Area', 'Type'])\n",
    ")\n",
    "comparison.sort_values(['Area', 'Type', 'Date'], inplace=True)\n",
    "comparison['OnePlusForecastedMonthlyChangeInHPI'] = 1 + comparison['ForecastedMonthlyChangeInHPI']\n",
    "comparison['OnePlusForecastedCumulativeChangeInHPI'] = comparison.groupby(['Area', 'Type'])['OnePlusForecastedMonthlyChangeInHPI'].cumprod()\n",
    "comparison['ForecastedHPI'] = comparison['OnePlusForecastedCumulativeChangeInHPI'] * comparison['LastKnownHPI']\n",
    "comparison.drop(columns=['level_0', 'index'], inplace=True)\n",
    "random_idx = random.randint(0, len(comparison))\n",
    "comparison[random_idx:random_idx + 15]"
   ]
  },
  {
   "cell_type": "code",
   "execution_count": 23,
   "metadata": {},
   "outputs": [
    {
     "data": {
      "text/html": [
       "<div>\n",
       "<style scoped>\n",
       "    .dataframe tbody tr th:only-of-type {\n",
       "        vertical-align: middle;\n",
       "    }\n",
       "\n",
       "    .dataframe tbody tr th {\n",
       "        vertical-align: top;\n",
       "    }\n",
       "\n",
       "    .dataframe thead th {\n",
       "        text-align: right;\n",
       "    }\n",
       "</style>\n",
       "<table border=\"1\" class=\"dataframe\">\n",
       "  <thead>\n",
       "    <tr style=\"text-align: right;\">\n",
       "      <th></th>\n",
       "      <th>Area</th>\n",
       "      <th>Type</th>\n",
       "      <th>Date</th>\n",
       "      <th>ActualVsForecasted</th>\n",
       "      <th>HPI</th>\n",
       "    </tr>\n",
       "  </thead>\n",
       "  <tbody>\n",
       "    <tr>\n",
       "      <th>0</th>\n",
       "      <td>Toronto C01</td>\n",
       "      <td>Composite</td>\n",
       "      <td>2013-11-01</td>\n",
       "      <td>ActualHPI</td>\n",
       "      <td>181.6</td>\n",
       "    </tr>\n",
       "    <tr>\n",
       "      <th>1</th>\n",
       "      <td>Toronto C01</td>\n",
       "      <td>Composite</td>\n",
       "      <td>2014-01-01</td>\n",
       "      <td>ActualHPI</td>\n",
       "      <td>181.2</td>\n",
       "    </tr>\n",
       "    <tr>\n",
       "      <th>2</th>\n",
       "      <td>Toronto C01</td>\n",
       "      <td>Composite</td>\n",
       "      <td>2014-02-01</td>\n",
       "      <td>ActualHPI</td>\n",
       "      <td>184.6</td>\n",
       "    </tr>\n",
       "    <tr>\n",
       "      <th>3</th>\n",
       "      <td>Toronto C01</td>\n",
       "      <td>Composite</td>\n",
       "      <td>2014-03-01</td>\n",
       "      <td>ActualHPI</td>\n",
       "      <td>184.0</td>\n",
       "    </tr>\n",
       "    <tr>\n",
       "      <th>4</th>\n",
       "      <td>Toronto C01</td>\n",
       "      <td>Composite</td>\n",
       "      <td>2014-04-01</td>\n",
       "      <td>ActualHPI</td>\n",
       "      <td>187.1</td>\n",
       "    </tr>\n",
       "    <tr>\n",
       "      <th>...</th>\n",
       "      <td>...</td>\n",
       "      <td>...</td>\n",
       "      <td>...</td>\n",
       "      <td>...</td>\n",
       "      <td>...</td>\n",
       "    </tr>\n",
       "    <tr>\n",
       "      <th>1667</th>\n",
       "      <td>Toronto W06</td>\n",
       "      <td>Composite</td>\n",
       "      <td>2017-11-01</td>\n",
       "      <td>ForecastedHPI</td>\n",
       "      <td>194.1</td>\n",
       "    </tr>\n",
       "    <tr>\n",
       "      <th>1721</th>\n",
       "      <td>Toronto W07</td>\n",
       "      <td>Composite</td>\n",
       "      <td>2017-11-01</td>\n",
       "      <td>ForecastedHPI</td>\n",
       "      <td>221.2</td>\n",
       "    </tr>\n",
       "    <tr>\n",
       "      <th>1775</th>\n",
       "      <td>Toronto W08</td>\n",
       "      <td>Composite</td>\n",
       "      <td>2017-11-01</td>\n",
       "      <td>ForecastedHPI</td>\n",
       "      <td>200.7</td>\n",
       "    </tr>\n",
       "    <tr>\n",
       "      <th>1829</th>\n",
       "      <td>Toronto W09</td>\n",
       "      <td>Composite</td>\n",
       "      <td>2017-11-01</td>\n",
       "      <td>ForecastedHPI</td>\n",
       "      <td>222.6</td>\n",
       "    </tr>\n",
       "    <tr>\n",
       "      <th>1883</th>\n",
       "      <td>Toronto W10</td>\n",
       "      <td>Composite</td>\n",
       "      <td>2017-11-01</td>\n",
       "      <td>ForecastedHPI</td>\n",
       "      <td>225.5</td>\n",
       "    </tr>\n",
       "  </tbody>\n",
       "</table>\n",
       "<p>3815 rows × 5 columns</p>\n",
       "</div>"
      ],
      "text/plain": [
       "             Area       Type       Date ActualVsForecasted    HPI\n",
       "0     Toronto C01  Composite 2013-11-01          ActualHPI  181.6\n",
       "1     Toronto C01  Composite 2014-01-01          ActualHPI  181.2\n",
       "2     Toronto C01  Composite 2014-02-01          ActualHPI  184.6\n",
       "3     Toronto C01  Composite 2014-03-01          ActualHPI  184.0\n",
       "4     Toronto C01  Composite 2014-04-01          ActualHPI  187.1\n",
       "...           ...        ...        ...                ...    ...\n",
       "1667  Toronto W06  Composite 2017-11-01      ForecastedHPI  194.1\n",
       "1721  Toronto W07  Composite 2017-11-01      ForecastedHPI  221.2\n",
       "1775  Toronto W08  Composite 2017-11-01      ForecastedHPI  200.7\n",
       "1829  Toronto W09  Composite 2017-11-01      ForecastedHPI  222.6\n",
       "1883  Toronto W10  Composite 2017-11-01      ForecastedHPI  225.5\n",
       "\n",
       "[3815 rows x 5 columns]"
      ]
     },
     "execution_count": 23,
     "metadata": {},
     "output_type": "execute_result"
    }
   ],
   "source": [
    "# visualization = comparison.melt(id_vars=['Area', 'Type', 'Date'], value_vars=['HPI', 'ForecastedHPI', 'MonthlyChangeInHPI', 'ForecastedMonthlyChangeInHPI'])\n",
    "visualization = (\n",
    "    comparison\n",
    "        .rename(columns={'HPI': 'ActualHPI'})\n",
    "        .melt(id_vars=['Area', 'Type', 'Date'], value_vars=['ActualHPI', 'ForecastedHPI'], value_name='HPI', var_name='ActualVsForecasted')\n",
    ")\n",
    "last_known_hpi_at_the_time_of_forecasting = visualization[(visualization['Date'] == end_date) & (visualization['ActualVsForecasted'] == 'ActualHPI')].copy()\n",
    "last_known_hpi_at_the_time_of_forecasting['ActualVsForecasted'] = 'ForecastedHPI'\n",
    "visualization = pd.concat([visualization, last_known_hpi_at_the_time_of_forecasting])\n",
    "no_actual_values_for_forecasted_period = ~((visualization['Date'] > end_date) & (visualization['ActualVsForecasted'] == 'ActualHPI'))\n",
    "visualization"
   ]
  },
  {
   "cell_type": "code",
   "execution_count": 24,
   "metadata": {},
   "outputs": [],
   "source": [
    "area, housing_type = visualization.sample(1)[['Area', 'Type']].reset_index().loc[0].tolist()[1:]\n",
    "area = 'Toronto C08'\n",
    "housing_type = 'Composite'"
   ]
  },
  {
   "cell_type": "code",
   "execution_count": 25,
   "metadata": {},
   "outputs": [
    {
     "data": {
      "image/png": "[encoded data removed]",
      "text/plain": [
       "<Figure size 1008x504 with 1 Axes>"
      ]
     },
     "metadata": {},
     "output_type": "display_data"
    }
   ],
   "source": [
    "\n",
    "with sns.plotting_context(\"paper\", font_scale=1.8):\n",
    "    with sns.axes_style(\"whitegrid\"):\n",
    "        ax = sns.lineplot(\n",
    "            data=visualization[(visualization['Area'] == area) & (visualization['Type'] == housing_type) & no_actual_values_for_forecasted_period],\n",
    "            x='Date',\n",
    "            y='HPI',\n",
    "            style='ActualVsForecasted',\n",
    "            estimator='mean'\n",
    "        )\n",
    "        ax.figure.set_figwidth(14)\n",
    "        ax.figure.set_figheight(7)\n",
    "        ax.axvline(end_date, color='black')\n",
    "        ax.set_title(f\"{area} - {housing_type}\")\n",
    "        fig = ax.get_figure()"
   ]
  },
  {
   "cell_type": "code",
   "execution_count": 26,
   "metadata": {},
   "outputs": [
    {
     "data": {
      "image/png": "[encoded data removed]",
      "text/plain": [
       "<Figure size 1008x504 with 1 Axes>"
      ]
     },
     "metadata": {},
     "output_type": "display_data"
    }
   ],
   "source": [
    "\n",
    "with sns.plotting_context(\"paper\", font_scale=1.8):\n",
    "    with sns.axes_style(\"whitegrid\"):\n",
    "        ax = sns.lineplot(\n",
    "            data=visualization[(visualization['Area'] == area) & (visualization['Type'] == housing_type)],\n",
    "            x='Date',\n",
    "            y='HPI',\n",
    "            style='ActualVsForecasted',\n",
    "            estimator='mean'\n",
    "        )\n",
    "        ax.figure.set_figwidth(14)\n",
    "        ax.figure.set_figheight(7)\n",
    "        ax.axvline(end_date, color='black')\n",
    "        ax.set_title(f\"{area} - {housing_type}\")\n",
    "        fig = ax.get_figure()"
   ]
  },
  {
   "cell_type": "code",
   "execution_count": 27,
   "metadata": {},
   "outputs": [
    {
     "data": {
      "image/png": "[encoded data removed]",
      "text/plain": [
       "<Figure size 1008x504 with 1 Axes>"
      ]
     },
     "metadata": {},
     "output_type": "display_data"
    }
   ],
   "source": [
    "with sns.plotting_context(\"paper\", font_scale=1.8):\n",
    "    ,\n",
    "    with sns.axes_style(\"whitegrid\"):\n",
    "        ax = sns.lineplot(\n",
    "            data=visualization,\n",
    "            x='Date',\n",
    "            y='HPI',\n",
    "            style='ActualVsForecasted',\n",
    "            estimator='mean'\n",
    "        )\n",
    "        ax.figure.set_figwidth(14)\n",
    "        ax.figure.set_figheight(7)\n",
    "        ax.axvline(end_date, color='black')\n",
    "        fig = ax.get_figure()"
   ]
  },
  {
   "cell_type": "markdown",
   "metadata": {},
   "source": [
    "## VAR model for all Toronto Meighbourhoods & for all dates."
   ]
  },
  {
   "cell_type": "code",
   "execution_count": 28,
   "metadata": {},
   "outputs": [],
   "source": [
    "feasible_start_dates = pd.date_range(start=city_of_toronto_areas['Date'].min(), \n",
    "                       end=city_of_toronto_areas['Date'].max() - relativedelta(months=window_length + 6), \n",
    "                       freq='MS')"
   ]
  },
  {
   "cell_type": "code",
   "execution_count": 29,
   "metadata": {},
   "outputs": [],
   "source": [
    "window_length = 48  # months before the date we run the forecast on."
   ]
  },
  {
   "cell_type": "code",
   "execution_count": 30,
   "metadata": {},
   "outputs": [
    {
     "name": "stdout",
     "output_type": "stream",
     "text": [
      "Wall time: 1min\n"
     ]
    },
    {
     "data": {
      "text/html": [
       "<div>\n",
       "<style scoped>\n",
       "    .dataframe tbody tr th:only-of-type {\n",
       "        vertical-align: middle;\n",
       "    }\n",
       "\n",
       "    .dataframe tbody tr th {\n",
       "        vertical-align: top;\n",
       "    }\n",
       "\n",
       "    .dataframe thead th {\n",
       "        text-align: right;\n",
       "    }\n",
       "</style>\n",
       "<table border=\"1\" class=\"dataframe\">\n",
       "  <thead>\n",
       "    <tr style=\"text-align: right;\">\n",
       "      <th></th>\n",
       "      <th>Date</th>\n",
       "      <th>Area</th>\n",
       "      <th>Type</th>\n",
       "      <th>ForecastedMonthlyChangeInHPI</th>\n",
       "      <th>ForecastedQuarterlyChangeInHPI</th>\n",
       "      <th>ForecastedSemiAnnualChangeInHPI</th>\n",
       "      <th>ForecastedPositiveReturn</th>\n",
       "    </tr>\n",
       "  </thead>\n",
       "  <tbody>\n",
       "    <tr>\n",
       "      <th>0</th>\n",
       "      <td>2016-03-01</td>\n",
       "      <td>Toronto C01</td>\n",
       "      <td>Apartment</td>\n",
       "      <td>-0.024822</td>\n",
       "      <td>-0.043143</td>\n",
       "      <td>0.010500</td>\n",
       "      <td>False</td>\n",
       "    </tr>\n",
       "    <tr>\n",
       "      <th>1</th>\n",
       "      <td>2016-03-01</td>\n",
       "      <td>Toronto C02</td>\n",
       "      <td>Apartment</td>\n",
       "      <td>0.001804</td>\n",
       "      <td>-0.029771</td>\n",
       "      <td>-0.012265</td>\n",
       "      <td>False</td>\n",
       "    </tr>\n",
       "    <tr>\n",
       "      <th>2</th>\n",
       "      <td>2016-03-01</td>\n",
       "      <td>Toronto C03</td>\n",
       "      <td>Apartment</td>\n",
       "      <td>-0.076243</td>\n",
       "      <td>0.011991</td>\n",
       "      <td>-0.163622</td>\n",
       "      <td>False</td>\n",
       "    </tr>\n",
       "    <tr>\n",
       "      <th>3</th>\n",
       "      <td>2016-03-01</td>\n",
       "      <td>Toronto C04</td>\n",
       "      <td>Apartment</td>\n",
       "      <td>-0.121383</td>\n",
       "      <td>-0.025233</td>\n",
       "      <td>0.027611</td>\n",
       "      <td>False</td>\n",
       "    </tr>\n",
       "    <tr>\n",
       "      <th>4</th>\n",
       "      <td>2016-03-01</td>\n",
       "      <td>Toronto C06</td>\n",
       "      <td>Apartment</td>\n",
       "      <td>-0.005403</td>\n",
       "      <td>0.005353</td>\n",
       "      <td>-0.169762</td>\n",
       "      <td>False</td>\n",
       "    </tr>\n",
       "    <tr>\n",
       "      <th>...</th>\n",
       "      <td>...</td>\n",
       "      <td>...</td>\n",
       "      <td>...</td>\n",
       "      <td>...</td>\n",
       "      <td>...</td>\n",
       "      <td>...</td>\n",
       "      <td>...</td>\n",
       "    </tr>\n",
       "    <tr>\n",
       "      <th>30</th>\n",
       "      <td>2020-11-01</td>\n",
       "      <td>Toronto W06</td>\n",
       "      <td>Single-Family Detached</td>\n",
       "      <td>0.025954</td>\n",
       "      <td>0.035871</td>\n",
       "      <td>-0.037467</td>\n",
       "      <td>True</td>\n",
       "    </tr>\n",
       "    <tr>\n",
       "      <th>31</th>\n",
       "      <td>2020-11-01</td>\n",
       "      <td>Toronto W07</td>\n",
       "      <td>Single-Family Detached</td>\n",
       "      <td>0.020134</td>\n",
       "      <td>0.033819</td>\n",
       "      <td>-0.051243</td>\n",
       "      <td>True</td>\n",
       "    </tr>\n",
       "    <tr>\n",
       "      <th>32</th>\n",
       "      <td>2020-11-01</td>\n",
       "      <td>Toronto W08</td>\n",
       "      <td>Single-Family Detached</td>\n",
       "      <td>0.029876</td>\n",
       "      <td>0.063618</td>\n",
       "      <td>0.008514</td>\n",
       "      <td>True</td>\n",
       "    </tr>\n",
       "    <tr>\n",
       "      <th>33</th>\n",
       "      <td>2020-11-01</td>\n",
       "      <td>Toronto W09</td>\n",
       "      <td>Single-Family Detached</td>\n",
       "      <td>0.021685</td>\n",
       "      <td>0.073601</td>\n",
       "      <td>0.018011</td>\n",
       "      <td>True</td>\n",
       "    </tr>\n",
       "    <tr>\n",
       "      <th>34</th>\n",
       "      <td>2020-11-01</td>\n",
       "      <td>Toronto W10</td>\n",
       "      <td>Single-Family Detached</td>\n",
       "      <td>0.012766</td>\n",
       "      <td>0.054515</td>\n",
       "      <td>0.035814</td>\n",
       "      <td>True</td>\n",
       "    </tr>\n",
       "  </tbody>\n",
       "</table>\n",
       "<p>7980 rows × 7 columns</p>\n",
       "</div>"
      ],
      "text/plain": [
       "         Date         Area                    Type  \\\n",
       "0  2016-03-01  Toronto C01               Apartment   \n",
       "1  2016-03-01  Toronto C02               Apartment   \n",
       "2  2016-03-01  Toronto C03               Apartment   \n",
       "3  2016-03-01  Toronto C04               Apartment   \n",
       "4  2016-03-01  Toronto C06               Apartment   \n",
       "..        ...          ...                     ...   \n",
       "30 2020-11-01  Toronto W06  Single-Family Detached   \n",
       "31 2020-11-01  Toronto W07  Single-Family Detached   \n",
       "32 2020-11-01  Toronto W08  Single-Family Detached   \n",
       "33 2020-11-01  Toronto W09  Single-Family Detached   \n",
       "34 2020-11-01  Toronto W10  Single-Family Detached   \n",
       "\n",
       "    ForecastedMonthlyChangeInHPI  ForecastedQuarterlyChangeInHPI  \\\n",
       "0                      -0.024822                       -0.043143   \n",
       "1                       0.001804                       -0.029771   \n",
       "2                      -0.076243                        0.011991   \n",
       "3                      -0.121383                       -0.025233   \n",
       "4                      -0.005403                        0.005353   \n",
       "..                           ...                             ...   \n",
       "30                      0.025954                        0.035871   \n",
       "31                      0.020134                        0.033819   \n",
       "32                      0.029876                        0.063618   \n",
       "33                      0.021685                        0.073601   \n",
       "34                      0.012766                        0.054515   \n",
       "\n",
       "    ForecastedSemiAnnualChangeInHPI  ForecastedPositiveReturn  \n",
       "0                          0.010500                     False  \n",
       "1                         -0.012265                     False  \n",
       "2                         -0.163622                     False  \n",
       "3                          0.027611                     False  \n",
       "4                         -0.169762                     False  \n",
       "..                              ...                       ...  \n",
       "30                        -0.037467                      True  \n",
       "31                        -0.051243                      True  \n",
       "32                         0.008514                      True  \n",
       "33                         0.018011                      True  \n",
       "34                         0.035814                      True  \n",
       "\n",
       "[7980 rows x 7 columns]"
      ]
     },
     "execution_count": 30,
     "metadata": {},
     "output_type": "execute_result"
    }
   ],
   "source": [
    "%%time\n",
    "city_of_toronto_areas = hpi_returns[hpi_returns['Area'].str.startswith('Toronto')].copy()\n",
    "housing_types = hpi['Type'].unique().tolist()\n",
    "forecasts = []\n",
    "for housing_type in housing_types:\n",
    "    panels = city_of_toronto_areas[city_of_toronto_areas['Type'] == housing_type].drop_duplicates(['Area', 'Type'])[['Area', 'Type']]\n",
    "    for start_date in feasible_start_dates:\n",
    "        end_date = start_date + relativedelta(months=window_length)\n",
    "        train = (\n",
    "            hpi_returns\n",
    "                [hpi_returns['Date'].between(start_date, end_date)]\n",
    "                .merge(panels, on=['Area', 'Type'], how='inner')\n",
    "                .pivot_table(values=['MonthlyChangeInHPI'], index=['Date'], columns=['Area', 'Type'])\n",
    "        )\n",
    "        train.index = pd.DatetimeIndex(train.index).to_period('M')\n",
    "        \n",
    "        model = VAR(train)\n",
    "        criterion = {}\n",
    "        models = {}\n",
    "\n",
    "        for lag_order in range(1, window_length):\n",
    "            try:\n",
    "                fitted = model.fit(lag_order)\n",
    "                models[lag_order] = fitted\n",
    "                criterion[lag_order] = fitted.aic\n",
    "            except:\n",
    "                pass\n",
    "        try:\n",
    "            # Select the \"best\" model: model with the lowest AIC value.\n",
    "            selected_lag_order = list(dict(sorted(criterion.items(), key=lambda x:x[1])).keys())[0]            \n",
    "            fitted = models[selected_lag_order]\n",
    "            is_model_selected = True\n",
    "        except IndexError:\n",
    "            # No models were trained.\n",
    "            # This can happen when there is missing data, for instance, with Townhouses.\n",
    "            is_model_selected = False\n",
    "\n",
    "        if is_model_selected:\n",
    "            # TODO: Add quarterly and semiannual forecasts\n",
    "\n",
    "            monthly_forecast = pd.DataFrame(\n",
    "                columns=train.columns, \n",
    "                index=pd.DatetimeIndex(pd.date_range(start=end_date + relativedelta(months=1), periods=1, freq='MS')), \n",
    "                data=fitted.forecast(y=train.values[-selected_lag_order:], steps=1)\n",
    "            )\n",
    "            monthly_forecast = monthly_forecast.melt(ignore_index=False).reset_index()\n",
    "            monthly_forecast = monthly_forecast[[col for col in monthly_forecast.columns if col is not None]]\n",
    "            monthly_forecast.rename(columns={'value': 'ForecastedMonthlyChangeInHPI', 'index': 'Date'}, inplace=True)\n",
    "#             monthly_forecast.to_frame(inplace=True)\n",
    "            \n",
    "            quarterly_forecast = pd.DataFrame(\n",
    "                columns=train.columns, \n",
    "                index=pd.DatetimeIndex(pd.date_range(start=end_date + relativedelta(months=1), periods=1, freq='MS')), \n",
    "                data=(np.matrix(fitted.forecast(y=train.values[-selected_lag_order:], steps=3)) + 1).prod(axis=0) - 1\n",
    "            )\n",
    "            quarterly_forecast = quarterly_forecast.melt(ignore_index=False).reset_index()\n",
    "            quarterly_forecast = quarterly_forecast[[col for col in quarterly_forecast.columns if col is not None]]\n",
    "            quarterly_forecast.rename(columns={'value': 'ForecastedQuarterlyChangeInHPI', 'index': 'Date'}, inplace=True)\n",
    "#             quarterly_forecast.to_frame(inplace=True)\n",
    "            \n",
    "            semiannual_forecast = pd.DataFrame(\n",
    "                columns=train.columns, \n",
    "                index=pd.DatetimeIndex(pd.date_range(start=end_date + relativedelta(months=1), periods=1, freq='MS')), \n",
    "                data=(np.matrix(fitted.forecast(y=train.values[-selected_lag_order:], steps=6)) + 1).prod(axis=0) - 1\n",
    "            )\n",
    "            semiannual_forecast = semiannual_forecast.melt(ignore_index=False).reset_index()\n",
    "            semiannual_forecast = semiannual_forecast[[col for col in semiannual_forecast.columns if col is not None]]\n",
    "            semiannual_forecast.rename(columns={'value': 'ForecastedSemiAnnualChangeInHPI', 'index': 'Date'}, inplace=True)\n",
    "#             semiannual_forecast.to_frame(inplace=True)\n",
    "            \n",
    "            \n",
    "            forecast = monthly_forecast.merge(quarterly_forecast, on=['Date', 'Area', 'Type']).merge(semiannual_forecast, on=['Date', 'Area', 'Type'])\n",
    "            \n",
    "            \n",
    "            forecasts.append(forecast)\n",
    "forecasts = pd.concat(forecasts)\n",
    "forecasts['ForecastedPositiveReturn'] = forecasts['ForecastedMonthlyChangeInHPI'] > positive_monthly_return_cutoff\n",
    "forecasts"
   ]
  },
  {
   "cell_type": "code",
   "execution_count": 31,
   "metadata": {},
   "outputs": [
    {
     "data": {
      "text/plain": [
       "(7980, 7980)"
      ]
     },
     "execution_count": 31,
     "metadata": {},
     "output_type": "execute_result"
    }
   ],
   "source": [
    "len(forecasts), len(forecasts.drop_duplicates(['Area', 'Type', 'Date']))"
   ]
  },
  {
   "cell_type": "markdown",
   "metadata": {},
   "source": [
    "## Validate"
   ]
  },
  {
   "cell_type": "code",
   "execution_count": 32,
   "metadata": {},
   "outputs": [
    {
     "name": "stdout",
     "output_type": "stream",
     "text": [
      "27225 27225\n"
     ]
    }
   ],
   "source": [
    "validation = hpi_returns.merge(\n",
    "    forecasts,\n",
    "    how='outer',\n",
    "    on=['Area', 'Type', 'Date'],\n",
    ")\n",
    "print(len(validation), len(validation.drop_duplicates(['Area', 'Type', 'Date'])))  # Check if the merge (join) impacted the granularity of the data set, i.e. if we introduced duplicates\n",
    "validation = validation[validation['ForecastedMonthlyChangeInHPI'].notnull() & validation['MonthlyChangeInHPI'].notnull()]"
   ]
  },
  {
   "cell_type": "code",
   "execution_count": 33,
   "metadata": {},
   "outputs": [],
   "source": [
    "validation.drop(columns=['level_0', 'index']).to_csv(os.path.join(results_folder, '05.c.var_forecasts.csv'), index=False)"
   ]
  },
  {
   "cell_type": "markdown",
   "metadata": {},
   "source": [
    "### MSE"
   ]
  },
  {
   "cell_type": "code",
   "execution_count": 34,
   "metadata": {},
   "outputs": [
    {
     "data": {
      "text/plain": [
       "0.0015877140296963997"
      ]
     },
     "execution_count": 34,
     "metadata": {},
     "output_type": "execute_result"
    }
   ],
   "source": [
    "mse = mean_squared_error(validation['MonthlyChangeInHPI'], validation['ForecastedMonthlyChangeInHPI'])\n",
    "mse"
   ]
  },
  {
   "cell_type": "code",
   "execution_count": 35,
   "metadata": {},
   "outputs": [
    {
     "data": {
      "text/plain": [
       "0.007939166535112235"
      ]
     },
     "execution_count": 35,
     "metadata": {},
     "output_type": "execute_result"
    }
   ],
   "source": [
    "quarterly_change_validation = validation[validation['FutureQuarterlyChangeInHPI'].notnull() & validation['ForecastedQuarterlyChangeInHPI'].notnull()]\n",
    "quarterly_mse = mean_squared_error(quarterly_change_validation['FutureQuarterlyChangeInHPI'], quarterly_change_validation['ForecastedQuarterlyChangeInHPI'])\n",
    "quarterly_mse"
   ]
  },
  {
   "cell_type": "code",
   "execution_count": 36,
   "metadata": {},
   "outputs": [
    {
     "data": {
      "text/plain": [
       "0.04461376661958542"
      ]
     },
     "execution_count": 36,
     "metadata": {},
     "output_type": "execute_result"
    }
   ],
   "source": [
    "semi_annual_change_validation = validation[validation['FutureSemiAnnualChangeInHPI'].notnull() & validation['ForecastedSemiAnnualChangeInHPI'].notnull()]\n",
    "semi_annual_mse = mean_squared_error(semi_annual_change_validation['FutureSemiAnnualChangeInHPI'], semi_annual_change_validation['ForecastedSemiAnnualChangeInHPI'])\n",
    "semi_annual_mse"
   ]
  },
  {
   "cell_type": "markdown",
   "metadata": {},
   "source": [
    "### Normalized MSE"
   ]
  },
  {
   "cell_type": "code",
   "execution_count": 37,
   "metadata": {},
   "outputs": [
    {
     "data": {
      "text/plain": [
       "0.1888803247746917"
      ]
     },
     "execution_count": 37,
     "metadata": {},
     "output_type": "execute_result"
    }
   ],
   "source": [
    "mse / hpi_returns['MonthlyChangeInHPI'].mean()"
   ]
  },
  {
   "cell_type": "code",
   "execution_count": 38,
   "metadata": {},
   "outputs": [
    {
     "data": {
      "text/plain": [
       "0.2174545814539364"
      ]
     },
     "execution_count": 38,
     "metadata": {},
     "output_type": "execute_result"
    }
   ],
   "source": [
    "mse / hpi_returns.query('Area == \"TREB Total\" & Type == \"Composite\"')['MonthlyChangeInHPI'].mean()"
   ]
  },
  {
   "cell_type": "markdown",
   "metadata": {},
   "source": [
    "### MSE by Area & Housing Type"
   ]
  },
  {
   "cell_type": "code",
   "execution_count": 39,
   "metadata": {},
   "outputs": [
    {
     "data": {
      "text/plain": [
       "Area         Type                  \n",
       "Toronto C01  Apartment                 0.001367\n",
       "             Composite                 0.000662\n",
       "             Single-Family Attached    0.002035\n",
       "             Single-Family Detached    0.003612\n",
       "Toronto C02  Apartment                 0.002011\n",
       "                                         ...   \n",
       "Toronto W09  Single-Family Detached    0.001317\n",
       "Toronto W10  Apartment                 0.003210\n",
       "             Composite                 0.000542\n",
       "             Single-Family Attached    0.000953\n",
       "             Single-Family Detached    0.000820\n",
       "Length: 140, dtype: float64"
      ]
     },
     "execution_count": 39,
     "metadata": {},
     "output_type": "execute_result"
    }
   ],
   "source": [
    "benchmark_mse_by_area_and_type = (\n",
    "    validation\n",
    "        .groupby(['Area', 'Type'])\n",
    "        .apply(lambda x: mean_squared_error(x['MonthlyChangeInHPI'], x['ForecastedMonthlyChangeInHPI']))\n",
    ")\n",
    "benchmark_mse_by_area_and_type"
   ]
  },
  {
   "cell_type": "markdown",
   "metadata": {},
   "source": [
    "### City of Toronto MSE by Year"
   ]
  },
  {
   "cell_type": "code",
   "execution_count": 40,
   "metadata": {},
   "outputs": [
    {
     "data": {
      "text/plain": [
       "Date\n",
       "2016    0.001652\n",
       "2017    0.002495\n",
       "2018    0.001380\n",
       "2019    0.000995\n",
       "2020    0.001360\n",
       "dtype: float64"
      ]
     },
     "execution_count": 40,
     "metadata": {},
     "output_type": "execute_result"
    }
   ],
   "source": [
    "validation_for_city_of_toronto = validation[validation['Area'].str.startswith('Toronto')]\n",
    "\n",
    "benchmark_city_of_toronto_mse_by_year = (\n",
    "    validation\n",
    "        .groupby(validation_for_city_of_toronto['Date'].dt.year)\n",
    "        .apply(lambda x: mean_squared_error(x['MonthlyChangeInHPI'], x['ForecastedMonthlyChangeInHPI']))\n",
    ")\n",
    "benchmark_city_of_toronto_mse_by_year"
   ]
  },
  {
   "cell_type": "markdown",
   "metadata": {},
   "source": [
    "## Accuracy Score for the Positive Return Probability"
   ]
  },
  {
   "cell_type": "code",
   "execution_count": 41,
   "metadata": {},
   "outputs": [
    {
     "data": {
      "text/plain": [
       "0.5585459183673469"
      ]
     },
     "execution_count": 41,
     "metadata": {},
     "output_type": "execute_result"
    }
   ],
   "source": [
    "accuracy_score(validation['PositiveMonthlyReturn'].astype(int), validation['ForecastedPositiveReturn'].astype(int))"
   ]
  },
  {
   "cell_type": "markdown",
   "metadata": {},
   "source": [
    "## Confusion Matrix for the Positive Return Probability"
   ]
  },
  {
   "cell_type": "code",
   "execution_count": 42,
   "metadata": {},
   "outputs": [
    {
     "data": {
      "text/plain": [
       "array([[0.44336973, 0.3618123 ],\n",
       "       [0.55663027, 0.6381877 ]])"
      ]
     },
     "execution_count": 42,
     "metadata": {},
     "output_type": "execute_result"
    }
   ],
   "source": [
    "confusion_matrix(validation['PositiveMonthlyReturn'].astype(int), validation['ForecastedPositiveReturn'].astype(int), normalize='pred')"
   ]
  },
  {
   "cell_type": "code",
   "execution_count": null,
   "metadata": {},
   "outputs": [],
   "source": []
  }
 ],
 "metadata": {
  "kernelspec": {
   "display_name": "Python 3",
   "language": "python",
   "name": "python3"
  },
  "language_info": {
   "codemirror_mode": {
    "name": "ipython",
    "version": 3
   },
   "file_extension": ".py",
   "mimetype": "text/x-python",
   "name": "python",
   "nbconvert_exporter": "python",
   "pygments_lexer": "ipython3",
   "version": "3.8.5"
  }
 },
 "nbformat": 4,
 "nbformat_minor": 4
}
