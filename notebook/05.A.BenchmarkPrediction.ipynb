{
 "cells": [
  {
   "cell_type": "code",
   "execution_count": 1,
   "metadata": {},
   "outputs": [],
   "source": [
    "import os\n",
    "import pandas as pd\n",
    "import seaborn as sns\n",
    "import random\n",
    "from datetime import date\n",
    "from dateutil.relativedelta import relativedelta\n",
    "\n",
    "from sklearn.metrics import mean_squared_error"
   ]
  },
  {
   "cell_type": "code",
   "execution_count": 2,
   "metadata": {},
   "outputs": [],
   "source": [
    "data_folder = '../03.clean-data/'\n",
    "positive_monthly_return_cutoff = 0.002"
   ]
  },
  {
   "cell_type": "markdown",
   "metadata": {},
   "source": [
    "## Load Data"
   ]
  },
  {
   "cell_type": "code",
   "execution_count": 3,
   "metadata": {},
   "outputs": [],
   "source": [
    "hpi = pd.read_csv(os.path.join(data_folder, 'hpi.csv'), parse_dates=['Date']) # Load\n",
    "hpi.sort_values(['Area', 'Type', 'Date'], inplace=True) # Sort\n",
    "hpi.reset_index(inplace=True)"
   ]
  },
  {
   "cell_type": "code",
   "execution_count": 4,
   "metadata": {},
   "outputs": [],
   "source": [
    "hpi_returns = hpi.copy()"
   ]
  },
  {
   "cell_type": "code",
   "execution_count": 5,
   "metadata": {},
   "outputs": [],
   "source": [
    "hpi_returns['HPI.L1'] = hpi_returns.groupby(['Area', 'Type'])['HPI'].shift(1)\n",
    "hpi_returns['HPI.L12'] = hpi_returns.groupby(['Area', 'Type'])['HPI'].shift(12)"
   ]
  },
  {
   "cell_type": "code",
   "execution_count": 6,
   "metadata": {},
   "outputs": [],
   "source": [
    "hpi_returns['MonthlyChangeInHPI'] = (hpi_returns['HPI'] - hpi_returns['HPI.L1']) / hpi_returns['HPI.L1']\n",
    "hpi_returns['YearlyChangeInHPI'] = (hpi_returns['HPI'] - hpi_returns['HPI.L12']) / hpi_returns['HPI.L12']"
   ]
  },
  {
   "cell_type": "markdown",
   "metadata": {},
   "source": [
    "## Use the Rolling Average to Make a Forecast"
   ]
  },
  {
   "cell_type": "code",
   "execution_count": 7,
   "metadata": {},
   "outputs": [],
   "source": [
    "window_length = 36  # months before the date we run the forecast on.\n"
   ]
  },
  {
   "cell_type": "markdown",
   "metadata": {},
   "source": [
    "### Example with one date"
   ]
  },
  {
   "cell_type": "code",
   "execution_count": 8,
   "metadata": {},
   "outputs": [
    {
     "data": {
      "text/plain": [
       "(Timestamp('2012-02-01 00:00:00'),\n",
       " Timestamp('2015-02-01 00:00:00'),\n",
       " Timestamp('2015-02-01 00:00:00'),\n",
       " Timestamp('2015-03-01 00:00:00'))"
      ]
     },
     "execution_count": 8,
     "metadata": {},
     "output_type": "execute_result"
    }
   ],
   "source": [
    "start_date = pd.to_datetime(date(2012, 2, 1))\n",
    "end_date = start_date + relativedelta(months=window_length)\n",
    "train = hpi_returns[hpi_returns['Date'].between(start_date, end_date)].copy()\n",
    "date_of_forecast_being_made = train['Date'].max()\n",
    "date_of_forecasted_value = end_date + relativedelta(months=1)\n",
    "start_date, end_date, date_of_forecast_being_made, date_of_forecasted_value"
   ]
  },
  {
   "cell_type": "code",
   "execution_count": 9,
   "metadata": {},
   "outputs": [
    {
     "data": {
      "text/html": [
       "<div>\n",
       "<style scoped>\n",
       "    .dataframe tbody tr th:only-of-type {\n",
       "        vertical-align: middle;\n",
       "    }\n",
       "\n",
       "    .dataframe tbody tr th {\n",
       "        vertical-align: top;\n",
       "    }\n",
       "\n",
       "    .dataframe thead th {\n",
       "        text-align: right;\n",
       "    }\n",
       "</style>\n",
       "<table border=\"1\" class=\"dataframe\">\n",
       "  <thead>\n",
       "    <tr style=\"text-align: right;\">\n",
       "      <th></th>\n",
       "      <th>Area</th>\n",
       "      <th>Type</th>\n",
       "      <th>ForecastedMonthlyChangeInHPI</th>\n",
       "      <th>ForecastedPositiveReturn</th>\n",
       "      <th>Date</th>\n",
       "    </tr>\n",
       "  </thead>\n",
       "  <tbody>\n",
       "    <tr>\n",
       "      <th>0</th>\n",
       "      <td>TREB Total</td>\n",
       "      <td>Apartment</td>\n",
       "      <td>0.003106</td>\n",
       "      <td>0.482759</td>\n",
       "      <td>2015-03-01</td>\n",
       "    </tr>\n",
       "    <tr>\n",
       "      <th>1</th>\n",
       "      <td>TREB Total</td>\n",
       "      <td>Composite</td>\n",
       "      <td>0.006060</td>\n",
       "      <td>0.620690</td>\n",
       "      <td>2015-03-01</td>\n",
       "    </tr>\n",
       "    <tr>\n",
       "      <th>2</th>\n",
       "      <td>TREB Total</td>\n",
       "      <td>Single-Family Attached</td>\n",
       "      <td>0.006839</td>\n",
       "      <td>0.655172</td>\n",
       "      <td>2015-03-01</td>\n",
       "    </tr>\n",
       "    <tr>\n",
       "      <th>3</th>\n",
       "      <td>TREB Total</td>\n",
       "      <td>Single-Family Detached</td>\n",
       "      <td>0.006819</td>\n",
       "      <td>0.655172</td>\n",
       "      <td>2015-03-01</td>\n",
       "    </tr>\n",
       "    <tr>\n",
       "      <th>4</th>\n",
       "      <td>TREB Total</td>\n",
       "      <td>Townhouse</td>\n",
       "      <td>0.005879</td>\n",
       "      <td>0.724138</td>\n",
       "      <td>2015-03-01</td>\n",
       "    </tr>\n",
       "    <tr>\n",
       "      <th>...</th>\n",
       "      <td>...</td>\n",
       "      <td>...</td>\n",
       "      <td>...</td>\n",
       "      <td>...</td>\n",
       "      <td>...</td>\n",
       "    </tr>\n",
       "    <tr>\n",
       "      <th>175</th>\n",
       "      <td>Toronto W10</td>\n",
       "      <td>Apartment</td>\n",
       "      <td>0.003104</td>\n",
       "      <td>0.517241</td>\n",
       "      <td>2015-03-01</td>\n",
       "    </tr>\n",
       "    <tr>\n",
       "      <th>176</th>\n",
       "      <td>Toronto W10</td>\n",
       "      <td>Composite</td>\n",
       "      <td>0.007192</td>\n",
       "      <td>0.655172</td>\n",
       "      <td>2015-03-01</td>\n",
       "    </tr>\n",
       "    <tr>\n",
       "      <th>177</th>\n",
       "      <td>Toronto W10</td>\n",
       "      <td>Single-Family Attached</td>\n",
       "      <td>0.007635</td>\n",
       "      <td>0.655172</td>\n",
       "      <td>2015-03-01</td>\n",
       "    </tr>\n",
       "    <tr>\n",
       "      <th>178</th>\n",
       "      <td>Toronto W10</td>\n",
       "      <td>Single-Family Detached</td>\n",
       "      <td>0.008944</td>\n",
       "      <td>0.724138</td>\n",
       "      <td>2015-03-01</td>\n",
       "    </tr>\n",
       "    <tr>\n",
       "      <th>179</th>\n",
       "      <td>Toronto W10</td>\n",
       "      <td>Townhouse</td>\n",
       "      <td>0.010574</td>\n",
       "      <td>0.689655</td>\n",
       "      <td>2015-03-01</td>\n",
       "    </tr>\n",
       "  </tbody>\n",
       "</table>\n",
       "<p>180 rows × 5 columns</p>\n",
       "</div>"
      ],
      "text/plain": [
       "            Area                    Type  ForecastedMonthlyChangeInHPI  \\\n",
       "0     TREB Total               Apartment                      0.003106   \n",
       "1     TREB Total               Composite                      0.006060   \n",
       "2     TREB Total  Single-Family Attached                      0.006839   \n",
       "3     TREB Total  Single-Family Detached                      0.006819   \n",
       "4     TREB Total               Townhouse                      0.005879   \n",
       "..           ...                     ...                           ...   \n",
       "175  Toronto W10               Apartment                      0.003104   \n",
       "176  Toronto W10               Composite                      0.007192   \n",
       "177  Toronto W10  Single-Family Attached                      0.007635   \n",
       "178  Toronto W10  Single-Family Detached                      0.008944   \n",
       "179  Toronto W10               Townhouse                      0.010574   \n",
       "\n",
       "     ForecastedPositiveReturn       Date  \n",
       "0                    0.482759 2015-03-01  \n",
       "1                    0.620690 2015-03-01  \n",
       "2                    0.655172 2015-03-01  \n",
       "3                    0.655172 2015-03-01  \n",
       "4                    0.724138 2015-03-01  \n",
       "..                        ...        ...  \n",
       "175                  0.517241 2015-03-01  \n",
       "176                  0.655172 2015-03-01  \n",
       "177                  0.655172 2015-03-01  \n",
       "178                  0.724138 2015-03-01  \n",
       "179                  0.689655 2015-03-01  \n",
       "\n",
       "[180 rows x 5 columns]"
      ]
     },
     "execution_count": 9,
     "metadata": {},
     "output_type": "execute_result"
    }
   ],
   "source": [
    "forecasted_monthly_return = train.groupby(['Area', 'Type'])['MonthlyChangeInHPI'].mean()\n",
    "forecasted_monthly_return.rename('ForecastedMonthlyChangeInHPI', inplace=True)\n",
    "forecasted_monthly_return = forecasted_monthly_return.to_frame()\n",
    "\n",
    "forecasted_monthly_return['ForecastedPositiveReturn'] = (\n",
    "    train\n",
    "        [train['MonthlyChangeInHPI'].notnull()]\n",
    "        .groupby(['Area', 'Type'])\n",
    "        ['MonthlyChangeInHPI']\n",
    "        .apply(lambda x: (x > positive_monthly_return_cutoff).sum() / len(x))\n",
    ")\n",
    "\n",
    "forecasted_monthly_return['Date'] = date_of_forecasted_value\n",
    "forecasted_monthly_return.reset_index(inplace=True)\n",
    "forecasted_monthly_return"
   ]
  },
  {
   "cell_type": "markdown",
   "metadata": {},
   "source": [
    "### Rolling predictions on a loop"
   ]
  },
  {
   "cell_type": "code",
   "execution_count": 10,
   "metadata": {},
   "outputs": [
    {
     "data": {
      "text/plain": [
       "76"
      ]
     },
     "execution_count": 10,
     "metadata": {},
     "output_type": "execute_result"
    }
   ],
   "source": [
    "possible_start_dates = pd.date_range(\n",
    "    start=hpi_returns['Date'].min(),\n",
    "    end=hpi_returns['Date'].max() - relativedelta(months=window_length - 1),\n",
    "    freq='MS',\n",
    ")\n",
    "len(possible_start_dates)"
   ]
  },
  {
   "cell_type": "code",
   "execution_count": 11,
   "metadata": {},
   "outputs": [
    {
     "name": "stdout",
     "output_type": "stream",
     "text": [
      "Wall time: 4.29 s\n"
     ]
    },
    {
     "data": {
      "text/html": [
       "<div>\n",
       "<style scoped>\n",
       "    .dataframe tbody tr th:only-of-type {\n",
       "        vertical-align: middle;\n",
       "    }\n",
       "\n",
       "    .dataframe tbody tr th {\n",
       "        vertical-align: top;\n",
       "    }\n",
       "\n",
       "    .dataframe thead th {\n",
       "        text-align: right;\n",
       "    }\n",
       "</style>\n",
       "<table border=\"1\" class=\"dataframe\">\n",
       "  <thead>\n",
       "    <tr style=\"text-align: right;\">\n",
       "      <th></th>\n",
       "      <th>Area</th>\n",
       "      <th>Type</th>\n",
       "      <th>ForecastedMonthlyChangeInHPI</th>\n",
       "      <th>ForecastedPositiveReturn</th>\n",
       "      <th>Date</th>\n",
       "    </tr>\n",
       "  </thead>\n",
       "  <tbody>\n",
       "    <tr>\n",
       "      <th>0</th>\n",
       "      <td>TREB Total</td>\n",
       "      <td>Apartment</td>\n",
       "      <td>0.003106</td>\n",
       "      <td>0.482759</td>\n",
       "      <td>2015-03-01</td>\n",
       "    </tr>\n",
       "    <tr>\n",
       "      <th>1</th>\n",
       "      <td>TREB Total</td>\n",
       "      <td>Composite</td>\n",
       "      <td>0.006060</td>\n",
       "      <td>0.620690</td>\n",
       "      <td>2015-03-01</td>\n",
       "    </tr>\n",
       "    <tr>\n",
       "      <th>2</th>\n",
       "      <td>TREB Total</td>\n",
       "      <td>Single-Family Attached</td>\n",
       "      <td>0.006839</td>\n",
       "      <td>0.655172</td>\n",
       "      <td>2015-03-01</td>\n",
       "    </tr>\n",
       "    <tr>\n",
       "      <th>3</th>\n",
       "      <td>TREB Total</td>\n",
       "      <td>Single-Family Detached</td>\n",
       "      <td>0.006819</td>\n",
       "      <td>0.655172</td>\n",
       "      <td>2015-03-01</td>\n",
       "    </tr>\n",
       "    <tr>\n",
       "      <th>4</th>\n",
       "      <td>TREB Total</td>\n",
       "      <td>Townhouse</td>\n",
       "      <td>0.005879</td>\n",
       "      <td>0.724138</td>\n",
       "      <td>2015-03-01</td>\n",
       "    </tr>\n",
       "    <tr>\n",
       "      <th>...</th>\n",
       "      <td>...</td>\n",
       "      <td>...</td>\n",
       "      <td>...</td>\n",
       "      <td>...</td>\n",
       "      <td>...</td>\n",
       "    </tr>\n",
       "    <tr>\n",
       "      <th>300</th>\n",
       "      <td>Whitchurch-Stouffville</td>\n",
       "      <td>Apartment</td>\n",
       "      <td>0.001982</td>\n",
       "      <td>0.485714</td>\n",
       "      <td>2021-06-01</td>\n",
       "    </tr>\n",
       "    <tr>\n",
       "      <th>301</th>\n",
       "      <td>Whitchurch-Stouffville</td>\n",
       "      <td>Composite</td>\n",
       "      <td>0.009300</td>\n",
       "      <td>0.685714</td>\n",
       "      <td>2021-06-01</td>\n",
       "    </tr>\n",
       "    <tr>\n",
       "      <th>302</th>\n",
       "      <td>Whitchurch-Stouffville</td>\n",
       "      <td>Single-Family Attached</td>\n",
       "      <td>0.013590</td>\n",
       "      <td>0.657143</td>\n",
       "      <td>2021-06-01</td>\n",
       "    </tr>\n",
       "    <tr>\n",
       "      <th>303</th>\n",
       "      <td>Whitchurch-Stouffville</td>\n",
       "      <td>Single-Family Detached</td>\n",
       "      <td>0.009514</td>\n",
       "      <td>0.628571</td>\n",
       "      <td>2021-06-01</td>\n",
       "    </tr>\n",
       "    <tr>\n",
       "      <th>304</th>\n",
       "      <td>Whitchurch-Stouffville</td>\n",
       "      <td>Townhouse</td>\n",
       "      <td>0.010032</td>\n",
       "      <td>0.571429</td>\n",
       "      <td>2021-06-01</td>\n",
       "    </tr>\n",
       "  </tbody>\n",
       "</table>\n",
       "<p>22555 rows × 5 columns</p>\n",
       "</div>"
      ],
      "text/plain": [
       "                       Area                    Type  \\\n",
       "0                TREB Total               Apartment   \n",
       "1                TREB Total               Composite   \n",
       "2                TREB Total  Single-Family Attached   \n",
       "3                TREB Total  Single-Family Detached   \n",
       "4                TREB Total               Townhouse   \n",
       "..                      ...                     ...   \n",
       "300  Whitchurch-Stouffville               Apartment   \n",
       "301  Whitchurch-Stouffville               Composite   \n",
       "302  Whitchurch-Stouffville  Single-Family Attached   \n",
       "303  Whitchurch-Stouffville  Single-Family Detached   \n",
       "304  Whitchurch-Stouffville               Townhouse   \n",
       "\n",
       "     ForecastedMonthlyChangeInHPI  ForecastedPositiveReturn       Date  \n",
       "0                        0.003106                  0.482759 2015-03-01  \n",
       "1                        0.006060                  0.620690 2015-03-01  \n",
       "2                        0.006839                  0.655172 2015-03-01  \n",
       "3                        0.006819                  0.655172 2015-03-01  \n",
       "4                        0.005879                  0.724138 2015-03-01  \n",
       "..                            ...                       ...        ...  \n",
       "300                      0.001982                  0.485714 2021-06-01  \n",
       "301                      0.009300                  0.685714 2021-06-01  \n",
       "302                      0.013590                  0.657143 2021-06-01  \n",
       "303                      0.009514                  0.628571 2021-06-01  \n",
       "304                      0.010032                  0.571429 2021-06-01  \n",
       "\n",
       "[22555 rows x 5 columns]"
      ]
     },
     "execution_count": 11,
     "metadata": {},
     "output_type": "execute_result"
    }
   ],
   "source": [
    "%%time\n",
    "forecast_dfs = []\n",
    "for start_date in possible_start_dates:\n",
    "    end_date = start_date + relativedelta(months=window_length)\n",
    "    train = hpi_returns[hpi_returns['Date'].between(start_date, end_date)].copy()\n",
    "    date_of_forecast_being_made = train['Date'].max()\n",
    "    date_of_forecasted_value = end_date + relativedelta(months=1)\n",
    "    \n",
    "    forecast_df = train.groupby(['Area', 'Type'])['MonthlyChangeInHPI'].mean()\n",
    "    forecast_df.rename('ForecastedMonthlyChangeInHPI', inplace=True)\n",
    "    forecast_df = forecast_df.to_frame()\n",
    "    \n",
    "    forecast_df['ForecastedPositiveReturn'] = (\n",
    "        train\n",
    "            [train['MonthlyChangeInHPI'].notnull()]\n",
    "            .groupby(['Area', 'Type'])\n",
    "            ['MonthlyChangeInHPI']\n",
    "            .apply(lambda x: (x > positive_monthly_return_cutoff).sum() / len(x))\n",
    "        )\n",
    "    \n",
    "    forecast_df['Date'] = date_of_forecasted_value\n",
    "    forecast_df.reset_index(inplace=True)\n",
    "    \n",
    "    forecast_dfs.append(forecast_df)\n",
    "\n",
    "forecasted_monthly_return = pd.concat(forecast_dfs)\n",
    "forecasted_monthly_return"
   ]
  },
  {
   "cell_type": "markdown",
   "metadata": {},
   "source": [
    "## Validate"
   ]
  },
  {
   "cell_type": "code",
   "execution_count": 12,
   "metadata": {},
   "outputs": [
    {
     "name": "stdout",
     "output_type": "stream",
     "text": [
      "28080 28080\n"
     ]
    }
   ],
   "source": [
    "validation = hpi_returns.merge(\n",
    "    forecasted_monthly_return,\n",
    "    how='outer',\n",
    "    on=['Area', 'Type', 'Date'],\n",
    ")\n",
    "print(len(validation), len(validation.drop_duplicates(['Area', 'Type', 'Date'])))  # Check if the merge (join) impacted the granularity of the data set, i.e. if we introduced duplicates\n",
    "validation = validation[validation['ForecastedMonthlyChangeInHPI'].notnull() & validation['MonthlyChangeInHPI'].notnull()]"
   ]
  },
  {
   "cell_type": "markdown",
   "metadata": {},
   "source": [
    "### MSE"
   ]
  },
  {
   "cell_type": "code",
   "execution_count": 13,
   "metadata": {},
   "outputs": [
    {
     "data": {
      "text/plain": [
       "0.0008836380148939758"
      ]
     },
     "execution_count": 13,
     "metadata": {},
     "output_type": "execute_result"
    }
   ],
   "source": [
    "benchmark_mse = mean_squared_error(validation['MonthlyChangeInHPI'], validation['ForecastedMonthlyChangeInHPI'])\n",
    "benchmark_mse"
   ]
  },
  {
   "cell_type": "markdown",
   "metadata": {},
   "source": [
    "### Normalize the MSE"
   ]
  },
  {
   "cell_type": "code",
   "execution_count": 14,
   "metadata": {},
   "outputs": [
    {
     "data": {
      "text/plain": [
       "0.10512084173517866"
      ]
     },
     "execution_count": 14,
     "metadata": {},
     "output_type": "execute_result"
    }
   ],
   "source": [
    "# MSE is 10% of the average value.\n",
    "benchmark_mse / hpi_returns['MonthlyChangeInHPI'].mean()"
   ]
  },
  {
   "cell_type": "code",
   "execution_count": 15,
   "metadata": {},
   "outputs": [
    {
     "data": {
      "text/plain": [
       "0.12102376819224779"
      ]
     },
     "execution_count": 15,
     "metadata": {},
     "output_type": "execute_result"
    }
   ],
   "source": [
    "benchmark_mse / hpi_returns.query('Area == \"TREB Total\" & Type == \"Composite\"')['MonthlyChangeInHPI'].mean()"
   ]
  },
  {
   "cell_type": "markdown",
   "metadata": {},
   "source": [
    "### MSE by Area & Housing Type"
   ]
  },
  {
   "cell_type": "code",
   "execution_count": 16,
   "metadata": {},
   "outputs": [
    {
     "data": {
      "text/plain": [
       "Area                    Type                  \n",
       "Adjala-Tosorontio       Composite                 0.001136\n",
       "                        Single-Family Detached    0.001134\n",
       "Ajax                    Apartment                 0.000575\n",
       "                        Composite                 0.000451\n",
       "                        Single-Family Attached    0.000469\n",
       "                                                    ...   \n",
       "Whitchurch-Stouffville  Apartment                 0.000761\n",
       "                        Composite                 0.000702\n",
       "                        Single-Family Attached    0.001138\n",
       "                        Single-Family Detached    0.000734\n",
       "                        Townhouse                 0.000569\n",
       "Length: 286, dtype: float64"
      ]
     },
     "execution_count": 16,
     "metadata": {},
     "output_type": "execute_result"
    }
   ],
   "source": [
    "benchmark_mse_by_area_and_type = (\n",
    "    validation\n",
    "        .groupby(['Area', 'Type'])\n",
    "        .apply(lambda x: mean_squared_error(x['MonthlyChangeInHPI'], x['ForecastedMonthlyChangeInHPI']))\n",
    ")\n",
    "benchmark_mse_by_area_and_type"
   ]
  },
  {
   "cell_type": "markdown",
   "metadata": {},
   "source": [
    "## Probability of a Positive Return"
   ]
  },
  {
   "cell_type": "code",
   "execution_count": 17,
   "metadata": {},
   "outputs": [
    {
     "data": {
      "text/plain": [
       "count    19833.000000\n",
       "mean         0.622139\n",
       "std          0.123345\n",
       "min          0.000000\n",
       "25%          0.540541\n",
       "50%          0.620690\n",
       "75%          0.694444\n",
       "max          1.000000\n",
       "Name: ForecastedPositiveReturn, dtype: float64"
      ]
     },
     "execution_count": 17,
     "metadata": {},
     "output_type": "execute_result"
    }
   ],
   "source": [
    "validation['ForecastedPositiveReturn'].describe()"
   ]
  },
  {
   "cell_type": "code",
   "execution_count": null,
   "metadata": {},
   "outputs": [],
   "source": []
  }
 ],
 "metadata": {
  "kernelspec": {
   "display_name": "Python 3",
   "language": "python",
   "name": "python3"
  },
  "language_info": {
   "codemirror_mode": {
    "name": "ipython",
    "version": 3
   },
   "file_extension": ".py",
   "mimetype": "text/x-python",
   "name": "python",
   "nbconvert_exporter": "python",
   "pygments_lexer": "ipython3",
   "version": "3.8.5"
  }
 },
 "nbformat": 4,
 "nbformat_minor": 4
}
