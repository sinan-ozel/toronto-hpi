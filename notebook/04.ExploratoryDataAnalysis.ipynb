{
 "cells": [
  {
   "cell_type": "code",
   "execution_count": 1,
   "metadata": {},
   "outputs": [],
   "source": [
    "import os\n",
    "import pandas as pd\n",
    "import seaborn as sns\n",
    "import random"
   ]
  },
  {
   "cell_type": "code",
   "execution_count": 2,
   "metadata": {},
   "outputs": [],
   "source": [
    "data_folder = '../03.clean-data/'\n",
    "positive_monthly_return_cutoff = 0.002"
   ]
  },
  {
   "cell_type": "markdown",
   "metadata": {},
   "source": [
    "## Load Data"
   ]
  },
  {
   "cell_type": "code",
   "execution_count": 3,
   "metadata": {},
   "outputs": [],
   "source": [
    "hpi = pd.read_csv(os.path.join(data_folder, 'hpi.csv'), parse_dates=['Date']) # Load\n",
    "hpi.sort_values(['Area', 'Type', 'Date'], inplace=True) # Sort\n",
    "hpi.reset_index(inplace=True)"
   ]
  },
  {
   "cell_type": "code",
   "execution_count": 4,
   "metadata": {},
   "outputs": [
    {
     "data": {
      "text/plain": [
       "level_0             int64\n",
       "index               int64\n",
       "Area               object\n",
       "Date       datetime64[ns]\n",
       "Type               object\n",
       "HPI               float64\n",
       "dtype: object"
      ]
     },
     "execution_count": 4,
     "metadata": {},
     "output_type": "execute_result"
    }
   ],
   "source": [
    "hpi.dtypes"
   ]
  },
  {
   "cell_type": "code",
   "execution_count": 5,
   "metadata": {},
   "outputs": [],
   "source": [
    "housing_types = hpi['Type'].unique().tolist()\n",
    "areas = hpi['Area'].unique().tolist()"
   ]
  },
  {
   "cell_type": "markdown",
   "metadata": {},
   "source": [
    "## Get Monthly Changes (\"Returns\")"
   ]
  },
  {
   "cell_type": "code",
   "execution_count": 6,
   "metadata": {},
   "outputs": [],
   "source": [
    "# \"Return\" refers to a monthly change over last month, used in financial and economic data sets often.\n",
    "# In this case, it can be seen as \"monthly return\" on investment in real estate."
   ]
  },
  {
   "cell_type": "code",
   "execution_count": 7,
   "metadata": {},
   "outputs": [],
   "source": [
    "hpi_returns = hpi.copy()"
   ]
  },
  {
   "cell_type": "code",
   "execution_count": 8,
   "metadata": {},
   "outputs": [],
   "source": [
    "hpi_returns['HPI.L1'] = hpi_returns.groupby(['Area', 'Type'])['HPI'].shift(1)\n",
    "hpi_returns['HPI.L12'] = hpi_returns.groupby(['Area', 'Type'])['HPI'].shift(12)"
   ]
  },
  {
   "cell_type": "code",
   "execution_count": 9,
   "metadata": {},
   "outputs": [
    {
     "data": {
      "text/html": [
       "<div>\n",
       "<style scoped>\n",
       "    .dataframe tbody tr th:only-of-type {\n",
       "        vertical-align: middle;\n",
       "    }\n",
       "\n",
       "    .dataframe tbody tr th {\n",
       "        vertical-align: top;\n",
       "    }\n",
       "\n",
       "    .dataframe thead th {\n",
       "        text-align: right;\n",
       "    }\n",
       "</style>\n",
       "<table border=\"1\" class=\"dataframe\">\n",
       "  <thead>\n",
       "    <tr style=\"text-align: right;\">\n",
       "      <th></th>\n",
       "      <th>Area</th>\n",
       "      <th>Type</th>\n",
       "      <th>Date</th>\n",
       "      <th>HPI</th>\n",
       "      <th>HPI.L1</th>\n",
       "      <th>HPI.L12</th>\n",
       "    </tr>\n",
       "  </thead>\n",
       "  <tbody>\n",
       "    <tr>\n",
       "      <th>10730</th>\n",
       "      <td>Toronto C07</td>\n",
       "      <td>Townhouse</td>\n",
       "      <td>2017-12-01</td>\n",
       "      <td>226.2</td>\n",
       "      <td>225.2</td>\n",
       "      <td>198.0</td>\n",
       "    </tr>\n",
       "    <tr>\n",
       "      <th>10731</th>\n",
       "      <td>Toronto C07</td>\n",
       "      <td>Townhouse</td>\n",
       "      <td>2018-01-01</td>\n",
       "      <td>231.6</td>\n",
       "      <td>226.2</td>\n",
       "      <td>204.9</td>\n",
       "    </tr>\n",
       "    <tr>\n",
       "      <th>10732</th>\n",
       "      <td>Toronto C07</td>\n",
       "      <td>Townhouse</td>\n",
       "      <td>2018-02-01</td>\n",
       "      <td>229.6</td>\n",
       "      <td>231.6</td>\n",
       "      <td>196.2</td>\n",
       "    </tr>\n",
       "    <tr>\n",
       "      <th>10733</th>\n",
       "      <td>Toronto C07</td>\n",
       "      <td>Townhouse</td>\n",
       "      <td>2018-03-01</td>\n",
       "      <td>235.2</td>\n",
       "      <td>229.6</td>\n",
       "      <td>195.5</td>\n",
       "    </tr>\n",
       "    <tr>\n",
       "      <th>10734</th>\n",
       "      <td>Toronto C07</td>\n",
       "      <td>Townhouse</td>\n",
       "      <td>2018-04-01</td>\n",
       "      <td>248.6</td>\n",
       "      <td>235.2</td>\n",
       "      <td>204.5</td>\n",
       "    </tr>\n",
       "    <tr>\n",
       "      <th>10735</th>\n",
       "      <td>Toronto C07</td>\n",
       "      <td>Townhouse</td>\n",
       "      <td>2018-05-01</td>\n",
       "      <td>244.9</td>\n",
       "      <td>248.6</td>\n",
       "      <td>213.5</td>\n",
       "    </tr>\n",
       "    <tr>\n",
       "      <th>10736</th>\n",
       "      <td>Toronto C07</td>\n",
       "      <td>Townhouse</td>\n",
       "      <td>2018-06-01</td>\n",
       "      <td>243.8</td>\n",
       "      <td>244.9</td>\n",
       "      <td>233.4</td>\n",
       "    </tr>\n",
       "    <tr>\n",
       "      <th>10737</th>\n",
       "      <td>Toronto C07</td>\n",
       "      <td>Townhouse</td>\n",
       "      <td>2018-07-01</td>\n",
       "      <td>241.5</td>\n",
       "      <td>243.8</td>\n",
       "      <td>246.2</td>\n",
       "    </tr>\n",
       "    <tr>\n",
       "      <th>10738</th>\n",
       "      <td>Toronto C07</td>\n",
       "      <td>Townhouse</td>\n",
       "      <td>2018-08-01</td>\n",
       "      <td>243.5</td>\n",
       "      <td>241.5</td>\n",
       "      <td>240.1</td>\n",
       "    </tr>\n",
       "    <tr>\n",
       "      <th>10739</th>\n",
       "      <td>Toronto C07</td>\n",
       "      <td>Townhouse</td>\n",
       "      <td>2018-09-01</td>\n",
       "      <td>242.3</td>\n",
       "      <td>243.5</td>\n",
       "      <td>229.3</td>\n",
       "    </tr>\n",
       "    <tr>\n",
       "      <th>10740</th>\n",
       "      <td>Toronto C07</td>\n",
       "      <td>Townhouse</td>\n",
       "      <td>2018-10-01</td>\n",
       "      <td>243.4</td>\n",
       "      <td>242.3</td>\n",
       "      <td>232.9</td>\n",
       "    </tr>\n",
       "    <tr>\n",
       "      <th>10741</th>\n",
       "      <td>Toronto C07</td>\n",
       "      <td>Townhouse</td>\n",
       "      <td>2018-11-01</td>\n",
       "      <td>241.9</td>\n",
       "      <td>243.4</td>\n",
       "      <td>225.2</td>\n",
       "    </tr>\n",
       "    <tr>\n",
       "      <th>10742</th>\n",
       "      <td>Toronto C07</td>\n",
       "      <td>Townhouse</td>\n",
       "      <td>2018-12-01</td>\n",
       "      <td>237.9</td>\n",
       "      <td>241.9</td>\n",
       "      <td>226.2</td>\n",
       "    </tr>\n",
       "    <tr>\n",
       "      <th>10743</th>\n",
       "      <td>Toronto C07</td>\n",
       "      <td>Townhouse</td>\n",
       "      <td>2019-01-01</td>\n",
       "      <td>239.6</td>\n",
       "      <td>237.9</td>\n",
       "      <td>231.6</td>\n",
       "    </tr>\n",
       "    <tr>\n",
       "      <th>10744</th>\n",
       "      <td>Toronto C07</td>\n",
       "      <td>Townhouse</td>\n",
       "      <td>2019-02-01</td>\n",
       "      <td>242.7</td>\n",
       "      <td>239.6</td>\n",
       "      <td>229.6</td>\n",
       "    </tr>\n",
       "  </tbody>\n",
       "</table>\n",
       "</div>"
      ],
      "text/plain": [
       "              Area       Type       Date    HPI  HPI.L1  HPI.L12\n",
       "10730  Toronto C07  Townhouse 2017-12-01  226.2   225.2    198.0\n",
       "10731  Toronto C07  Townhouse 2018-01-01  231.6   226.2    204.9\n",
       "10732  Toronto C07  Townhouse 2018-02-01  229.6   231.6    196.2\n",
       "10733  Toronto C07  Townhouse 2018-03-01  235.2   229.6    195.5\n",
       "10734  Toronto C07  Townhouse 2018-04-01  248.6   235.2    204.5\n",
       "10735  Toronto C07  Townhouse 2018-05-01  244.9   248.6    213.5\n",
       "10736  Toronto C07  Townhouse 2018-06-01  243.8   244.9    233.4\n",
       "10737  Toronto C07  Townhouse 2018-07-01  241.5   243.8    246.2\n",
       "10738  Toronto C07  Townhouse 2018-08-01  243.5   241.5    240.1\n",
       "10739  Toronto C07  Townhouse 2018-09-01  242.3   243.5    229.3\n",
       "10740  Toronto C07  Townhouse 2018-10-01  243.4   242.3    232.9\n",
       "10741  Toronto C07  Townhouse 2018-11-01  241.9   243.4    225.2\n",
       "10742  Toronto C07  Townhouse 2018-12-01  237.9   241.9    226.2\n",
       "10743  Toronto C07  Townhouse 2019-01-01  239.6   237.9    231.6\n",
       "10744  Toronto C07  Townhouse 2019-02-01  242.7   239.6    229.6"
      ]
     },
     "execution_count": 9,
     "metadata": {},
     "output_type": "execute_result"
    }
   ],
   "source": [
    "idx = random.randint(0, len(hpi))\n",
    "hpi_returns.sort_values(['Area', 'Type', 'Date'])[['Area', 'Type', 'Date', 'HPI', 'HPI.L1', 'HPI.L12']][idx:idx + 15]"
   ]
  },
  {
   "cell_type": "code",
   "execution_count": 10,
   "metadata": {},
   "outputs": [],
   "source": [
    "hpi_returns['MonthlyChangeInHPI'] = (hpi_returns['HPI'] - hpi_returns['HPI.L1']) / hpi_returns['HPI.L1']\n",
    "hpi_returns['YearlyChangeInHPI'] = (hpi_returns['HPI'] - hpi_returns['HPI.L12']) / hpi_returns['HPI.L12']"
   ]
  },
  {
   "cell_type": "code",
   "execution_count": 11,
   "metadata": {},
   "outputs": [
    {
     "data": {
      "text/html": [
       "<div>\n",
       "<style scoped>\n",
       "    .dataframe tbody tr th:only-of-type {\n",
       "        vertical-align: middle;\n",
       "    }\n",
       "\n",
       "    .dataframe tbody tr th {\n",
       "        vertical-align: top;\n",
       "    }\n",
       "\n",
       "    .dataframe thead th {\n",
       "        text-align: right;\n",
       "    }\n",
       "</style>\n",
       "<table border=\"1\" class=\"dataframe\">\n",
       "  <thead>\n",
       "    <tr style=\"text-align: right;\">\n",
       "      <th></th>\n",
       "      <th>Area</th>\n",
       "      <th>Type</th>\n",
       "      <th>Date</th>\n",
       "      <th>HPI</th>\n",
       "      <th>HPI.L1</th>\n",
       "      <th>MonthlyChangeInHPI</th>\n",
       "      <th>YearlyChangeInHPI</th>\n",
       "    </tr>\n",
       "  </thead>\n",
       "  <tbody>\n",
       "    <tr>\n",
       "      <th>0</th>\n",
       "      <td>Adjala-Tosorontio</td>\n",
       "      <td>Apartment</td>\n",
       "      <td>2015-07-01</td>\n",
       "      <td>NaN</td>\n",
       "      <td>NaN</td>\n",
       "      <td>NaN</td>\n",
       "      <td>NaN</td>\n",
       "    </tr>\n",
       "    <tr>\n",
       "      <th>1</th>\n",
       "      <td>Adjala-Tosorontio</td>\n",
       "      <td>Apartment</td>\n",
       "      <td>2015-08-01</td>\n",
       "      <td>NaN</td>\n",
       "      <td>NaN</td>\n",
       "      <td>NaN</td>\n",
       "      <td>NaN</td>\n",
       "    </tr>\n",
       "    <tr>\n",
       "      <th>2</th>\n",
       "      <td>Adjala-Tosorontio</td>\n",
       "      <td>Apartment</td>\n",
       "      <td>2015-09-01</td>\n",
       "      <td>NaN</td>\n",
       "      <td>NaN</td>\n",
       "      <td>NaN</td>\n",
       "      <td>NaN</td>\n",
       "    </tr>\n",
       "    <tr>\n",
       "      <th>3</th>\n",
       "      <td>Adjala-Tosorontio</td>\n",
       "      <td>Apartment</td>\n",
       "      <td>2015-10-01</td>\n",
       "      <td>NaN</td>\n",
       "      <td>NaN</td>\n",
       "      <td>NaN</td>\n",
       "      <td>NaN</td>\n",
       "    </tr>\n",
       "    <tr>\n",
       "      <th>4</th>\n",
       "      <td>Adjala-Tosorontio</td>\n",
       "      <td>Apartment</td>\n",
       "      <td>2015-11-01</td>\n",
       "      <td>NaN</td>\n",
       "      <td>NaN</td>\n",
       "      <td>NaN</td>\n",
       "      <td>NaN</td>\n",
       "    </tr>\n",
       "    <tr>\n",
       "      <th>...</th>\n",
       "      <td>...</td>\n",
       "      <td>...</td>\n",
       "      <td>...</td>\n",
       "      <td>...</td>\n",
       "      <td>...</td>\n",
       "      <td>...</td>\n",
       "      <td>...</td>\n",
       "    </tr>\n",
       "    <tr>\n",
       "      <th>27080</th>\n",
       "      <td>Whitchurch-Stouffville</td>\n",
       "      <td>Townhouse</td>\n",
       "      <td>2020-12-01</td>\n",
       "      <td>250.9</td>\n",
       "      <td>254.8</td>\n",
       "      <td>-0.015306</td>\n",
       "      <td>0.112639</td>\n",
       "    </tr>\n",
       "    <tr>\n",
       "      <th>27081</th>\n",
       "      <td>Whitchurch-Stouffville</td>\n",
       "      <td>Townhouse</td>\n",
       "      <td>2021-01-01</td>\n",
       "      <td>249.6</td>\n",
       "      <td>250.9</td>\n",
       "      <td>-0.005181</td>\n",
       "      <td>0.086162</td>\n",
       "    </tr>\n",
       "    <tr>\n",
       "      <th>27082</th>\n",
       "      <td>Whitchurch-Stouffville</td>\n",
       "      <td>Townhouse</td>\n",
       "      <td>2021-02-01</td>\n",
       "      <td>261.8</td>\n",
       "      <td>249.6</td>\n",
       "      <td>0.048878</td>\n",
       "      <td>0.107445</td>\n",
       "    </tr>\n",
       "    <tr>\n",
       "      <th>27083</th>\n",
       "      <td>Whitchurch-Stouffville</td>\n",
       "      <td>Townhouse</td>\n",
       "      <td>2021-03-01</td>\n",
       "      <td>279.2</td>\n",
       "      <td>261.8</td>\n",
       "      <td>0.066463</td>\n",
       "      <td>0.163333</td>\n",
       "    </tr>\n",
       "    <tr>\n",
       "      <th>27084</th>\n",
       "      <td>Whitchurch-Stouffville</td>\n",
       "      <td>Townhouse</td>\n",
       "      <td>2021-04-01</td>\n",
       "      <td>294.8</td>\n",
       "      <td>279.2</td>\n",
       "      <td>0.055874</td>\n",
       "      <td>0.240741</td>\n",
       "    </tr>\n",
       "  </tbody>\n",
       "</table>\n",
       "<p>27085 rows × 7 columns</p>\n",
       "</div>"
      ],
      "text/plain": [
       "                         Area       Type       Date    HPI  HPI.L1  \\\n",
       "0           Adjala-Tosorontio  Apartment 2015-07-01    NaN     NaN   \n",
       "1           Adjala-Tosorontio  Apartment 2015-08-01    NaN     NaN   \n",
       "2           Adjala-Tosorontio  Apartment 2015-09-01    NaN     NaN   \n",
       "3           Adjala-Tosorontio  Apartment 2015-10-01    NaN     NaN   \n",
       "4           Adjala-Tosorontio  Apartment 2015-11-01    NaN     NaN   \n",
       "...                       ...        ...        ...    ...     ...   \n",
       "27080  Whitchurch-Stouffville  Townhouse 2020-12-01  250.9   254.8   \n",
       "27081  Whitchurch-Stouffville  Townhouse 2021-01-01  249.6   250.9   \n",
       "27082  Whitchurch-Stouffville  Townhouse 2021-02-01  261.8   249.6   \n",
       "27083  Whitchurch-Stouffville  Townhouse 2021-03-01  279.2   261.8   \n",
       "27084  Whitchurch-Stouffville  Townhouse 2021-04-01  294.8   279.2   \n",
       "\n",
       "       MonthlyChangeInHPI  YearlyChangeInHPI  \n",
       "0                     NaN                NaN  \n",
       "1                     NaN                NaN  \n",
       "2                     NaN                NaN  \n",
       "3                     NaN                NaN  \n",
       "4                     NaN                NaN  \n",
       "...                   ...                ...  \n",
       "27080           -0.015306           0.112639  \n",
       "27081           -0.005181           0.086162  \n",
       "27082            0.048878           0.107445  \n",
       "27083            0.066463           0.163333  \n",
       "27084            0.055874           0.240741  \n",
       "\n",
       "[27085 rows x 7 columns]"
      ]
     },
     "execution_count": 11,
     "metadata": {},
     "output_type": "execute_result"
    }
   ],
   "source": [
    "hpi_returns.sort_values(['Area', 'Type', 'Date'])[['Area', 'Type', 'Date', 'HPI', 'HPI.L1', 'MonthlyChangeInHPI', 'YearlyChangeInHPI']]"
   ]
  },
  {
   "cell_type": "markdown",
   "metadata": {},
   "source": [
    "## What is the average return from real estate?"
   ]
  },
  {
   "cell_type": "code",
   "execution_count": 12,
   "metadata": {},
   "outputs": [
    {
     "data": {
      "text/plain": [
       "0.007301359295723676"
      ]
     },
     "execution_count": 12,
     "metadata": {},
     "output_type": "execute_result"
    }
   ],
   "source": [
    "average_monthly_return = hpi_returns.query('Area == \"TREB Total\" & Type == \"Composite\"')['MonthlyChangeInHPI'].mean()\n",
    "average_monthly_return"
   ]
  },
  {
   "cell_type": "code",
   "execution_count": 13,
   "metadata": {},
   "outputs": [
    {
     "data": {
      "text/plain": [
       "0.09122181638033888"
      ]
     },
     "execution_count": 13,
     "metadata": {},
     "output_type": "execute_result"
    }
   ],
   "source": [
    "# Annualization may NOT be appropriate in this case: we do not collect the return from real estate and re-invest every month.\n",
    "average_annualized_return = ((1 + average_monthly_return) ** 12) - 1\n",
    "average_annualized_return"
   ]
  },
  {
   "cell_type": "code",
   "execution_count": 14,
   "metadata": {},
   "outputs": [
    {
     "data": {
      "text/plain": [
       "0.09583392879756937"
      ]
     },
     "execution_count": 14,
     "metadata": {},
     "output_type": "execute_result"
    }
   ],
   "source": [
    "average_yearly_return = hpi_returns.query('Area == \"TREB Total\" & Type == \"Composite\"')['YearlyChangeInHPI'].mean()\n",
    "average_yearly_return"
   ]
  },
  {
   "cell_type": "code",
   "execution_count": 15,
   "metadata": {},
   "outputs": [
    {
     "data": {
      "text/plain": [
       "0.08761631154868411"
      ]
     },
     "execution_count": 15,
     "metadata": {},
     "output_type": "execute_result"
    }
   ],
   "source": [
    "# Non-annualized yearly return.\n",
    "average_monthly_return * 12"
   ]
  },
  {
   "cell_type": "code",
   "execution_count": 16,
   "metadata": {},
   "outputs": [
    {
     "data": {
      "text/plain": [
       "0.053834833042590846"
      ]
     },
     "execution_count": 16,
     "metadata": {},
     "output_type": "execute_result"
    }
   ],
   "source": [
    "# Ten year return annualied.\n",
    "(1 + average_monthly_return * 120) ** (1/12) - 1"
   ]
  },
  {
   "cell_type": "code",
   "execution_count": 17,
   "metadata": {},
   "outputs": [
    {
     "data": {
      "text/plain": [
       "count    86.000000\n",
       "mean      0.007301\n",
       "std       0.013264\n",
       "min      -0.046494\n",
       "25%       0.000149\n",
       "50%       0.007248\n",
       "75%       0.012355\n",
       "max       0.062185\n",
       "Name: MonthlyChangeInHPI, dtype: float64"
      ]
     },
     "execution_count": 17,
     "metadata": {},
     "output_type": "execute_result"
    }
   ],
   "source": [
    "hpi_returns.query('Area == \"TREB Total\" & Type == \"Composite\"')['MonthlyChangeInHPI'].describe()"
   ]
  },
  {
   "cell_type": "code",
   "execution_count": 18,
   "metadata": {},
   "outputs": [
    {
     "data": {
      "image/png": "[encoded data removed]",
      "text/plain": [
       "<Figure size 1008x504 with 1 Axes>"
      ]
     },
     "metadata": {},
     "output_type": "display_data"
    }
   ],
   "source": [
    "with sns.plotting_context(\"paper\", font_scale=1.8):\n",
    "    with sns.axes_style(\"whitegrid\"):\n",
    "        ax = hpi_returns.query('Area == \"TREB Total\" & Type == \"Composite\"')['MonthlyChangeInHPI'].hist()\n",
    "        ax.figure.set_figwidth(14)\n",
    "        ax.figure.set_figheight(7)\n"
   ]
  },
  {
   "cell_type": "markdown",
   "metadata": {},
   "source": [
    "## What is the average return from real estate for a random area and housing type?"
   ]
  },
  {
   "cell_type": "code",
   "execution_count": 19,
   "metadata": {},
   "outputs": [],
   "source": [
    "random_housing_type = random.choice(housing_types)\n",
    "housing_type = random_housing_type\n",
    "random_area = random.choice(areas)\n",
    "area = random_area\n",
    "area = 'Toronto C01'\n",
    "housing_type = 'Single-Family Detached'"
   ]
  },
  {
   "cell_type": "code",
   "execution_count": 20,
   "metadata": {},
   "outputs": [
    {
     "data": {
      "text/plain": [
       "count    102.000000\n",
       "mean       0.006433\n",
       "std        0.029054\n",
       "min       -0.059145\n",
       "25%       -0.015803\n",
       "50%        0.008194\n",
       "75%        0.027310\n",
       "max        0.117492\n",
       "Name: MonthlyChangeInHPI, dtype: float64"
      ]
     },
     "execution_count": 20,
     "metadata": {},
     "output_type": "execute_result"
    }
   ],
   "source": [
    "hpi_returns.query(f'Area == \"{area}\" & Type == \"{housing_type}\"')['MonthlyChangeInHPI'].describe()"
   ]
  },
  {
   "cell_type": "code",
   "execution_count": 21,
   "metadata": {},
   "outputs": [
    {
     "data": {
      "image/png": "[encoded data removed]",
      "text/plain": [
       "<Figure size 1008x504 with 1 Axes>"
      ]
     },
     "metadata": {},
     "output_type": "display_data"
    }
   ],
   "source": [
    "with sns.plotting_context(\"paper\", font_scale=1.8):\n",
    "    with sns.axes_style(\"whitegrid\"):\n",
    "        ax = hpi_returns.query(f'Area == \"{area}\" & Type == \"{housing_type}\"')['MonthlyChangeInHPI'].hist()\n",
    "        ax.figure.set_figwidth(14)\n",
    "        ax.figure.set_figheight(7)\n",
    "        ax.set_title(f\"{area} - {housing_type}\")\n"
   ]
  },
  {
   "cell_type": "markdown",
   "metadata": {},
   "source": [
    "## What Percentange of the Time Does Real Estate Bring a Positive Return in a Given Month?"
   ]
  },
  {
   "cell_type": "code",
   "execution_count": 22,
   "metadata": {},
   "outputs": [
    {
     "data": {
      "text/plain": [
       "0.6627906976744186"
      ]
     },
     "execution_count": 22,
     "metadata": {},
     "output_type": "execute_result"
    }
   ],
   "source": [
    "(\n",
    "    (hpi_returns.query('Area == \"TREB Total\" & Type == \"Composite\"')['MonthlyChangeInHPI'] > positive_monthly_return_cutoff).sum()\n",
    "        /\n",
    "    len(hpi_returns[hpi_returns['MonthlyChangeInHPI'].notnull()].query('Area == \"TREB Total\" & Type == \"Composite\"'))\n",
    ")"
   ]
  },
  {
   "cell_type": "markdown",
   "metadata": {},
   "source": [
    "## What is the Average Yearly Return for a Given Area & Housing Type?"
   ]
  },
  {
   "cell_type": "code",
   "execution_count": 23,
   "metadata": {},
   "outputs": [],
   "source": [
    "average_yearly_return_by_area = hpi_returns.groupby(['Area', 'Type'])['YearlyChangeInHPI'].mean()\n",
    "average_monthly_return_by_area = hpi_returns.groupby(['Area', 'Type'])['MonthlyChangeInHPI'].mean()\n",
    "average_annualized_return_by_area = (((1 + average_monthly_return_by_area) ** 12) - 1).rename('AnnualizedMonthlyChangeInHPI')"
   ]
  },
  {
   "cell_type": "code",
   "execution_count": 24,
   "metadata": {},
   "outputs": [
    {
     "data": {
      "text/plain": [
       "count    286.000000\n",
       "mean       0.098600\n",
       "std        0.039644\n",
       "min       -0.229423\n",
       "25%        0.082197\n",
       "50%        0.099009\n",
       "75%        0.116029\n",
       "max        0.227865\n",
       "Name: YearlyChangeInHPI, dtype: float64"
      ]
     },
     "execution_count": 24,
     "metadata": {},
     "output_type": "execute_result"
    }
   ],
   "source": [
    "average_yearly_return_by_area.describe()"
   ]
  },
  {
   "cell_type": "code",
   "execution_count": 25,
   "metadata": {},
   "outputs": [
    {
     "data": {
      "text/plain": [
       "count    286.000000\n",
       "mean       0.008456\n",
       "std        0.003049\n",
       "min       -0.018138\n",
       "25%        0.007167\n",
       "50%        0.008548\n",
       "75%        0.009988\n",
       "max        0.018445\n",
       "Name: MonthlyChangeInHPI, dtype: float64"
      ]
     },
     "execution_count": 25,
     "metadata": {},
     "output_type": "execute_result"
    }
   ],
   "source": [
    "average_monthly_return_by_area.describe()"
   ]
  },
  {
   "cell_type": "code",
   "execution_count": 26,
   "metadata": {},
   "outputs": [
    {
     "data": {
      "text/plain": [
       "count    286.000000\n",
       "mean       0.106971\n",
       "std        0.038236\n",
       "min       -0.197201\n",
       "25%        0.089472\n",
       "50%        0.107544\n",
       "75%        0.126661\n",
       "max        0.245228\n",
       "Name: AnnualizedMonthlyChangeInHPI, dtype: float64"
      ]
     },
     "execution_count": 26,
     "metadata": {},
     "output_type": "execute_result"
    }
   ],
   "source": [
    "# Annualization does seem to be give figures similar to yearly returns, so I can use annualization.\n",
    "# This earns my 11 extra data points for estimation for each area and housing type.\n",
    "# Why are yearly returns important? Because monthly return figures are not intuitive for most audiences: They are small and not used in practice.\n",
    "average_annualized_return_by_area.describe()"
   ]
  },
  {
   "cell_type": "code",
   "execution_count": 27,
   "metadata": {},
   "outputs": [
    {
     "data": {
      "text/plain": [
       "Area                    Type     \n",
       "Scugog                  Apartment         NaN\n",
       "East Gwillimbury        Apartment         NaN\n",
       "Richmond Hill           Apartment    0.105290\n",
       "East Gwillimbury        Composite    0.096726\n",
       "Whitchurch-Stouffville  Townhouse    0.053583\n",
       "Name: YearlyChangeInHPI, dtype: float64"
      ]
     },
     "execution_count": 27,
     "metadata": {},
     "output_type": "execute_result"
    }
   ],
   "source": [
    "average_yearly_return_by_area.sample(5)"
   ]
  },
  {
   "cell_type": "markdown",
   "metadata": {},
   "source": [
    "## What Percentange of the Time Does Real Estate Bring a Positive Return in a Given Month?\n",
    "### (by Area and Housing Type)"
   ]
  },
  {
   "cell_type": "code",
   "execution_count": 28,
   "metadata": {},
   "outputs": [
    {
     "data": {
      "text/plain": [
       "Area                    Type                  \n",
       "Adjala-Tosorontio       Apartment                      NaN\n",
       "                        Composite                 0.705882\n",
       "                        Single-Family Attached         NaN\n",
       "                        Single-Family Detached    0.705882\n",
       "                        Townhouse                      NaN\n",
       "                                                    ...   \n",
       "Whitchurch-Stouffville  Apartment                 0.444444\n",
       "                        Composite                 0.661765\n",
       "                        Single-Family Attached    0.647059\n",
       "                        Single-Family Detached    0.647059\n",
       "                        Townhouse                 0.488889\n",
       "Length: 305, dtype: float64"
      ]
     },
     "execution_count": 28,
     "metadata": {},
     "output_type": "execute_result"
    }
   ],
   "source": [
    "(\n",
    "    hpi_returns.groupby(['Area', 'Type'])['MonthlyChangeInHPI'].apply(lambda x: (x > positive_monthly_return_cutoff).sum())\n",
    "        /\n",
    "    hpi_returns[hpi_returns['MonthlyChangeInHPI'].notnull()].groupby(['Area', 'Type']).apply(len)\n",
    ")"
   ]
  },
  {
   "cell_type": "code",
   "execution_count": null,
   "metadata": {},
   "outputs": [],
   "source": []
  },
  {
   "cell_type": "code",
   "execution_count": null,
   "metadata": {},
   "outputs": [],
   "source": []
  },
  {
   "cell_type": "code",
   "execution_count": null,
   "metadata": {},
   "outputs": [],
   "source": []
  }
 ],
 "metadata": {
  "kernelspec": {
   "display_name": "Python 3",
   "language": "python",
   "name": "python3"
  },
  "language_info": {
   "codemirror_mode": {
    "name": "ipython",
    "version": 3
   },
   "file_extension": ".py",
   "mimetype": "text/x-python",
   "name": "python",
   "nbconvert_exporter": "python",
   "pygments_lexer": "ipython3",
   "version": "3.8.5"
  }
 },
 "nbformat": 4,
 "nbformat_minor": 4
}
